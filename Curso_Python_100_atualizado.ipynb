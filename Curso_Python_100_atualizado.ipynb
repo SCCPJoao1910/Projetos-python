{
  "nbformat": 4,
  "nbformat_minor": 0,
  "metadata": {
    "colab": {
      "provenance": [],
      "authorship_tag": "ABX9TyPV4HaN/VKRtHQ/LePh6t78",
      "include_colab_link": true
    },
    "kernelspec": {
      "name": "python3",
      "display_name": "Python 3"
    },
    "language_info": {
      "name": "python"
    }
  },
  "cells": [
    {
      "cell_type": "markdown",
      "metadata": {
        "id": "view-in-github",
        "colab_type": "text"
      },
      "source": [
        "<a href=\"https://colab.research.google.com/github/SCCPJoao1910/Projetos-python/blob/main/Curso_Python_100_atualizado.ipynb\" target=\"_parent\"><img src=\"https://colab.research.google.com/assets/colab-badge.svg\" alt=\"Open In Colab\"/></a>"
      ]
    },
    {
      "cell_type": "code",
      "execution_count": null,
      "metadata": {
        "colab": {
          "base_uri": "https://localhost:8080/"
        },
        "id": "c8-hjq0AOg25",
        "outputId": "da7b56d0-b043-4ff3-ba41-b327d61b31e1"
      },
      "outputs": [
        {
          "output_type": "stream",
          "name": "stdout",
          "text": [
            "Olá Mundo \n"
          ]
        }
      ],
      "source": [
        "print (\"Olá Mundo \")"
      ]
    },
    {
      "cell_type": "code",
      "source": [
        "print(int(8))"
      ],
      "metadata": {
        "colab": {
          "base_uri": "https://localhost:8080/"
        },
        "id": "XodCNiCMKCNH",
        "outputId": "4d53094d-7943-4f81-e15a-48e20f16245d"
      },
      "execution_count": null,
      "outputs": [
        {
          "output_type": "stream",
          "name": "stdout",
          "text": [
            "8\n"
          ]
        }
      ]
    },
    {
      "cell_type": "markdown",
      "source": [
        "# Curso Python\n",
        "> *Aula 1*\n",
        "\n",
        "* *Operadores Primitivos*\n",
        " * String - STR\n",
        " * Intergers - INT\n",
        " * Float\n",
        " * Booleans - Bool\n"
      ],
      "metadata": {
        "id": "WabWsbIjELWw"
      }
    },
    {
      "cell_type": "markdown",
      "source": [
        "## Objetos e Variaveis\n"
      ],
      "metadata": {
        "id": "tslARupeORs4"
      }
    },
    {
      "cell_type": "code",
      "source": [
        "# meu nome\n",
        "print(\"João\")"
      ],
      "metadata": {
        "colab": {
          "base_uri": "https://localhost:8080/"
        },
        "id": "Wk-lRKKOOJ5X",
        "outputId": "963bd923-7e1c-486c-d19f-f2889a2ec730"
      },
      "execution_count": null,
      "outputs": [
        {
          "output_type": "stream",
          "name": "stdout",
          "text": [
            "João\n"
          ]
        }
      ]
    },
    {
      "cell_type": "code",
      "source": [
        "# meu nome\n",
        "\n",
        "# variavel e  objeto\n",
        "nome = \"João\""
      ],
      "metadata": {
        "id": "Rie30L0dPP_I"
      },
      "execution_count": null,
      "outputs": []
    },
    {
      "cell_type": "code",
      "source": [
        "print(nome)"
      ],
      "metadata": {
        "colab": {
          "base_uri": "https://localhost:8080/"
        },
        "id": "z2eIexQ8RkMI",
        "outputId": "5bca7797-bd04-4cc9-cfc7-3bc1784d0090"
      },
      "execution_count": null,
      "outputs": [
        {
          "output_type": "stream",
          "name": "stdout",
          "text": [
            "João\n"
          ]
        }
      ]
    },
    {
      "cell_type": "code",
      "source": [
        "# meus dados\n",
        "\n",
        "nome = str(\"João\")\n",
        "idade = int(\"24\")\n",
        "tem_carteira = True"
      ],
      "metadata": {
        "id": "XIaUDyLnRqDI"
      },
      "execution_count": null,
      "outputs": []
    },
    {
      "cell_type": "code",
      "source": [
        "print(type(tem_carteira))"
      ],
      "metadata": {
        "colab": {
          "base_uri": "https://localhost:8080/"
        },
        "id": "hQS3FavBSbp4",
        "outputId": "f33b70b7-240c-4eec-8559-ad2fb15a8d51"
      },
      "execution_count": null,
      "outputs": [
        {
          "output_type": "stream",
          "name": "stdout",
          "text": [
            "<class 'bool'>\n"
          ]
        }
      ]
    },
    {
      "cell_type": "code",
      "source": [
        "print(type(nome))"
      ],
      "metadata": {
        "colab": {
          "base_uri": "https://localhost:8080/"
        },
        "id": "R5IUPX7tSj1Y",
        "outputId": "6010f796-1027-409f-9bfc-eee3326edf3d"
      },
      "execution_count": null,
      "outputs": [
        {
          "output_type": "stream",
          "name": "stdout",
          "text": [
            "<class 'str'>\n"
          ]
        }
      ]
    },
    {
      "cell_type": "code",
      "source": [
        "print(type(24))"
      ],
      "metadata": {
        "colab": {
          "base_uri": "https://localhost:8080/"
        },
        "id": "GFCwSK7kSq6I",
        "outputId": "40793b16-97b7-47da-e760-13d93a3fc89b"
      },
      "execution_count": null,
      "outputs": [
        {
          "output_type": "stream",
          "name": "stdout",
          "text": [
            "<class 'int'>\n"
          ]
        }
      ]
    },
    {
      "cell_type": "code",
      "source": [
        "input(\"qual seu nome ?\")"
      ],
      "metadata": {
        "id": "vbXbIbDQSwdI",
        "colab": {
          "base_uri": "https://localhost:8080/",
          "height": 53
        },
        "outputId": "cfdc68ab-0830-418e-d03d-25607f4691c9"
      },
      "execution_count": null,
      "outputs": [
        {
          "name": "stdout",
          "output_type": "stream",
          "text": [
            "qual seu nome ?João\n"
          ]
        },
        {
          "output_type": "execute_result",
          "data": {
            "text/plain": [
              "'João'"
            ],
            "application/vnd.google.colaboratory.intrinsic+json": {
              "type": "string"
            }
          },
          "metadata": {},
          "execution_count": 76
        }
      ]
    },
    {
      "cell_type": "code",
      "source": [
        "print(\" ========== \")\n",
        "print(\" Bom dia, tudo bem ? \")\n",
        "nome = input(\" Qual o seu nome ? \")\n",
        "\n",
        "idade = int(input(\" Qual a sua idade ? \"))\n",
        "\n",
        "print(type(idade))"
      ],
      "metadata": {
        "colab": {
          "base_uri": "https://localhost:8080/"
        },
        "id": "tN-uZm9hXMvL",
        "outputId": "ec90aff1-73ae-46b0-d8b5-82185a2b10bc"
      },
      "execution_count": null,
      "outputs": [
        {
          "output_type": "stream",
          "name": "stdout",
          "text": [
            " ========== \n",
            " Bom dia, tudo bem ? \n",
            " Qual o seu nome ? João\n",
            " Qual a sua idade ? 24\n",
            "<class 'int'>\n"
          ]
        }
      ]
    },
    {
      "cell_type": "code",
      "source": [
        "print(f\"O seu nome {nome}, e a sua idade: {idade}\")"
      ],
      "metadata": {
        "colab": {
          "base_uri": "https://localhost:8080/"
        },
        "id": "U5uSZSQsZ_G7",
        "outputId": "aee21cd6-bc03-4829-fb30-5aee3d091c7c"
      },
      "execution_count": null,
      "outputs": [
        {
          "output_type": "stream",
          "name": "stdout",
          "text": [
            "O seu nome João, e a sua idade: 24\n"
          ]
        }
      ]
    },
    {
      "cell_type": "code",
      "source": [
        "Nome = str(\"João\")\n",
        "idade = int(\"24\")\n",
        "altura = float(\"178\")\n",
        "maior_de_idade = True"
      ],
      "metadata": {
        "id": "LHXBq8FoZ7fa"
      },
      "execution_count": null,
      "outputs": []
    },
    {
      "cell_type": "code",
      "source": [
        "print(\" ========== \")\n",
        "print(f\"O {nome} tem {idade}, mede {altura}m e é maior de idade: {True}\")"
      ],
      "metadata": {
        "colab": {
          "base_uri": "https://localhost:8080/"
        },
        "id": "1xszlnkvcjEc",
        "outputId": "9147a51d-0624-4066-82fe-6dd8028d49fe"
      },
      "execution_count": null,
      "outputs": [
        {
          "output_type": "stream",
          "name": "stdout",
          "text": [
            " ========== \n",
            "O João tem 24, mede 178.0m e é maior de idade: True\n"
          ]
        }
      ]
    },
    {
      "cell_type": "code",
      "source": [
        "Nome = str(\"João\")\n",
        "idade = int(\"24\")\n",
        "altura = float(\"1.78\")\n",
        "maior_de_idade = True"
      ],
      "metadata": {
        "id": "hxCX5Jlodn7c"
      },
      "execution_count": null,
      "outputs": []
    },
    {
      "cell_type": "code",
      "source": [
        "print(\" ========== \")\n",
        "print(f\"O {nome} tem {idade}, mede {altura}m e é maior de idade: {True}\")"
      ],
      "metadata": {
        "colab": {
          "base_uri": "https://localhost:8080/"
        },
        "id": "AK52VmPjdtmb",
        "outputId": "7e7ec4a6-ff6f-4fbc-f66c-fc6b9ebf302b"
      },
      "execution_count": null,
      "outputs": [
        {
          "output_type": "stream",
          "name": "stdout",
          "text": [
            " ========== \n",
            "O João tem 24, mede 1.78m e é maior de idade: True\n"
          ]
        }
      ]
    },
    {
      "cell_type": "code",
      "source": [
        "Numero1 = 12\n",
        "Numero2 = 7\n",
        "\n",
        "resultado = Numero1 + Numero2\n",
        "\n",
        "print(resultado)\n"
      ],
      "metadata": {
        "colab": {
          "base_uri": "https://localhost:8080/"
        },
        "id": "LGKBoagVdvd7",
        "outputId": "d7cd02ab-1ca1-4b37-cd4d-201e0b51498e"
      },
      "execution_count": null,
      "outputs": [
        {
          "output_type": "stream",
          "name": "stdout",
          "text": [
            "19\n"
          ]
        }
      ]
    },
    {
      "cell_type": "code",
      "source": [
        "numero_inteiro = (\"8\")\n",
        "\n",
        "numero_float = float(\"8\")"
      ],
      "metadata": {
        "id": "sb0MVYQn0TtT"
      },
      "execution_count": null,
      "outputs": []
    },
    {
      "cell_type": "code",
      "source": [
        "print(numero_float)"
      ],
      "metadata": {
        "colab": {
          "base_uri": "https://localhost:8080/"
        },
        "id": "AVe6Ej-90xdj",
        "outputId": "f0c3f4fd-8103-41b2-e98f-bdee13a023e1"
      },
      "execution_count": null,
      "outputs": [
        {
          "output_type": "stream",
          "name": "stdout",
          "text": [
            "8.0\n"
          ]
        }
      ]
    },
    {
      "cell_type": "code",
      "source": [
        "print(type(numero_float))"
      ],
      "metadata": {
        "colab": {
          "base_uri": "https://localhost:8080/"
        },
        "id": "9hsPXm2X01tD",
        "outputId": "6ab5659a-7e2f-4d36-8b0f-749d1274702a"
      },
      "execution_count": null,
      "outputs": [
        {
          "output_type": "stream",
          "name": "stdout",
          "text": [
            "<class 'float'>\n"
          ]
        }
      ]
    },
    {
      "cell_type": "code",
      "source": [
        "numero_inteiro = (\"12\")\n",
        "numero_float = float(\"12\")"
      ],
      "metadata": {
        "id": "b7YVO_5y1B7T"
      },
      "execution_count": null,
      "outputs": []
    },
    {
      "cell_type": "markdown",
      "source": [
        "## Operadores Númericos\n",
        "\n",
        "### Operadores primarios\n",
        "\n",
        "* \" + \" Adição <Br>\n",
        "* \"-\" Subtração <Br>\n",
        "* \"*\" Multiplicação <Br>\n",
        "* \"/\" Divisão <Br>\n",
        "\n",
        "#### Operadores Númericos\n",
        "\n",
        "* Potencia <Br>\n",
        "\n",
        "#### Quando da divisão\n",
        "\n",
        "* Divisor - Primeiro número\n",
        "* Dividindo - Segundo número\n",
        "* Quociente - \" // \"\n",
        "* Resto - Sobra da divisão\n"
      ],
      "metadata": {
        "id": "Vxb8-S9m2Kq1"
      }
    },
    {
      "cell_type": "markdown",
      "source": [
        "### Operadores Relacionais\n",
        "\n",
        "\" == \" - Igual\n",
        "\n",
        "\" != \" - Difrente de\n",
        "\n",
        "\" > \" - Maior que\n",
        "\n",
        "\" >= \" - Maior ou igual\n",
        "\n",
        "\" < \" - Menor que\n",
        "\n",
        "\" <= \" - Menor ou igual\n"
      ],
      "metadata": {
        "id": "F5nb8e1eClVg"
      }
    },
    {
      "cell_type": "code",
      "source": [
        "numero_inteiro = (\"12\")\n",
        "numero_float = float(\"12\")"
      ],
      "metadata": {
        "id": "6UFsApk67-gW"
      },
      "execution_count": null,
      "outputs": []
    },
    {
      "cell_type": "code",
      "source": [
        "print(numero_float)"
      ],
      "metadata": {
        "colab": {
          "base_uri": "https://localhost:8080/"
        },
        "id": "x1MmXMvW8Op3",
        "outputId": "0cc2ab50-d44e-44a2-ec30-fe777f6e8965"
      },
      "execution_count": null,
      "outputs": [
        {
          "output_type": "stream",
          "name": "stdout",
          "text": [
            "12.0\n"
          ]
        }
      ]
    },
    {
      "cell_type": "code",
      "source": [
        "# BRINCANDO COM OS OPERADORES\n",
        "\n",
        "num1 = 5\n",
        "num2 = 2\n",
        "\n",
        "print(num1 / num2) # divisão direta\n",
        "print(num1 // num2) # Quociente\n",
        "print(num1 % num2) # Sobra da divisão"
      ],
      "metadata": {
        "colab": {
          "base_uri": "https://localhost:8080/"
        },
        "id": "ZVbELcLy8lwl",
        "outputId": "59e84790-8674-4a7c-ba24-7478611f2c9f"
      },
      "execution_count": null,
      "outputs": [
        {
          "output_type": "stream",
          "name": "stdout",
          "text": [
            "2.5\n",
            "2\n",
            "1\n"
          ]
        }
      ]
    },
    {
      "cell_type": "markdown",
      "source": [
        "# EXERCICIOS"
      ],
      "metadata": {
        "id": "c09pT2kgBv3_"
      }
    },
    {
      "cell_type": "code",
      "source": [
        "# Diga um número e eu direi se é impár ou par.\n",
        "\n",
        "print(\"----------------\")\n",
        "numero = int(input(\" Digite um número, e eu responderei se é impar ou par\"))\n",
        "resultado = numero % 2\n",
        "final = resultado == 0\n",
        "print(f\"Se o seu número, estiver True, ele é par, False ele é impar.\")\n",
        "print(f\"Seu número {final}\")\n"
      ],
      "metadata": {
        "colab": {
          "base_uri": "https://localhost:8080/"
        },
        "id": "UxsOZxzTGSU4",
        "outputId": "3acb077d-c04b-40bf-c8e3-54dc28860e36"
      },
      "execution_count": null,
      "outputs": [
        {
          "output_type": "stream",
          "name": "stdout",
          "text": [
            "----------------\n",
            " Digite um número, e eu responderei se é impar ou par5\n",
            "Se o seu número, estiver True, ele é par, False ele é impar.\n",
            "Seu número False\n"
          ]
        }
      ]
    },
    {
      "cell_type": "code",
      "source": [
        "# Diga um número e eu direi se é impár ou par.\n",
        "\n",
        "print(\"----------------\")\n",
        "numero = int(input(\" Digite um número, e eu responderei se é impar ou par\"))\n",
        "resultado = numero % 2\n",
        "final = resultado == 0\n",
        "print(f\"Se o seu número, estiver True, ele é par, False ele é impar.\")\n",
        "print(f\"Seu número {final}\")"
      ],
      "metadata": {
        "colab": {
          "base_uri": "https://localhost:8080/"
        },
        "id": "zH-qUbItGWaH",
        "outputId": "79c80a78-17af-4b58-8522-7f69eb4524e1"
      },
      "execution_count": null,
      "outputs": [
        {
          "output_type": "stream",
          "name": "stdout",
          "text": [
            "----------------\n",
            " Digite um número, e eu responderei se é impar ou par4\n",
            "Se o seu número, estiver True, ele é par, False ele é impar.\n",
            "Seu número True\n"
          ]
        }
      ]
    },
    {
      "cell_type": "code",
      "source": [
        "# Diga um número e eu direi se é impár ou par.\n",
        "\n",
        "print(\"----------------\")\n",
        "numero = int(input(\" Digite um número, e eu responderei se é impar ou par\"))\n",
        "resultado = numero / 2\n",
        "final = resultado == 0\n",
        "print(f\"Se o seu número, estiver True, ele é par, False ele é impar.\")\n",
        "print(f\"Seu número {final}\")"
      ],
      "metadata": {
        "colab": {
          "base_uri": "https://localhost:8080/"
        },
        "id": "W_JxC8ANT7ku",
        "outputId": "bf5de2c3-f173-42e7-d5c5-b495deacd3aa"
      },
      "execution_count": null,
      "outputs": [
        {
          "output_type": "stream",
          "name": "stdout",
          "text": [
            "----------------\n",
            " Digite um número, e eu responderei se é impar ou par5\n",
            "Se o seu número, estiver True, ele é par, False ele é impar.\n",
            "Seu número False\n"
          ]
        }
      ]
    },
    {
      "cell_type": "code",
      "source": [
        "# Peça a nota e calcule a média de resultado\n",
        "nota1 = int(input(\"Nota 1: \"))\n",
        "nota2 = int(input(\"Nota 2: \"))\n",
        "nota3 = int(input(\"Nota 3: \"))\n",
        "media = (nota1 + nota2 + nota3)/3\n",
        "print(\"Calculando... \")\n",
        "print(f\"Sua média final é {media}, e o tipo da média é {type(media)}\")"
      ],
      "metadata": {
        "colab": {
          "base_uri": "https://localhost:8080/"
        },
        "id": "ZKgbkjtDGqLA",
        "outputId": "9c2704bd-63a8-4086-98c0-f3765cba9853"
      },
      "execution_count": null,
      "outputs": [
        {
          "output_type": "stream",
          "name": "stdout",
          "text": [
            "Nota 1: 6\n",
            "Nota 2: 8\n",
            "Nota 3: 5\n",
            "Calculando... \n",
            "Sua média final é 6.333333333333333, e o tipo da média é <class 'float'>\n"
          ]
        }
      ]
    },
    {
      "cell_type": "code",
      "source": [
        "nota1 = int(input(\"Nota 1: \"))\n",
        "nota2 = int(input(\"Nota 2: \"))\n",
        "nota3 = int(input(\"Nota 3: \"))\n",
        "media = (nota1 + nota2 + nota3)/3\n",
        "print(\"Calculando...\")\n",
        "print(f\"Sua média final é {media}, e o tipo da média é {type(media)}\")"
      ],
      "metadata": {
        "colab": {
          "base_uri": "https://localhost:8080/"
        },
        "id": "27A9JmQIKCo5",
        "outputId": "2b02e7a4-3aed-4fa2-cd84-441c4fd4289b"
      },
      "execution_count": null,
      "outputs": [
        {
          "output_type": "stream",
          "name": "stdout",
          "text": [
            "Nota 1: 8\n",
            "Nota 2: 7\n",
            "Nota 3: 10\n",
            "Calculando...\n",
            "Sua média final é 8.333333333333334, e o tipo da média é <class 'float'>\n"
          ]
        }
      ]
    },
    {
      "cell_type": "code",
      "source": [
        "print(type(123))"
      ],
      "metadata": {
        "colab": {
          "base_uri": "https://localhost:8080/"
        },
        "id": "JrgYepmxPmra",
        "outputId": "e01b2fe4-795b-439a-e33a-7ded0534b443"
      },
      "execution_count": null,
      "outputs": [
        {
          "output_type": "stream",
          "name": "stdout",
          "text": [
            "<class 'int'>\n"
          ]
        }
      ]
    },
    {
      "cell_type": "code",
      "source": [
        "print(type(\"Olá mundo\"))"
      ],
      "metadata": {
        "colab": {
          "base_uri": "https://localhost:8080/"
        },
        "id": "qxmo7BK2SPGa",
        "outputId": "171edb92-da9d-40a1-9470-7b6b995b18d8"
      },
      "execution_count": null,
      "outputs": [
        {
          "output_type": "stream",
          "name": "stdout",
          "text": [
            "<class 'str'>\n"
          ]
        }
      ]
    },
    {
      "cell_type": "code",
      "source": [
        "Nome = str(\"Yuri\")\n",
        "idade = int(\"22\")\n",
        "maior_de_idade = True"
      ],
      "metadata": {
        "id": "8Y1WAU44Snma"
      },
      "execution_count": null,
      "outputs": []
    },
    {
      "cell_type": "code",
      "source": [
        "print(type(3.14))"
      ],
      "metadata": {
        "colab": {
          "base_uri": "https://localhost:8080/"
        },
        "id": "wy0A6r5_TUYq",
        "outputId": "d9a54ec7-4d92-40c3-b30e-f59970bcae5f"
      },
      "execution_count": null,
      "outputs": [
        {
          "output_type": "stream",
          "name": "stdout",
          "text": [
            "<class 'float'>\n"
          ]
        }
      ]
    },
    {
      "cell_type": "code",
      "source": [
        "print(\"-------------\")\n",
        "\n",
        "print(\"Boa tarde, tudo bem ? \")\n",
        "nome = input(\"Qual é o seu nome ? \")"
      ],
      "metadata": {
        "colab": {
          "base_uri": "https://localhost:8080/"
        },
        "id": "eFYHg7ICUbA7",
        "outputId": "0204b733-8048-43ab-f5be-40b2899dbe5a"
      },
      "execution_count": null,
      "outputs": [
        {
          "name": "stdout",
          "output_type": "stream",
          "text": [
            "-------------\n",
            "Boa tarde, tudo bem ? \n",
            "Qual é o seu nome ? João\n"
          ]
        }
      ]
    },
    {
      "cell_type": "code",
      "source": [
        "Valor = input(\" Coloque um número inteiro\")\n",
        "Valor2 = int(input(\" Coloque um número inteiro\"))\n",
        "\n",
        "print(type(Valor))"
      ],
      "metadata": {
        "colab": {
          "base_uri": "https://localhost:8080/"
        },
        "id": "E4_vJcmuU8tr",
        "outputId": "176e5073-fcc5-42c1-f259-1f5b619b5ee1"
      },
      "execution_count": null,
      "outputs": [
        {
          "output_type": "stream",
          "name": "stdout",
          "text": [
            " Coloque um número inteiro1\n",
            " Coloque um número inteiro10\n",
            "<class 'str'>\n"
          ]
        }
      ]
    },
    {
      "cell_type": "code",
      "source": [
        "Numero1 : (\"5\")\n",
        "numero_float : float(5)"
      ],
      "metadata": {
        "id": "1ag6rWJrYCpM"
      },
      "execution_count": null,
      "outputs": []
    },
    {
      "cell_type": "code",
      "source": [
        "num = 5\n",
        "num_float = float(\"5\")\n",
        "\n",
        "print(num_float)"
      ],
      "metadata": {
        "colab": {
          "base_uri": "https://localhost:8080/"
        },
        "id": "ufCr3wWVYWFM",
        "outputId": "756075c1-d26d-4cce-a881-7a0642e92247"
      },
      "execution_count": null,
      "outputs": [
        {
          "output_type": "stream",
          "name": "stdout",
          "text": [
            "5.0\n"
          ]
        }
      ]
    },
    {
      "cell_type": "code",
      "source": [
        "Valor = 9.5\n",
        "valor_float = float(\"9.5\")\n",
        "print(valor_float)"
      ],
      "metadata": {
        "colab": {
          "base_uri": "https://localhost:8080/"
        },
        "id": "whYemAjSYp0s",
        "outputId": "edc33fbb-061a-428b-e01f-8665ed1c3e1a"
      },
      "execution_count": null,
      "outputs": [
        {
          "output_type": "stream",
          "name": "stdout",
          "text": [
            "9.5\n"
          ]
        }
      ]
    },
    {
      "cell_type": "code",
      "source": [
        "print(type(valor_float))"
      ],
      "metadata": {
        "colab": {
          "base_uri": "https://localhost:8080/"
        },
        "id": "h_NAWAE6Y_6c",
        "outputId": "41afd463-d4d7-4a30-a8a7-268c4e7c382f"
      },
      "execution_count": null,
      "outputs": [
        {
          "output_type": "stream",
          "name": "stdout",
          "text": [
            "<class 'float'>\n"
          ]
        }
      ]
    },
    {
      "cell_type": "code",
      "source": [
        "Valor = 3.14\n",
        "valor_int = int(3.14)\n",
        "print(valor_int)"
      ],
      "metadata": {
        "colab": {
          "base_uri": "https://localhost:8080/"
        },
        "id": "4Hfo6DV_ZGMc",
        "outputId": "fb356d8e-b522-4e4d-ca96-03a020abc91e"
      },
      "execution_count": null,
      "outputs": [
        {
          "output_type": "stream",
          "name": "stdout",
          "text": [
            "3\n"
          ]
        }
      ]
    },
    {
      "cell_type": "code",
      "source": [
        "Valor = True\n",
        "valor_bool = bool(\"True\")\n",
        "\n",
        "print(valor_bool)"
      ],
      "metadata": {
        "colab": {
          "base_uri": "https://localhost:8080/"
        },
        "id": "j0nizgMVZYvc",
        "outputId": "90d6e055-5d1f-4bec-9597-4081a3deaafe"
      },
      "execution_count": null,
      "outputs": [
        {
          "output_type": "stream",
          "name": "stdout",
          "text": [
            "True\n"
          ]
        }
      ]
    },
    {
      "cell_type": "code",
      "source": [
        "valor1 = input(\"Coloque o primeiro valor: \")\n",
        "valor2 = input(\"Coloque o seugndo valor: \")\n",
        "\n",
        "print(type(\"valor1\"))\n",
        "print(type(\"valor2\"))"
      ],
      "metadata": {
        "colab": {
          "base_uri": "https://localhost:8080/"
        },
        "id": "r4mqOtHhdSbN",
        "outputId": "62c6d276-4a09-4c1a-ae0d-5d75a6961f05"
      },
      "execution_count": null,
      "outputs": [
        {
          "output_type": "stream",
          "name": "stdout",
          "text": [
            "Coloque o primeiro valor: 10\n",
            "Coloque o seugndo valor: 8.1\n",
            "<class 'str'>\n",
            "<class 'str'>\n"
          ]
        }
      ]
    },
    {
      "cell_type": "code",
      "source": [
        "numero_str = input(\"Digite um numero: \")\n",
        "numero_int = int(numero_str)\n",
        "resultado = numero_int + 10\n",
        "\n",
        "print(f\"O resultado da soma é: {resultado}\")"
      ],
      "metadata": {
        "id": "ItoB23kAdgNt",
        "colab": {
          "base_uri": "https://localhost:8080/"
        },
        "outputId": "31ff98a0-ab69-4cc0-d922-60559fb17f48"
      },
      "execution_count": null,
      "outputs": [
        {
          "output_type": "stream",
          "name": "stdout",
          "text": [
            "Digite um numero: 25\n",
            "O resultado da soma é: 35\n"
          ]
        }
      ]
    },
    {
      "cell_type": "code",
      "source": [
        "numero_str = input(\"Digite um numero: \")\n",
        "numero_int = int(numero_str)\n",
        "resultado = numero_int + 30\n",
        "\n",
        "print(f\"O resultado da soma é: {resultado}\")"
      ],
      "metadata": {
        "colab": {
          "base_uri": "https://localhost:8080/"
        },
        "id": "XMMOhTejOXCM",
        "outputId": "4aebeca1-26e7-4c0a-e02e-43471ac326b6"
      },
      "execution_count": null,
      "outputs": [
        {
          "output_type": "stream",
          "name": "stdout",
          "text": [
            "Digite um numero: 20\n",
            "O resultado da soma é: 50\n"
          ]
        }
      ]
    },
    {
      "cell_type": "code",
      "source": [
        "numero_str = input(\"Digite um numero: \")\n",
        "numero_int = int(numero_str)\n",
        "resultado = numero_int - 60\n",
        "\n",
        "print(f\"O resultado da subtração é: {resultado}\")"
      ],
      "metadata": {
        "colab": {
          "base_uri": "https://localhost:8080/"
        },
        "id": "-R5-KLMxQ__y",
        "outputId": "c1bb99a0-8251-49fe-b5ef-7a0e91ffaa7c"
      },
      "execution_count": null,
      "outputs": [
        {
          "output_type": "stream",
          "name": "stdout",
          "text": [
            "Digite um numero: 20\n",
            "O resultado da subtração é: -40\n"
          ]
        }
      ]
    },
    {
      "cell_type": "code",
      "source": [
        "nome = input(\"Digite seu nome: \")\n",
        "print(f\"Olá, {nome}\")"
      ],
      "metadata": {
        "colab": {
          "base_uri": "https://localhost:8080/"
        },
        "id": "TAS5KZsMSNjw",
        "outputId": "918d22f8-c65e-4b6f-866b-6514f2d8bb3f"
      },
      "execution_count": null,
      "outputs": [
        {
          "output_type": "stream",
          "name": "stdout",
          "text": [
            "Digite seu nome: Joao\n",
            "Olá, Joao\n"
          ]
        }
      ]
    },
    {
      "cell_type": "code",
      "source": [
        "nome = input(\"Digite seu nome: \")\n",
        "print(f\"Olá, Bom dia {nome}\")"
      ],
      "metadata": {
        "colab": {
          "base_uri": "https://localhost:8080/"
        },
        "id": "VdCFnrngSyzw",
        "outputId": "2658153b-0450-43b3-a13b-447b127b6ef2"
      },
      "execution_count": null,
      "outputs": [
        {
          "output_type": "stream",
          "name": "stdout",
          "text": [
            "Digite seu nome: Joao\n",
            "Olá, Bom dia Joao\n"
          ]
        }
      ]
    },
    {
      "cell_type": "code",
      "source": [
        "idade = input(\"Digite a sua idade: \")\n",
        "print(f\"Você tem {idade} anos\")"
      ],
      "metadata": {
        "colab": {
          "base_uri": "https://localhost:8080/"
        },
        "id": "aAZQCNIkS_so",
        "outputId": "ace84377-84b3-4b5c-fd7b-60f4bfd9a91b"
      },
      "execution_count": null,
      "outputs": [
        {
          "output_type": "stream",
          "name": "stdout",
          "text": [
            "Digite a sua idade: 24\n",
            "Você tem 24 anos\n"
          ]
        }
      ]
    },
    {
      "cell_type": "code",
      "source": [
        "profissao = input(\"Digite sua profissao: \")\n",
        "print(f\"Você trabalha com {profissao} \")"
      ],
      "metadata": {
        "colab": {
          "base_uri": "https://localhost:8080/"
        },
        "id": "4E6ckAxsTqFw",
        "outputId": "f904a79e-ada7-481d-e4d7-63e60ac4a2d2"
      },
      "execution_count": null,
      "outputs": [
        {
          "output_type": "stream",
          "name": "stdout",
          "text": [
            "Digite sua profissao: Futebol\n",
            "Você trabalha com Futebol \n"
          ]
        }
      ]
    },
    {
      "cell_type": "code",
      "source": [
        "num1 = input(\"Digite um numero: \")\n",
        "num2 = input(\"Digite um numero: \")\n",
        "\n"
      ],
      "metadata": {
        "colab": {
          "base_uri": "https://localhost:8080/"
        },
        "id": "7gtfax_dUId5",
        "outputId": "012e7bbc-9799-4ff5-ec87-25c7c08b89f4"
      },
      "execution_count": null,
      "outputs": [
        {
          "name": "stdout",
          "output_type": "stream",
          "text": [
            "Digite um numero: 2\n",
            "Digite um numero: 3\n"
          ]
        }
      ]
    },
    {
      "cell_type": "code",
      "source": [
        "# PEÇA AO USUARIO UM NUMERO E RETORNE A RAIZ QUADRADA DESSE NUMERO\n",
        "\n",
        "numero = float(input(\"Digite um numero quebrado: \"))\n",
        "\n",
        "numero = numero ** (1/2)\n",
        "print(f\" a raiz do numero é {numero} \")"
      ],
      "metadata": {
        "colab": {
          "base_uri": "https://localhost:8080/"
        },
        "id": "rZlCI5CYbuCv",
        "outputId": "c956ee8a-6923-4a25-8020-58d9d0f2079b"
      },
      "execution_count": null,
      "outputs": [
        {
          "output_type": "stream",
          "name": "stdout",
          "text": [
            "Digite um numero quebrado: 25\n",
            " a raiz do numero é 5.0 \n"
          ]
        }
      ]
    },
    {
      "cell_type": "code",
      "source": [
        "b1 = float(input(\"Digite sua nota: \"))\n",
        "b2 = float(input(\"Digite sua nota: \"))\n",
        "b3 = float(input(\"Digite sua nota: \"))\n",
        "b4 = float(input(\"Digite sua nota: \"))\n",
        "\n",
        "media = (b1 * 1 + b2 * 2 + b3 * 3 + b4 * 4) / 10\n",
        "\n",
        "print(f\"Sua media é: {media} .2\")"
      ],
      "metadata": {
        "colab": {
          "base_uri": "https://localhost:8080/"
        },
        "id": "v74HhyJPkHf4",
        "outputId": "db5098c7-02be-4270-d966-0b33ae7fa695"
      },
      "execution_count": null,
      "outputs": [
        {
          "output_type": "stream",
          "name": "stdout",
          "text": [
            "Digite sua nota: 5\n",
            "Digite sua nota: 5\n",
            "Digite sua nota: 5\n",
            "Digite sua nota: 5\n",
            "Sua media é: 5.0 .2\n"
          ]
        }
      ]
    },
    {
      "cell_type": "code",
      "source": [
        " num1 = float(input(\"Digite o primeiro numero: \"))\n",
        " num2 = float(input(\"Digite o segundo numero: \"))\n",
        "\n",
        " resultado = num1 - num2\n",
        "\n",
        " print(f\"A subtração entre {num1} e {num2} é: {resultado}\")"
      ],
      "metadata": {
        "id": "ti-6jPRdt5Ov",
        "colab": {
          "base_uri": "https://localhost:8080/"
        },
        "outputId": "4f8e2b34-b35e-4fe2-cbc2-f53375dcec50"
      },
      "execution_count": null,
      "outputs": [
        {
          "output_type": "stream",
          "name": "stdout",
          "text": [
            "Digite o primeiro numero: 5\n",
            "Digite o segundo numero: 3\n",
            "A subtração entre 5.0 e 3.0 é: 2.0\n"
          ]
        }
      ]
    },
    {
      "cell_type": "code",
      "source": [
        "num1 = float(input(\"Digite o primeiro numero: \"))\n",
        "num2 = float(input(\"Digite o segundo numero: \"))\n",
        "\n",
        "resultado = num1 * num2\n",
        "\n",
        "print(f\"A multipliação entre {num1} e {num2} é: {resultado}\")"
      ],
      "metadata": {
        "colab": {
          "base_uri": "https://localhost:8080/"
        },
        "id": "2W3lmUN_h_Ug",
        "outputId": "b1955937-3333-4c7b-eac9-12cd805d6fb7"
      },
      "execution_count": null,
      "outputs": [
        {
          "output_type": "stream",
          "name": "stdout",
          "text": [
            "Digite o primeiro numero: 25\n",
            "Digite o segundo numero: 15\n",
            "A multipliação entre 25.0 e 15.0 é: 375.0\n"
          ]
        }
      ]
    },
    {
      "cell_type": "code",
      "source": [
        "num = float(input(\"Digite um numero: \"))\n",
        "\n",
        "dobro = num * 2\n",
        "triplo = num * 3\n",
        "raiz = num ** 0.5\n",
        "\n",
        "print(f\"O dobro de {num} é {dobro}\")\n",
        "print(f\"O triplo de {num} é {triplo}\")\n",
        "print(f\"A raiz quadrada de {num} é {raiz: .2f}\")"
      ],
      "metadata": {
        "colab": {
          "base_uri": "https://localhost:8080/"
        },
        "id": "V_ki4isUi83Y",
        "outputId": "aad8ff5d-8a70-4e6d-ba13-4f1ffdc10768"
      },
      "execution_count": null,
      "outputs": [
        {
          "output_type": "stream",
          "name": "stdout",
          "text": [
            "Digite um numero: 2\n",
            "O dobro de 2.0 é 4.0\n",
            "O triplo de 2.0 é 6.0\n",
            "A raiz quadrada de 2.0 é  1.41\n"
          ]
        }
      ]
    },
    {
      "cell_type": "code",
      "source": [
        "nome= input(\"Digite seu nome: \")\n",
        "idade = input(\"Digite sua idade: \")\n",
        "\n",
        "print(f\"Olá, {nome} Você tem {idade} anos\")"
      ],
      "metadata": {
        "colab": {
          "base_uri": "https://localhost:8080/"
        },
        "id": "_oXpJauElOdH",
        "outputId": "17d4420c-9fc9-43d1-a69e-2f9b42e73a8e"
      },
      "execution_count": null,
      "outputs": [
        {
          "output_type": "stream",
          "name": "stdout",
          "text": [
            "Digite seu nome: João\n",
            "Digite sua idade: 24\n",
            "Olá, João Você tem 24 anos\n"
          ]
        }
      ]
    },
    {
      "cell_type": "code",
      "source": [
        "nome = \"João\"\n",
        "print(f\"O nome é {nome} e o tipo da variavel é {type(nome)}\")"
      ],
      "metadata": {
        "colab": {
          "base_uri": "https://localhost:8080/"
        },
        "id": "nYHObKRKtG4G",
        "outputId": "4e68bb34-e9c3-4d69-c541-b285b3746d8a"
      },
      "execution_count": null,
      "outputs": [
        {
          "output_type": "stream",
          "name": "stdout",
          "text": [
            "O nome é João e o tipo da variavel é <class 'str'>\n"
          ]
        }
      ]
    },
    {
      "cell_type": "code",
      "source": [
        "idade = int(24)\n",
        "print(f\"A idade é {idade}, e o tipo é {type(idade)}\")"
      ],
      "metadata": {
        "colab": {
          "base_uri": "https://localhost:8080/"
        },
        "id": "11dWB-4rtdze",
        "outputId": "93ce344d-6806-4b66-ef2d-105dbb4944c3"
      },
      "execution_count": null,
      "outputs": [
        {
          "output_type": "stream",
          "name": "stdout",
          "text": [
            "A idade é 24, e o tipo é <class 'int'>\n"
          ]
        }
      ]
    },
    {
      "cell_type": "code",
      "source": [
        "maior_de_idade = True\n",
        "print(f\" O tipo da variavel é {type(maior_de_idade)}\")"
      ],
      "metadata": {
        "colab": {
          "base_uri": "https://localhost:8080/"
        },
        "id": "rZOdIT_xt8Nc",
        "outputId": "b13eaa1e-69bb-4c27-876d-94b3605c317b"
      },
      "execution_count": null,
      "outputs": [
        {
          "output_type": "stream",
          "name": "stdout",
          "text": [
            " O tipo da variavel é <class 'bool'>\n"
          ]
        }
      ]
    },
    {
      "cell_type": "code",
      "source": [
        "inteiro = int(24)\n",
        "flotinho = float(2.7)\n",
        "string = (\"Joaozin xD\")\n",
        "boleano = bool(False)\n",
        "\n",
        "print(f\" O INT é {inteiro}, FLOAT é {flotinho}, STRING {string}, BOOL {boleano}\")"
      ],
      "metadata": {
        "colab": {
          "base_uri": "https://localhost:8080/"
        },
        "id": "YX4RIwcCuqSW",
        "outputId": "2545a1a6-3cb0-469a-a878-0b88f19281ad"
      },
      "execution_count": null,
      "outputs": [
        {
          "output_type": "stream",
          "name": "stdout",
          "text": [
            " O INT é 24, FLOAT é 2.7, STRING Joaozin xD, BOOL False\n"
          ]
        }
      ]
    },
    {
      "cell_type": "code",
      "source": [
        "# Tabuada do 7\n",
        "\n",
        "n = 7\n",
        "\n",
        "print(f\"{n} x 1 = {n * 1}\")\n",
        "print(f\"{n} x 2 = {n * 2}\")\n",
        "print(f\"{n} x 3 = {n * 3}\")\n",
        "print(f\"{n} x 4 = {n * 4}\")\n",
        "print(f\"{n} x 5 = {n * 5}\")\n",
        "print(f\"{n} x 6 = {n * 6}\")\n",
        "print(f\"{n} x 7 = {n * 7}\")\n",
        "print(f\"{n} x 8 = {n * 8}\")\n",
        "print(f\"{n} x 9 = {n * 9}\")\n",
        "print(f\"{n} x 10 = {n * 10}\")"
      ],
      "metadata": {
        "colab": {
          "base_uri": "https://localhost:8080/"
        },
        "id": "rzAcE2zeyct9",
        "outputId": "357acd48-a329-4722-9816-1a7131134d82"
      },
      "execution_count": null,
      "outputs": [
        {
          "output_type": "stream",
          "name": "stdout",
          "text": [
            "7 x 1 = 7\n",
            "7 x 2 = 14\n",
            "7 x 3 = 21\n",
            "7 x 4 = 28\n",
            "7 x 5 = 35\n",
            "7 x 6 = 42\n",
            "7 x 7 = 49\n",
            "7 x 8 = 56\n",
            "7 x 9 = 63\n",
            "7 x 10 = 70\n"
          ]
        }
      ]
    },
    {
      "cell_type": "code",
      "source": [
        "# USE O INPUT PARA RECEBER O NOME E ALTURA E USE O PRINT\n",
        "\n",
        "nome = str(input(\"Deixe seu nome: \"))\n",
        "altura = float(input(\"Deixe sua altura: \"))\n",
        "\n",
        "print(f\"Prazer, {nome}, sua altura é {altura} // tipo nome: {type(nome)}, tipo altura {type(altura)} \")"
      ],
      "metadata": {
        "colab": {
          "base_uri": "https://localhost:8080/"
        },
        "id": "fcuNJnVX14xE",
        "outputId": "dcc5d138-f57a-4ba2-965d-fa9eccdfe8ae"
      },
      "execution_count": null,
      "outputs": [
        {
          "output_type": "stream",
          "name": "stdout",
          "text": [
            "Deixe seu nome: João\n",
            "Deixe sua altura: 1.77\n",
            "Prazer, João, sua altura é 1.77 // tipo nome: <class 'str'>, tipo altura <class 'float'> \n"
          ]
        }
      ]
    },
    {
      "cell_type": "code",
      "source": [],
      "metadata": {
        "id": "HdT_LEYb-S9T"
      },
      "execution_count": null,
      "outputs": []
    },
    {
      "cell_type": "markdown",
      "source": [
        "MODULO 2"
      ],
      "metadata": {
        "id": "3QQnrDTdEDRw"
      }
    },
    {
      "cell_type": "markdown",
      "source": [
        "## MÓDULOS"
      ],
      "metadata": {
        "id": "S-zOD47JEPbQ"
      }
    },
    {
      "cell_type": "markdown",
      "source": [
        "### LÓGICA DE PROGRAMAÇÃO\n",
        "\n",
        "> É uma forma de padronizar e construir a resolução de problemas.\n",
        "<br>\n",
        "\n",
        "> A Lógica de programação, utiliza ferramentas padronizadas para entendimento geral.\n",
        ">> FLUXOGRAMA\n",
        ">> ALGORITMO <br>\n",
        ">> MAPA MENTAL\n",
        "\n",
        "<br>\n",
        "\n",
        "### FLUXOGRAMA\n",
        "\n",
        "<br>\n",
        "\n",
        "#### Condições Simples\n",
        "> ocorre quando uma excessão; acontece, ativando\n",
        "\n",
        "#### Condições Compostas\n",
        "> Representa uma bifurcação:\n",
        "\n",
        "  - Se a condição for verdadeira"
      ],
      "metadata": {
        "id": "LbGBNoncEoVw"
      }
    },
    {
      "cell_type": "code",
      "source": [
        "# CONDIÇAO SIMPLES SE CHOVER, PEGA O GUARDA CHUVA\n",
        "\n",
        "print(\" Acordei \")\n",
        "print(\" ======= \")\n",
        "print(\"Você está se arrumando\")\n",
        "\n",
        "print(\"========\")\n",
        "tempo = str(input(\"Vou te ajudar, como esta o dia hoje ? >> chovendo = ch // sol = so : \"))\n",
        "print(\"========\")\n",
        "\n",
        "if tempo == \"ch\":\n",
        "  print(\"leve o guarda-chuva\")\n",
        "\n",
        "print(\"========\")\n",
        "print(\"Saindo de casa\")"
      ],
      "metadata": {
        "colab": {
          "base_uri": "https://localhost:8080/"
        },
        "id": "G1s9e78WeG2s",
        "outputId": "08c995e1-1069-47a4-8cc0-40cd330a5dc2"
      },
      "execution_count": null,
      "outputs": [
        {
          "output_type": "stream",
          "name": "stdout",
          "text": [
            " Acordei \n",
            " ======= \n",
            "Você está se arrumando\n",
            "========\n",
            "Vou te ajudar, como esta o dia hoje ? >> chovendo = ch // sol = so : Ch\n",
            "========\n",
            "========\n",
            "Saindo de casa\n"
          ]
        }
      ]
    },
    {
      "cell_type": "code",
      "source": [
        "# Receba um número do usuário e, caso seja negativo, informe ao usuário.\n",
        "# Informe ao usuario\n",
        "\n",
        "print(\"Inicio\")\n",
        "\n",
        "numero = int(input(\"Escolha seu numero: \"))\n",
        "\n",
        "if numero < 0 : # Condição simples\n",
        "  print(\"Seu numero é negativo\")\n",
        "\n",
        "print(f\"Seu numero é {numero}, e obrigado\")"
      ],
      "metadata": {
        "colab": {
          "base_uri": "https://localhost:8080/"
        },
        "id": "-buGjOnAevAs",
        "outputId": "168eae5a-56b4-4ee5-9a6d-8cab079ef4e5"
      },
      "execution_count": null,
      "outputs": [
        {
          "output_type": "stream",
          "name": "stdout",
          "text": [
            "Inicio\n",
            "Escolha seu numero: -5\n",
            "Seu numero é negativo\n",
            "Seu numero é -5, e obrigado\n"
          ]
        }
      ]
    },
    {
      "cell_type": "code",
      "source": [
        "# Receba uma temperatura se a temperatura for maior que 30º Graus o sistema tem que retornar o \"Dia está quente\", a mensagem final terá que ser \"Tenha um bom dia\"\n",
        "\n",
        "print(\"Inicio\")\n",
        "\n",
        "temperatura = int(input(\"Digite a temperatura: \"))\n",
        "\n",
        "if temperatura > 30 : # Condição simples\n",
        "  print(\"O dia está quente\")\n",
        "\n",
        "  print(f\"A temperatura é {temperatura}, tenha um bom dia\")"
      ],
      "metadata": {
        "colab": {
          "base_uri": "https://localhost:8080/"
        },
        "id": "GSWH2xk1FlJy",
        "outputId": "dce3788e-cf13-4731-bb50-913cdcf50f94"
      },
      "execution_count": null,
      "outputs": [
        {
          "output_type": "stream",
          "name": "stdout",
          "text": [
            "Inicio\n",
            "Digite a temperatura: 31\n",
            "O dia está quente\n",
            "A temperatura é 31, tenha um bom dia\n"
          ]
        }
      ]
    },
    {
      "cell_type": "code",
      "source": [
        "# Criar a variavel biscoito\n",
        "# Receber do usuario a quantidade de biscoito que ele quer\n",
        "# Se o valor for maior que 10 - terá que retornar \"Não temos tantos biscoistos\" a mensagem final terá que ser \"Receba X biscoitos\"\n",
        "\n",
        "print(\"Bem-vindo\")\n",
        "\n",
        "biscoito = int(input(\"Digite a quantidade de biscoito: \"))\n",
        "\n",
        "if biscoito > 10 :\n",
        "  print(\"Infelizmente não temos tantos biscoitos\")\n",
        "\n",
        "print(f\"Aqui estão seus biscoitos, tenha um otimo dia\")\n"
      ],
      "metadata": {
        "colab": {
          "base_uri": "https://localhost:8080/"
        },
        "id": "wAyCMCG0HeYx",
        "outputId": "0f541f37-6a06-4bcc-bb68-5350a896d7cb"
      },
      "execution_count": null,
      "outputs": [
        {
          "output_type": "stream",
          "name": "stdout",
          "text": [
            "Bem-vindo\n",
            "Digite a quantidade de biscoito: 11\n",
            "Infelizmente não temos tantos biscoitos\n",
            "Aqui estão seus biscoitos, tenha um otimo dia\n"
          ]
        }
      ]
    },
    {
      "cell_type": "code",
      "source": [
        "# O programa pergunta a idade do usuario, se a idade for < 18 o programa terá que informar \"Você não pode dirigir, tenha um bom dia\"\n",
        "\n",
        "print(\"Bem-vindo\")\n",
        "\n",
        "idade = int(input(\"Digite a sua idade: \"))\n",
        "\n",
        "if idade < 18 :\n",
        "  print(\"Você não pode dirigir\")\n",
        "\n",
        "print(f\"Tenha um bom dia\")"
      ],
      "metadata": {
        "colab": {
          "base_uri": "https://localhost:8080/"
        },
        "id": "Z-leeQ19LlSA",
        "outputId": "7bc80093-5f06-454e-cc25-91bfe2af2148"
      },
      "execution_count": null,
      "outputs": [
        {
          "output_type": "stream",
          "name": "stdout",
          "text": [
            "Bem-vindo\n",
            "Digite a sua idade: 18\n",
            "Tenha um bom dia\n"
          ]
        }
      ]
    },
    {
      "cell_type": "code",
      "source": [
        "# Senha correta\n",
        "\n",
        "print(\"Bem-vindo\")\n",
        "\n",
        "senha = int(input(\"Digite sua senha: \"))\n",
        "\n",
        "if senha == 1234 :\n",
        "  print(\"Acesso permitido\")\n",
        "\n",
        "print(f\"Tenha um bom dia\")"
      ],
      "metadata": {
        "colab": {
          "base_uri": "https://localhost:8080/"
        },
        "id": "OEel29yDOeUX",
        "outputId": "03808429-f9ee-44af-c2eb-94136b8064c2"
      },
      "execution_count": null,
      "outputs": [
        {
          "output_type": "stream",
          "name": "stdout",
          "text": [
            "Bem-vindo\n",
            "Digite sua senha: 1234\n",
            "Acesso permitido\n",
            "Tenha um bom dia\n"
          ]
        }
      ]
    },
    {
      "cell_type": "code",
      "source": [
        "# Numero par\n",
        "\n",
        "print(\"Bem-vindo\")\n",
        "\n",
        "num : int(input(\"Digite um numero inteiro: \"))\n",
        "\n",
        "if numero / 2 :\n",
        "  print(\"Numero par\")\n",
        "\n",
        "print(f\"Tenha um bom dia\")"
      ],
      "metadata": {
        "colab": {
          "base_uri": "https://localhost:8080/"
        },
        "id": "NSiMtf5zV9ju",
        "outputId": "e2582017-1b34-459a-b4fe-03566ef410ed"
      },
      "execution_count": null,
      "outputs": [
        {
          "output_type": "stream",
          "name": "stdout",
          "text": [
            "Bem-vindo\n",
            "Digite um numero inteiro: 2\n",
            "Numero par\n",
            "Tenha um bom dia\n"
          ]
        }
      ]
    },
    {
      "cell_type": "code",
      "source": [
        "# Produto em estoque\n",
        "\n",
        "print(\"Seja bem-vindo\")\n",
        "\n",
        "estoque = int(input(\"Digite a quantidade: \"))\n",
        "\n",
        "if estoque > 0 :\n",
        "  print(\"Produto disponivel\")\n",
        "\n",
        "print(f\"Tenha um ótimo dia\")"
      ],
      "metadata": {
        "colab": {
          "base_uri": "https://localhost:8080/"
        },
        "id": "zAyzK6UbX6h2",
        "outputId": "189a2f80-d79f-455f-e448-f7101a72b54a"
      },
      "execution_count": null,
      "outputs": [
        {
          "output_type": "stream",
          "name": "stdout",
          "text": [
            "Seja bem-vindo\n",
            "Digite a quantidade: 5\n",
            "Produto disponivel\n",
            "Tenha um ótimo dia\n"
          ]
        }
      ]
    },
    {
      "cell_type": "code",
      "source": [
        "# Aluno aprovado\n",
        "\n",
        "print(\"Olá aluno, seja bem-vindo\")\n",
        "\n",
        "nota = int(input(\"Digite sua nota: \"))\n",
        "\n",
        "if nota >= 7 :\n",
        "  print(\"Aprovado\")\n",
        "\n",
        "print(f\"Tenha um ótimo dia\")"
      ],
      "metadata": {
        "colab": {
          "base_uri": "https://localhost:8080/"
        },
        "id": "d5r8FY14ZxBV",
        "outputId": "1a693fa9-5300-4307-fe0e-ccbc16999bc2"
      },
      "execution_count": null,
      "outputs": [
        {
          "output_type": "stream",
          "name": "stdout",
          "text": [
            "Olá aluno, seja bem-vindo\n",
            "Digite sua nota: 8\n",
            "Aprovado\n",
            "Tenha um ótimo dia\n"
          ]
        }
      ]
    },
    {
      "cell_type": "code",
      "source": [
        "# Desconto para cliente VIP\n",
        "\n",
        "print(\"Bom dia, seja bem-vindo\")\n",
        "\n",
        "desconto = input(\"Você é cliente VIP? (S/N): \")\n",
        "\n",
        "if desconto == \"S\" :\n",
        "  print(\"Desconto aplicado\")\n",
        "\n",
        "print(f\"Tenha um ótimo dia\")"
      ],
      "metadata": {
        "colab": {
          "base_uri": "https://localhost:8080/"
        },
        "id": "lLaFgZUCbq8F",
        "outputId": "ae5e143f-4791-4e0b-df1f-76f68d06eec2"
      },
      "execution_count": null,
      "outputs": [
        {
          "output_type": "stream",
          "name": "stdout",
          "text": [
            "Bom dia, seja bem-vindo\n",
            "Você é cliente VIP? (S/N): S\n",
            "Desconto aplicado\n",
            "Tenha um ótimo dia\n"
          ]
        }
      ]
    },
    {
      "cell_type": "code",
      "source": [
        "# Verificar CPF\n",
        "\n",
        "print(\"Bom dia Cidadão, seja bem-vindo\")\n",
        "\n",
        "cpf = input(\"Você possui CPF? (S/N): \")\n",
        "\n",
        "if cpf == \"S\" :\n",
        "  print(\"Cadastro liberado\")\n",
        "\n",
        "print(f\"Tenha um ótimo dia\")"
      ],
      "metadata": {
        "colab": {
          "base_uri": "https://localhost:8080/"
        },
        "id": "HB_DR4ufegQE",
        "outputId": "ba1b123a-374c-485c-ac55-e369fb474764"
      },
      "execution_count": null,
      "outputs": [
        {
          "output_type": "stream",
          "name": "stdout",
          "text": [
            "Bom dia Cidadão, seja bem-vindo\n",
            "Você possui CPF? (S/N): S\n",
            "Cadastro liberado\n",
            "Tenha um ótimo dia\n"
          ]
        }
      ]
    },
    {
      "cell_type": "code",
      "source": [
        "# Verificar sensor de temperatura\n",
        "\n",
        "print(\"Bom dia\")\n",
        "\n",
        "sensor = float(input(\"Digite a temperatura em C°: \")) # Por ser graus pode ser tanto numero inteiro como quebrado\n",
        "\n",
        "if sensor >= 100 :\n",
        "  print(\"Temperatura critica\")\n",
        "\n",
        "print(f\"Encerrando\")"
      ],
      "metadata": {
        "colab": {
          "base_uri": "https://localhost:8080/"
        },
        "id": "6t9wwWgjg1Wc",
        "outputId": "7361e449-cdd0-40f3-9737-0041a1985e09"
      },
      "execution_count": null,
      "outputs": [
        {
          "output_type": "stream",
          "name": "stdout",
          "text": [
            "Bom dia\n",
            "Digite a temperatura em C°: 100\n",
            "Temperatura critica\n",
            "Encerrando\n"
          ]
        }
      ]
    },
    {
      "cell_type": "code",
      "source": [],
      "metadata": {
        "id": "-5izqwJbigIs"
      },
      "execution_count": null,
      "outputs": []
    },
    {
      "cell_type": "markdown",
      "source": [
        "### O dia do João\n",
        "\n",
        "1°Conteiner\n",
        "Acorda\n",
        "se arruma\n",
        "e sai de casa\n",
        "<br>\n",
        "\n",
        "2° Conteiner\n",
        "<br>\n",
        "pega a bicicleta <br>\n",
        "Vai pedalando para escola\n",
        "<br>\n",
        "\n",
        "3°Conteiner\n",
        "\n",
        "Ele chega na escola\n",
        "Assiste a aula\n",
        "Vai para o recreio\n",
        "faz uma prova\n",
        "\n",
        "- Crie a variavel nome \"Joãozinho\"\n",
        "\n"
      ],
      "metadata": {
        "id": "GgJOUZq9H7sh"
      }
    },
    {
      "cell_type": "code",
      "source": [
        "print(\"Começa o dia do Joãozinho\")\n",
        "\n",
        "print(\"Antes de acordar, Joãozinho bate a canela na cabeceira da cama\")\n",
        "print(\"Joãozinho acorda\")\n",
        "print(\"Com muita dor ele se espreguiça e sai da cama\")\n",
        "\n",
        "print(\"Joãozinho vai ao banheiro\")\n",
        "print(\"Veste seu uniforme\")\n",
        "print(\"Toma seu café da manhã\")\n",
        "print(\"Pega sua mochila\")\n",
        "\n",
        "if esta_chovendo_muito :\n",
        "  print(\"Está chovendo bastante\")\n",
        "  print(\"Com essa chuva não consigo ir a escola\")\n",
        "  print(\"O dia escolar está cancelado pelo mau tempo\")\n",
        "  dia_escolar_continua = True # Dia escolar não continua\n",
        "\n",
        "if dia_escolar_continua :\n",
        "  print(\"O dia está bom\")\n",
        "  print(\"Pega a bicicleta\")\n",
        "  print(\"Em poucos minutos Joãozinho está na escola\")\n",
        "  print(\"Joãozinho assiste a aula\")\n",
        "  print(\"Hora do recreio\")\n",
        "  print(\"Hora de retornar a sala de aula\")\n",
        "  print(\"Joãozinho realiza a prova, missão cumprida\")\n",
        "\n",
        "print(\"Fim do dia escolar de Joãozinho\")\n"
      ],
      "metadata": {
        "colab": {
          "base_uri": "https://localhost:8080/"
        },
        "id": "itmJGX2wPWpI",
        "outputId": "41cfe3eb-2fee-4656-a6c6-1e2c7a4a7937"
      },
      "execution_count": null,
      "outputs": [
        {
          "output_type": "stream",
          "name": "stdout",
          "text": [
            "Começa o dia do Joãozinho\n",
            "Antes de acordar, Joãozinho bate a canela na cabeceira da cama\n",
            "Joãozinho acorda\n",
            "Com muita dor ele se espreguiça e sai da cama\n",
            "Joãozinho vai ao banheiro\n",
            "Veste seu uniforme\n",
            "Toma seu café da manhã\n",
            "Pega sua mochila\n",
            "Está chovendo bastante\n",
            "Com essa chuva não consigo ir a escola\n",
            "O dia escolar está cancelado pelo mau tempo\n",
            "O dia está bom\n",
            "Pega a bicicleta\n",
            "Em poucos minutos Joãozinho está na escola\n",
            "Joãozinho assiste a aula\n",
            "Hora do recreio\n",
            "Hora de retornar a sala de aula\n",
            "Joãozinho realiza a prova, missão cumprida\n",
            "Fim do dia escolar de Joãozinho\n"
          ]
        }
      ]
    },
    {
      "cell_type": "code",
      "source": [
        "pontos = 35\n",
        "pontos = 45\n",
        "\n",
        "print(pontos)"
      ],
      "metadata": {
        "colab": {
          "base_uri": "https://localhost:8080/"
        },
        "id": "zEzIrwakSmj9",
        "outputId": "ea2f1f8e-afce-4bb2-d0b5-a3d5b2dbf5f3"
      },
      "execution_count": null,
      "outputs": [
        {
          "output_type": "stream",
          "name": "stdout",
          "text": [
            "45\n"
          ]
        }
      ]
    },
    {
      "cell_type": "markdown",
      "source": [
        "## EXERCICIOS PARTE 2"
      ],
      "metadata": {
        "id": "brwRD587LXc3"
      }
    },
    {
      "cell_type": "code",
      "source": [
        "# 1 - Se a pessoa for maior de 18 anos, exiba \"Você é maior de idade\"\n",
        "\n",
        "idade = int(input(\"Digite a sua idade: \"))\n",
        "\n",
        "if idade >= 18 :\n",
        "  print(\"Você é maior de idade\")\n",
        "\n",
        "print(f\"Tenha um bom dia\")"
      ],
      "metadata": {
        "colab": {
          "base_uri": "https://localhost:8080/"
        },
        "id": "kw7OM0t9LjOM",
        "outputId": "3929ceb8-f3ec-49cf-e0c4-feaaaa356016"
      },
      "execution_count": null,
      "outputs": [
        {
          "output_type": "stream",
          "name": "stdout",
          "text": [
            "Digite a sua idade: 18\n",
            "Você é maior de idade\n",
            "Tenha um bom dia\n"
          ]
        }
      ]
    },
    {
      "cell_type": "code",
      "source": [
        "# 1 - Se a pessoa for maior de 18 anos, exiba \"Você é maior de idade\" 2º\n",
        "\n",
        "idade = int(input(\"Digite sua idade: \"))\n",
        "\n",
        "verificar = idade >= 18 # Boleano -- Verdadeiro / Falso\n",
        "\n",
        "print(verificar)\n",
        "\n",
        "if verificar :\n",
        "  print(\"Você é maior de idade\")\n"
      ],
      "metadata": {
        "colab": {
          "base_uri": "https://localhost:8080/"
        },
        "id": "eLn7Aynuwfyn",
        "outputId": "aae4100c-110d-4bd8-b358-58e575260b94"
      },
      "execution_count": null,
      "outputs": [
        {
          "output_type": "stream",
          "name": "stdout",
          "text": [
            "Digite sua idade: 12\n",
            "False\n"
          ]
        }
      ]
    },
    {
      "cell_type": "code",
      "source": [
        "# 2 - Se o número for positivo, exiba \"Numero positivo\"\n",
        "\n",
        "num = float(input(\"Digite um número: \"))\n",
        "\n",
        "if num > 0 :\n",
        "  print(\"Seu número é positivo\")\n",
        "\n",
        "print(f\"Tenha um bom dia\")"
      ],
      "metadata": {
        "colab": {
          "base_uri": "https://localhost:8080/"
        },
        "id": "Au22180zL9oj",
        "outputId": "92bf03c7-1335-41f1-e650-f5da51defe52"
      },
      "execution_count": null,
      "outputs": [
        {
          "output_type": "stream",
          "name": "stdout",
          "text": [
            "Digite um número: 2\n",
            "Seu número é positivo\n",
            "Tenha um bom dia\n"
          ]
        }
      ]
    },
    {
      "cell_type": "code",
      "source": [
        "# 2 - Se o número for positivo, exiba \"Numero positivo\" 2°\n",
        "\n",
        "numero = float(input(\"Digite seu numero: \")) # print(verificar, type(verrificar))\n",
        "\n",
        "verificar = numero > float (0)\n",
        "\n",
        "print(verificar, type(verificar))\n"
      ],
      "metadata": {
        "colab": {
          "base_uri": "https://localhost:8080/"
        },
        "id": "2pj2adtTeoUp",
        "outputId": "38e4b600-7508-452f-f8d3-c39664bf9f96"
      },
      "execution_count": null,
      "outputs": [
        {
          "output_type": "stream",
          "name": "stdout",
          "text": [
            "Digite seu numero: 2\n",
            "True <class 'bool'>\n"
          ]
        }
      ]
    },
    {
      "cell_type": "code",
      "source": [
        "# 3 - Se o nome digitado for \"admin\", exiba \"Acesso permitido\"\n",
        "\n",
        "usuario = str(input(\"Digite seu usuario: \"))\n",
        "\n",
        "if usuario == \"admin\" :\n",
        "  print(\"Acesso permitido ao painel\")\n",
        "\n",
        "print(f\"Tenha um ótimo trabalho e um ótimo dia\")"
      ],
      "metadata": {
        "colab": {
          "base_uri": "https://localhost:8080/"
        },
        "id": "qPlkE5BvM2y6",
        "outputId": "877c4743-9b44-4f14-85af-e0f964f474aa"
      },
      "execution_count": null,
      "outputs": [
        {
          "output_type": "stream",
          "name": "stdout",
          "text": [
            "Digite seu usuario: admin\n",
            "Acesso permitido ao painel\n",
            "Tenha um ótimo trabalho e um ótimo dia\n"
          ]
        }
      ]
    },
    {
      "cell_type": "code",
      "source": [
        "# 4 - Se a temperatura for maior que 30 graus, exiba \"Está calor\"\n",
        "\n",
        "temperatura = float(input(\"Digite a temperatura: \"))\n",
        "\n",
        "if temperatura > 30 :\n",
        "  print(\"Está calor\")\n",
        "\n",
        "print(f\"Leve uma garrafa d'agua, tenha um bom dia\")"
      ],
      "metadata": {
        "colab": {
          "base_uri": "https://localhost:8080/"
        },
        "id": "hhsf3UyZNSIp",
        "outputId": "754ac959-652b-4389-fc48-ed679632f9ce"
      },
      "execution_count": null,
      "outputs": [
        {
          "output_type": "stream",
          "name": "stdout",
          "text": [
            "Digite a temperatura: 31\n",
            "Está calor\n",
            "Leve uma garrafa d'agua, tenha um bom dia\n"
          ]
        }
      ]
    },
    {
      "cell_type": "code",
      "source": [
        "# 5 - Se a nota do aluno for maior ou igual a 6, exiba \"Nota suficiente\"\n",
        "\n",
        "nota = int(input(\"Digite sua nota: \"))\n",
        "\n",
        "if nota >= 6 :\n",
        "  print(\"Nota suficiente\")\n",
        "\n",
        "print(f\"Parabéns aluno, tenha um ótimo dia\")"
      ],
      "metadata": {
        "colab": {
          "base_uri": "https://localhost:8080/"
        },
        "id": "Db90jP2xNwby",
        "outputId": "432a7896-a8a0-4b91-e93c-5d548693ea5d"
      },
      "execution_count": null,
      "outputs": [
        {
          "output_type": "stream",
          "name": "stdout",
          "text": [
            "Digite sua nota: 7\n",
            "Nota suficiente\n",
            "Parabéns aluno, tenha um ótimo dia\n"
          ]
        }
      ]
    },
    {
      "cell_type": "code",
      "source": [
        "# 6 - Se o usuario tiver saldo maior que 100, exiba \"Você pode sacar\"\n",
        "\n",
        "saldo = float(input(\"Digite o quanto você quer sacar: \"))\n",
        "\n",
        "if saldo > 100 :\n",
        "  print(\"Saldo suficiente, você pode sacar\")\n",
        "\n",
        "print(f\"Saque realizado com sucesso, tenha um ótimo dia\")"
      ],
      "metadata": {
        "colab": {
          "base_uri": "https://localhost:8080/"
        },
        "id": "6kLuctRvONZZ",
        "outputId": "39b5dfca-2af5-4e65-9139-6cc7b2289035"
      },
      "execution_count": null,
      "outputs": [
        {
          "output_type": "stream",
          "name": "stdout",
          "text": [
            "Digite o quanto você quer sacar: 120.50\n",
            "Saldo suficiente, você pode sacar\n",
            "Saque realizado com sucesso, tenha um ótimo dia\n"
          ]
        }
      ]
    },
    {
      "cell_type": "code",
      "source": [
        "# 7 - Se a letra digitada for \"a\", exiba \"Vogal detectada\"\n",
        "\n",
        "letra = str(input(\"Digite uma letra: \"))\n",
        "\n",
        "if letra == \"a\" :\n",
        "  print(\"Vogal detectada\")\n",
        "\n",
        "print(f\"Tente novamente\")"
      ],
      "metadata": {
        "colab": {
          "base_uri": "https://localhost:8080/"
        },
        "id": "_W5wYtcTOmr4",
        "outputId": "a96e6673-c61a-4077-8afd-6241cdaa213d"
      },
      "execution_count": null,
      "outputs": [
        {
          "output_type": "stream",
          "name": "stdout",
          "text": [
            "Digite uma letra: a\n",
            "Vogal detectada\n",
            "Tente novamente\n"
          ]
        }
      ]
    },
    {
      "cell_type": "code",
      "source": [
        "# 8 - Se a pessoa tiver nascido entre antes de 2000, exiba \"Você é do seculo XX\"\n",
        "\n",
        "ano = int(input(\"Digite seu ano: \"))\n",
        "\n",
        "if ano < 2000 :\n",
        "  print(\"Você é do seculo XX\")\n",
        "\n",
        "print(f\"Tenha um ótimo dia\")"
      ],
      "metadata": {
        "colab": {
          "base_uri": "https://localhost:8080/"
        },
        "id": "EwlXTWutPD3g",
        "outputId": "3abe57f7-fc6e-4c59-d8db-417b6c64f9bd"
      },
      "execution_count": null,
      "outputs": [
        {
          "output_type": "stream",
          "name": "stdout",
          "text": [
            "Digite seu ano: 1972\n",
            "Você é do seculo XX\n",
            "Tenha um ótimo dia\n"
          ]
        }
      ]
    },
    {
      "cell_type": "code",
      "source": [
        "# 9 - Se o valor do produto for maior que 1000, exiba \"Produto premium\"\n",
        "\n",
        "produto = int(input(\"Qual o valor do produto que você deseja? : \"))\n",
        "\n",
        "if produto > 1000 :\n",
        "  print(\"Produto premium\")\n",
        "\n",
        "print(f\"Compra concluida, tenha um ótimo dia\")"
      ],
      "metadata": {
        "colab": {
          "base_uri": "https://localhost:8080/"
        },
        "id": "e0sqvIocQH91",
        "outputId": "6482120e-8495-42b0-c1b3-9854aae9535f"
      },
      "execution_count": null,
      "outputs": [
        {
          "output_type": "stream",
          "name": "stdout",
          "text": [
            "Qual o valor do produto que você deseja? : 1500\n",
            "Produto premium\n",
            "Compra concluida, tenha um ótimo dia\n"
          ]
        }
      ]
    },
    {
      "cell_type": "code",
      "source": [
        "# 10 - Se a idade for menor que 12, exiba \"Criança identificada\"\n",
        "\n",
        "idade = int(input(\"Digite a sua idade: \"))\n",
        "\n",
        "if idade < 12 :\n",
        "  print(\"Criança identificada\")\n",
        "\n",
        "print(f\"Você não possui idade suficiente para o nosso serviço, encerrando...\")"
      ],
      "metadata": {
        "colab": {
          "base_uri": "https://localhost:8080/"
        },
        "id": "0nxZpYiUQlXO",
        "outputId": "8f9c6036-a1c6-43db-98b2-641e0f48398b"
      },
      "execution_count": null,
      "outputs": [
        {
          "output_type": "stream",
          "name": "stdout",
          "text": [
            "Digite a sua idade: 11\n",
            "Criança identificada\n",
            "Você não possui idade suficiente para o nosso serviço, encerrando...\n"
          ]
        }
      ]
    },
    {
      "cell_type": "code",
      "source": [
        "# 11 - Se o número for múltiplo de 3, exiba: \"Multiplo de 3\"\n",
        "\n",
        "num = int(input(\"Digite um número: \"))\n",
        "\n",
        "if num % 3 == 0 :\n",
        "  print(\"Multiplo de 3\")\n",
        "\n",
        "print(f\"Tenha um bom dia\")"
      ],
      "metadata": {
        "colab": {
          "base_uri": "https://localhost:8080/"
        },
        "id": "iamHp_N9Q-BL",
        "outputId": "6c81f170-0f46-40b7-fddc-e3e2a73757aa"
      },
      "execution_count": null,
      "outputs": [
        {
          "output_type": "stream",
          "name": "stdout",
          "text": [
            "Digite um número: 3\n",
            "Multiplo de 3\n",
            "Tenha um bom dia\n"
          ]
        }
      ]
    },
    {
      "cell_type": "code",
      "source": [
        "# 12 - Se o número for par, exiba \"Número par\"\n",
        "\n",
        "numero = int(input(\"Digite um número: \"))\n",
        "\n",
        "if numero % 2 == 0 :\n",
        "  print(\"Numero par\")\n",
        "\n",
        "print(f\"Tenha um bom dia\")"
      ],
      "metadata": {
        "colab": {
          "base_uri": "https://localhost:8080/"
        },
        "id": "h0sPthAaRdEE",
        "outputId": "0db6b6fc-e7f1-401c-c260-f5437e2897d4"
      },
      "execution_count": null,
      "outputs": [
        {
          "output_type": "stream",
          "name": "stdout",
          "text": [
            "Digite um número: 4\n",
            "Numero par\n",
            "Tenha um bom dia\n"
          ]
        }
      ]
    },
    {
      "cell_type": "code",
      "source": [
        "# 13 - Se o nome da pessoa começar com J, exiba \"Olá, J\"\n",
        "\n",
        "letra = str(input(\"Digite uma letra: \"))\n",
        "\n",
        "if letra == \"J\" :\n",
        "  print(\"Olá, J\")\n",
        "\n",
        "print(f\"Acessando o sistema...\")\n",
        "print(f\"Bem-vindo J\")"
      ],
      "metadata": {
        "colab": {
          "base_uri": "https://localhost:8080/"
        },
        "id": "cofou6tgSZxG",
        "outputId": "8c074b2f-65be-4f1f-e3bc-3725f110f907"
      },
      "execution_count": null,
      "outputs": [
        {
          "output_type": "stream",
          "name": "stdout",
          "text": [
            "Digite uma letra: J\n",
            "Olá, J\n",
            "Acessando o sistema...\n",
            "Bem-vindo J\n"
          ]
        }
      ]
    },
    {
      "cell_type": "code",
      "source": [
        "# 14 - Se a senha digitada for \"1234\", exiba \"Senha fraca\"\n",
        "\n",
        "senha = int(input(\"Digite sua senha: \"))\n",
        "\n",
        "if senha <= 1234 :\n",
        "  print(\"Senha fraca\")\n",
        "\n",
        "print(f\"Tenha um ótimo dia\")"
      ],
      "metadata": {
        "colab": {
          "base_uri": "https://localhost:8080/"
        },
        "id": "0-KmofiNTRXc",
        "outputId": "49738e9b-cd02-415e-9fbc-fe7b50fdc17f"
      },
      "execution_count": null,
      "outputs": [
        {
          "output_type": "stream",
          "name": "stdout",
          "text": [
            "Digite sua senha: 1234\n",
            "Senha fraca\n",
            "Tenha um ótimo dia\n"
          ]
        }
      ]
    },
    {
      "cell_type": "code",
      "source": [
        "# 15 - Se o peso for maior que 100kg, exiba \"Verificar limites de carga\"\n",
        "\n",
        "peso = int(input(\"Digite a carga: \"))\n",
        "\n",
        "if peso > 100 :\n",
        "  print(\"Verificar limites de carga\")\n",
        "\n",
        "print(f\"Tenha um ótimo dia e uma boa viagem\")"
      ],
      "metadata": {
        "colab": {
          "base_uri": "https://localhost:8080/"
        },
        "id": "j-cEAMyDczCM",
        "outputId": "51199b4f-3f55-4271-be31-88ee1e61d018"
      },
      "execution_count": null,
      "outputs": [
        {
          "output_type": "stream",
          "name": "stdout",
          "text": [
            "Digite a carga: 110\n",
            "Verificar limites de carga\n",
            "Tenha um ótimo dia e uma boa viagem\n"
          ]
        }
      ]
    },
    {
      "cell_type": "code",
      "source": [
        "# 16 - Se a velocidade do carro ultrapassar 85 km/h, exiba: \"Multa aplicada\"\n",
        "\n",
        "velocidade = int(input(\"Velocidade do veiculo: \"))\n",
        "\n",
        "if velocidade > 85 :\n",
        "  print(\"Multa aplicada\")\n",
        "\n",
        "print(f\"Multa aplicada com sucesso, tenha um bom dia\")"
      ],
      "metadata": {
        "colab": {
          "base_uri": "https://localhost:8080/"
        },
        "id": "vfFG341zdyu4",
        "outputId": "85e94a39-8666-477e-abb9-ae72d1fcdf8f"
      },
      "execution_count": null,
      "outputs": [
        {
          "output_type": "stream",
          "name": "stdout",
          "text": [
            "Velocidade do veiculo: 86\n",
            "Multa aplicada\n",
            "Multa aplicada com sucesso, tenha um bom dia\n"
          ]
        }
      ]
    },
    {
      "cell_type": "code",
      "source": [
        "# 17 - Se o valor do ingresso for maior que 50, exiba \"Ingresso VIP\"\n",
        "\n",
        "ingresso = float(input(\"Digite o valor do seu ingresso desejado: \"))\n",
        "\n",
        "if ingresso > int(50):\n",
        "  print(\"Ingresso VIP\")\n",
        "\n",
        "print(f\"Ingresso comprado com sucesso, bom show e um ótimo dia\")"
      ],
      "metadata": {
        "colab": {
          "base_uri": "https://localhost:8080/"
        },
        "id": "5FN_GJeOgG9x",
        "outputId": "69887419-d446-4def-f61b-cf63a838e740"
      },
      "execution_count": null,
      "outputs": [
        {
          "output_type": "stream",
          "name": "stdout",
          "text": [
            "Digite o valor do seu ingresso desejado: 120.20\n",
            "Ingresso VIP\n",
            "Ingresso comprado com sucesso, bom show e um ótimo dia\n"
          ]
        }
      ]
    },
    {
      "cell_type": "code",
      "source": [
        "# 18 - Se o número tiver dois digitos, exiba \"Numero com dois digitos\"\n",
        "\n",
        "numero = int(input(\"Digite um numero: \"))\n",
        "\n",
        "if numero > 9 :\n",
        "  print(\"Numero com dois digitos\")\n",
        "\n",
        "print(f\"Tenha um ótimo dia\")"
      ],
      "metadata": {
        "colab": {
          "base_uri": "https://localhost:8080/"
        },
        "id": "AvTdywmeglNq",
        "outputId": "e8337106-ed5d-4b2c-82cc-b4b2943ab564"
      },
      "execution_count": null,
      "outputs": [
        {
          "output_type": "stream",
          "name": "stdout",
          "text": [
            "Digite um numero: 10\n",
            "Numero com dois digitos\n",
            "Tenha um ótimo dia\n"
          ]
        }
      ]
    },
    {
      "cell_type": "code",
      "source": [
        "# 19 - Se a quantidade exibida for maior que 10, exiba \"Desconto aplicado\"\n",
        "\n",
        "print(f\"Bom dia!\")\n",
        "\n",
        "desconto = int(input(\"Digite o seu cupom de desconto: \"))\n",
        "\n",
        "if desconto > 10 :\n",
        "  print(\"Desconto aplicado\")\n",
        "\n",
        "print(f\"Compra realizada com sucesso, tenha um ótimo dia\")"
      ],
      "metadata": {
        "id": "WxkeasyEt5on",
        "colab": {
          "base_uri": "https://localhost:8080/"
        },
        "outputId": "53380a5b-29f9-47e4-8aa7-0c609a77556a"
      },
      "execution_count": null,
      "outputs": [
        {
          "output_type": "stream",
          "name": "stdout",
          "text": [
            "Bom dia!\n",
            "Digite o seu cupom de desconto: 11\n",
            "Desconto aplicado\n",
            "Compra realizada com sucesso, tenha um ótimo dia\n"
          ]
        }
      ]
    },
    {
      "cell_type": "code",
      "source": [
        "# 20 - Se o CPF tiver 11 digitos, exiba \"CPF Valido no formato\"\n",
        "\n",
        "print(f\"Bom dia! Seja bem-vindo\")\n",
        "\n",
        "cpf = int(input(\"Digite seu CPF: \"))\n",
        "\n",
        "if cpf >= 12345678911 :\n",
        "  print(\"CPF Valido no formato\")\n",
        "\n",
        "print(f\"Tenha um ótimo dia\")"
      ],
      "metadata": {
        "colab": {
          "base_uri": "https://localhost:8080/"
        },
        "id": "RPDd3mn5YbKg",
        "outputId": "40c5239a-dc74-4534-c76b-3ddd26fc41f4"
      },
      "execution_count": null,
      "outputs": [
        {
          "output_type": "stream",
          "name": "stdout",
          "text": [
            "Bom dia! Seja bem-vindo\n",
            "Digite seu CPF: 47181908863\n",
            "CPF Valido no formato\n",
            "Tenha um ótimo dia\n"
          ]
        }
      ]
    },
    {
      "cell_type": "code",
      "source": [
        "# 21 - Se a média do aluno for maior que 7, exiba \"Aluno aprovado direto\"\n",
        "\n",
        "print(f\"Seja bem-vindo aluno\")\n",
        "\n",
        "nota1 = float(input(\"Digite sua nota: \"))\n",
        "nota2 = float(input(\"Digite sua nota: \"))\n",
        "nota3 = float(input(\"Digite sua nota: \"))\n",
        "nota4 = float(input(\"Digite sua nota: \"))\n",
        "\n",
        "media = (nota1 + nota2 + nota3 + nota4)/4\n",
        "\n",
        "if media >= 7 :\n",
        "  print(\"Aluno aprovado direto\")\n",
        "\n",
        "print(f\"Sua média final é {media}, e o tipo da média é {type(media)}\")\n",
        "\n",
        "print(f\"Tenha um bom dia\")\n",
        "\n"
      ],
      "metadata": {
        "colab": {
          "base_uri": "https://localhost:8080/"
        },
        "id": "JrVnpSSLiNhd",
        "outputId": "5dc724ad-89a6-4c64-b2a5-273ae532831d"
      },
      "execution_count": null,
      "outputs": [
        {
          "output_type": "stream",
          "name": "stdout",
          "text": [
            "Seja bem-vindo aluno\n",
            "Digite sua nota: 9\n",
            "Digite sua nota: 8\n",
            "Digite sua nota: 7.5\n",
            "Digite sua nota: 6\n",
            "Aluno aprovado direto\n",
            "Sua média final é 7.625, e o tipo da média é <class 'float'>\n",
            "Tenha um bom dia\n"
          ]
        }
      ]
    },
    {
      "cell_type": "code",
      "source": [
        "# 22 - Se a idade for entre 60 e 100 exiba \"Pessoa idosa\"\n",
        "\n",
        "idade = int(input(\"Digite sua idade: \"))\n",
        "\n",
        "if idade >= 60 :\n",
        "  print(\"Pessoa idosa\")\n"
      ],
      "metadata": {
        "colab": {
          "base_uri": "https://localhost:8080/"
        },
        "id": "b5DujkOblF5p",
        "outputId": "2682df3b-b76d-442d-a111-e021d3a19079"
      },
      "execution_count": null,
      "outputs": [
        {
          "output_type": "stream",
          "name": "stdout",
          "text": [
            "Digite sua idade: 100\n",
            "Pessoa idosa\n"
          ]
        }
      ]
    },
    {
      "cell_type": "code",
      "source": [
        "# 23 - Se a nota for menor que 3, exiba \"Reprovado automaticamente\"\n",
        "\n",
        "print(\"Bem vindo aluno\")\n",
        "\n",
        "nota = float(input(\"Digite sua nota: \"))\n",
        "\n",
        "if nota < 3 :\n",
        "  print(\"Reprovado automaticamente\")\n",
        "\n",
        "print(\"Tenha um bom dia\")"
      ],
      "metadata": {
        "colab": {
          "base_uri": "https://localhost:8080/"
        },
        "id": "ztw_MDDGl6K2",
        "outputId": "49b18d5e-e51a-497b-80ec-ba0e45b45b6a"
      },
      "execution_count": null,
      "outputs": [
        {
          "output_type": "stream",
          "name": "stdout",
          "text": [
            "Bem vindo aluno\n",
            "Digite sua nota: 2\n",
            "Reprovado automaticamente\n",
            "Tenha um bom dia\n"
          ]
        }
      ]
    },
    {
      "cell_type": "code",
      "source": [
        "# 24 - Se o numero digitado for igual ao numero secreto, exiba \"Você acertou\"\n",
        "\n",
        "print(f\"Bom dia, tente adivinhar o número\")\n",
        "\n",
        "num_secreto = int(input(\"Digite um número: \"))\n",
        "\n",
        "if num_secreto >= 1 :\n",
        "  print(\"Você acertou\")\n",
        "\n"
      ],
      "metadata": {
        "colab": {
          "base_uri": "https://localhost:8080/"
        },
        "id": "cv6Bll9pmTOU",
        "outputId": "018e1b94-c9df-46be-8200-dedb5c7689ed"
      },
      "execution_count": null,
      "outputs": [
        {
          "output_type": "stream",
          "name": "stdout",
          "text": [
            "Bom dia, tente adivinhar o número\n",
            "Digite um número: 2\n",
            "Você acertou\n"
          ]
        }
      ]
    },
    {
      "cell_type": "code",
      "source": [
        "# 25 - Se o carro for da marca \"Tesla\", exiba \"carro elétrico\"\n",
        "\n",
        "carro = str(input(\"Digite um carro: \"))\n",
        "\n",
        "if carro == \"Tesla\" :\n",
        "  print(\"Carro elétrico\")"
      ],
      "metadata": {
        "colab": {
          "base_uri": "https://localhost:8080/"
        },
        "id": "NLKPgyMJqNke",
        "outputId": "f937b092-ff51-4c29-a552-8bd9d76faa67"
      },
      "execution_count": null,
      "outputs": [
        {
          "output_type": "stream",
          "name": "stdout",
          "text": [
            "Digite um carro: Tesla\n",
            "Carro elétrico\n"
          ]
        }
      ]
    },
    {
      "cell_type": "code",
      "source": [
        "# 26 - Se o numero de tentativas for maior que 3, exiba \"Acesso bloqueado\". (Não entendi essa)\n",
        "\n",
        "print(\"Seja bem vindo\")\n",
        "\n",
        "numero_de_tentativas = int(input(\"Digite sua senha: \"))\n",
        "\n",
        "numero_de_tentativas = 4\n",
        "\n",
        "if numero_de_tentativas > 3 :\n",
        "  print(\"Acesso bloqueado\")"
      ],
      "metadata": {
        "colab": {
          "base_uri": "https://localhost:8080/"
        },
        "id": "VAyX0DDrrNxK",
        "outputId": "fc121923-e7cd-437a-e604-22523a297f2e"
      },
      "execution_count": null,
      "outputs": [
        {
          "output_type": "stream",
          "name": "stdout",
          "text": [
            "Seja bem vindo\n",
            "Digite sua senha: 8\n",
            "Acesso bloqueado\n"
          ]
        }
      ]
    },
    {
      "cell_type": "code",
      "source": [
        "# Receba o nome do usuario\n",
        "# Receba o salario do usuario\n",
        "# Receba em meses quanto tempo o usuario trabalhou\n",
        "# SE o tempo de trabalho for maior ou igual a 6 meses\n",
        "# De um aumento de 15 % do salario do usuario\n",
        "# Exiba uma mensagem dandop parabens ao usuario pelo aumento\n",
        "# Chamando ele pelo nome\n",
        "# E sempre deixe uma mensagem de \"Bom dia e bom trabalho\",\n",
        "\n",
        "print(\"Bom dia\")\n",
        "\n",
        "nome = str(input(\"Digite seu nome: \"))\n",
        "salario = float(input(\"Digite o seu salario: \"))\n",
        "meses = int(input(\"Digite os meses de trabalho: \"))\n",
        "aumento = salario * 1.15\n",
        "\n",
        "if meses >= 6 :\n",
        "  print(f\"Parabéns pelo aumento {nome} com o aumento de 15%, o novo salario será: R$ {aumento:.2f}. Bom dia e bom trabalho\")\n",
        "\n",
        "print(f\"{nome}, Bom dia e bom trabalho\")"
      ],
      "metadata": {
        "id": "YuKnAw3er-lV",
        "colab": {
          "base_uri": "https://localhost:8080/"
        },
        "outputId": "db7703d4-0ebd-4816-c68c-66be2d54354d"
      },
      "execution_count": null,
      "outputs": [
        {
          "output_type": "stream",
          "name": "stdout",
          "text": [
            "Bom dia\n",
            "Digite seu nome: Joao\n",
            "Digite o seu salario: 3500\n",
            "Digite os meses de trabalho: 12\n",
            "Parabéns pelo aumento Joao com o aumento de 15%, o novo salario será: R$ 4025.00. Bom dia e bom trabalho\n",
            "Joao, Bom dia e bom trabalho\n"
          ]
        }
      ]
    },
    {
      "cell_type": "code",
      "source": [
        "# Aluno deve inserir o seu nome e as 4 notas do ano\n",
        "# Se a media for maior que 6, exiba \"Aprovado\"\n",
        "# no final deve sempre ter uma mensagem de bom dia e o nome\n",
        "\n",
        "print(\"Bem vindo Aluno\")\n",
        "\n",
        "nome = str(input(\"Digite seu nome: \"))\n",
        "\n",
        "nota1 = float(input(\"Digite sua nota: \"))\n",
        "nota2 = float(input(\"Digite sua nota: \"))\n",
        "nota3 = float(input(\"Digite sua nota: \"))\n",
        "nota4 = float(input(\"Digite sua nota: \"))\n",
        "\n",
        "media = (nota1 + nota2 + nota3 + nota4)/4\n",
        "\n",
        "if media > 6 :\n",
        "  print(\"Aluno aprovado\")\n",
        "\n",
        "print(f\"Olá {nome} sua média final é {media}. {type(media)}\")\n",
        "\n",
        "print(f\"Tenha um bom dia\")"
      ],
      "metadata": {
        "colab": {
          "base_uri": "https://localhost:8080/"
        },
        "id": "Jiol7pKJsq88",
        "outputId": "882b255b-ba3c-4dfa-f984-08f29a6d0db5"
      },
      "execution_count": null,
      "outputs": [
        {
          "output_type": "stream",
          "name": "stdout",
          "text": [
            "Bem vindo Aluno\n",
            "Digite seu nome: João\n",
            "Digite sua nota: 8\n",
            "Digite sua nota: 9\n",
            "Digite sua nota: 10\n",
            "Digite sua nota: 8\n",
            "Aluno aprovado\n",
            "Olá João sua média final é 8.75. <class 'float'>\n",
            "Tenha um bom dia\n"
          ]
        }
      ]
    },
    {
      "cell_type": "code",
      "source": [
        "# Decisão composta\n",
        "# Se o sinal estiver vermelho > pare, se não siga\n",
        "\n",
        "sinal = str(input(\"o sinal esta vermelho? (s/n): \"))\n",
        "\n",
        "__verificador = sinal == str(\"s\")\n",
        "\n",
        "if __verificador:\n",
        "  print(\"Pare no sinal\")\n",
        "else:\n",
        "  print(\"Siga em frente\")"
      ],
      "metadata": {
        "id": "LqX4SzWIbtED",
        "colab": {
          "base_uri": "https://localhost:8080/"
        },
        "outputId": "6996d805-9fae-4575-93a7-78855864b505"
      },
      "execution_count": null,
      "outputs": [
        {
          "output_type": "stream",
          "name": "stdout",
          "text": [
            "o sinal esta vermelho? (s/n): n\n",
            "Siga em frente\n"
          ]
        }
      ]
    },
    {
      "cell_type": "code",
      "source": [
        "# Função composta\n",
        "# Pegar objeto; se chover pegue o guarda chuva > se não chover pegue o oculos escuro\n",
        "\n",
        "print(\"Se arrumar\")\n",
        "print(\"==========\")\n",
        "\n",
        "clima = str(input(\"Qual o clima? : \"))\n",
        "\n",
        "if clima == str(\"chuva\"):\n",
        "  print(\"Pegue o guarda chuva\")\n",
        "\n",
        "else:\n",
        "  print(\"Pegue o oculos escuro\")\n",
        "\n",
        "print(\"Saindo de casa\")\n"
      ],
      "metadata": {
        "id": "_nrPJ3zpfeuY",
        "colab": {
          "base_uri": "https://localhost:8080/"
        },
        "outputId": "6183020c-6db4-4e4d-eeed-5da2798004fc"
      },
      "execution_count": null,
      "outputs": [
        {
          "output_type": "stream",
          "name": "stdout",
          "text": [
            "Se arrumar\n",
            "==========\n",
            "Qual o clima? : Chuva\n",
            "Pegue o oculos escuro\n",
            "Saindo de casa\n"
          ]
        }
      ]
    },
    {
      "cell_type": "code",
      "source": [
        "# Decisão composta\n",
        "# Peça ao usuario a sua idade\n",
        "# E diga se ele pode ou não dirigir\n",
        "# E no final sempre agradeça\n",
        "\n",
        "idade = int(input(\"Digite sua idade: \"))\n",
        "\n",
        "if idade >= 18 :\n",
        "  print(\"Voce pode dirigir\")\n",
        "else:\n",
        "  print(\"Voce não pode dirigir\")\n",
        "\n",
        "print(\"Tenha um bom dia\")\n"
      ],
      "metadata": {
        "colab": {
          "base_uri": "https://localhost:8080/"
        },
        "id": "3x3thmUcibC-",
        "outputId": "7f1896f8-3af7-419f-df45-b33c1f7a8b78"
      },
      "execution_count": null,
      "outputs": [
        {
          "output_type": "stream",
          "name": "stdout",
          "text": [
            "Digite sua idade: 19\n",
            "Voce pode dirigir\n",
            "Tenha um bom dia\n"
          ]
        }
      ]
    },
    {
      "cell_type": "code",
      "source": [
        "# nota de participação\n",
        "# Peça a presença (0 a 100) e a nota da atividade\n",
        "# Se a presença for maior ou igual a 75, e a nota\n",
        "# for maior que 5, diga \"participação válida\"\n",
        "# Caso contrario, diga \"Reprovado por criterio\"\n",
        "\n",
        "nota = float(input(\"Digite sua nota: \"))\n",
        "presenca = int(input(\"Digite sua presença: \"))\n",
        "\n",
        "if presenca >= 75 and nota >= 5 :\n",
        "  print(\"Participação válida\")\n",
        "else:\n",
        "  print(\"Reprovado por criterio\")\n",
        "\n",
        "print(\"Tenha um bom dia\")"
      ],
      "metadata": {
        "colab": {
          "base_uri": "https://localhost:8080/"
        },
        "id": "UxJ-qQfwjRXE",
        "outputId": "32bd3c5d-9021-485a-9d89-9895f0f57e91"
      },
      "execution_count": null,
      "outputs": [
        {
          "output_type": "stream",
          "name": "stdout",
          "text": [
            "Digite sua nota: 5\n",
            "Digite sua presença: 80\n",
            "Participação válida\n",
            "Tenha um bom dia\n"
          ]
        }
      ]
    },
    {
      "cell_type": "code",
      "source": [
        "# Peça dois números e diga se ambos são maiores que 10.\n",
        "\n",
        "num1 = int(input(\"Digite um numero:\"))\n",
        "num2 = int(input(\"Digite outro numero:\"))\n",
        "\n",
        "if num1 > 10 and num2 > 10 :\n",
        "  print(\"Ambos são maiores que 10\")\n",
        "else:\n",
        "  print(\"Não são maiores que 10\")"
      ],
      "metadata": {
        "colab": {
          "base_uri": "https://localhost:8080/"
        },
        "id": "8Wwdg2l3Jk2X",
        "outputId": "ff2e218f-234b-4dea-986e-f0c2f93a589d"
      },
      "execution_count": null,
      "outputs": [
        {
          "output_type": "stream",
          "name": "stdout",
          "text": [
            "Digite um numero:11\n",
            "Digite outro numero:13\n",
            "Ambos são maiores que 10\n"
          ]
        }
      ]
    },
    {
      "cell_type": "code",
      "source": [
        "# 2. Peça a idade e diga se a pessoa é adolescente (entre 12 e 17).\n",
        "\n",
        "idade = int(input(\"Digite sua idade: \"))\n",
        "\n",
        "if idade >= 12 and idade <= 17 :\n",
        "  print(\"Você é adolescente\")\n",
        "else:\n",
        "  print(\"Você não é adolescente\")"
      ],
      "metadata": {
        "colab": {
          "base_uri": "https://localhost:8080/"
        },
        "id": "S_EJnIDQZodm",
        "outputId": "3716caa0-de53-4e21-8683-ebe2cbd0f7a9"
      },
      "execution_count": null,
      "outputs": [
        {
          "output_type": "stream",
          "name": "stdout",
          "text": [
            "Digite sua idade: 16\n",
            "Você é adolescente\n"
          ]
        }
      ]
    },
    {
      "cell_type": "code",
      "source": [
        "# 3. Peça a idade e diga se é criança ou idoso (menor que 12 ou maior que 60).\n",
        "\n",
        "idade = int(input(\"Digite sua idade: \"))\n",
        "\n",
        "if idade < 12 or idade > 60 :\n",
        "  print(\"Você é criança ou idoso\")\n",
        "else:\n",
        "  print(\"Você não é criança ou idoso\")"
      ],
      "metadata": {
        "colab": {
          "base_uri": "https://localhost:8080/"
        },
        "id": "wi-KBfWZbBkx",
        "outputId": "93f80c66-30d4-4c76-a6c6-ef53a4a24415"
      },
      "execution_count": null,
      "outputs": [
        {
          "output_type": "stream",
          "name": "stdout",
          "text": [
            "Digite sua idade: 68\n",
            "Você é criança ou idoso\n"
          ]
        }
      ]
    },
    {
      "cell_type": "code",
      "source": [
        "# 4. Peça uma senha e verifique se ela é igual a \"admin\" ou \"1234\".\n",
        "\n",
        "senha = str(input(\"Digite sua senha: \"))\n",
        "\n",
        "if senha == \"admin\" or senha == \"1234\" :\n",
        "  print(\"Senha válida\")\n",
        "else:\n",
        "  print(\"Senha inválida\")"
      ],
      "metadata": {
        "colab": {
          "base_uri": "https://localhost:8080/"
        },
        "id": "ne3o9vrjcfhr",
        "outputId": "184f405b-53dc-4307-9616-8c112e113700"
      },
      "execution_count": null,
      "outputs": [
        {
          "output_type": "stream",
          "name": "stdout",
          "text": [
            "Digite sua senha: admin\n",
            "Senha válida\n"
          ]
        }
      ]
    },
    {
      "cell_type": "code",
      "source": [
        "# 5. Peça dois números e diga se são iguais ou se um é maior que o outro.\n",
        "\n",
        "num1 = int(input(\"Digite um numero: \"))\n",
        "num2 = int(input(\"Digite outro numero: \"))\n",
        "\n",
        "if num1 == num2 :\n",
        "  print(\"Os números são iguais\")\n",
        "\n",
        "if num1 > num2 :\n",
        "  print(\"O primeiro número é maior que o segundo\")\n",
        "\n",
        "else:\n",
        "  print(\"O segundo número é maior que o primeiro\")"
      ],
      "metadata": {
        "colab": {
          "base_uri": "https://localhost:8080/"
        },
        "id": "BhsYLGJ7dmaY",
        "outputId": "4eb499db-d2d6-485b-e18b-d7640b2ac252"
      },
      "execution_count": null,
      "outputs": [
        {
          "output_type": "stream",
          "name": "stdout",
          "text": [
            "Digite um numero: 50\n",
            "Digite outro numero: 90\n",
            "O segundo número é maior que o primeiro\n"
          ]
        }
      ]
    },
    {
      "cell_type": "code",
      "source": [
        "# 6. Peça dois números e diga se pelo menos um é positivo.\n",
        "\n",
        "num1 = int(input(\"Digite um numero: \"))\n",
        "num2 = int(input(\"Digite outro numero: \"))\n",
        "\n",
        "if num1 > 0 or num2 > 0 :\n",
        "  print(\"Pelo menos um número é positivo\")\n",
        "else:\n",
        "  print(\"Nenhum número é positivo\")"
      ],
      "metadata": {
        "colab": {
          "base_uri": "https://localhost:8080/"
        },
        "id": "vSq3qNTPfE1T",
        "outputId": "ad263639-4a71-4411-ba5d-7a13f83e62b7"
      },
      "execution_count": null,
      "outputs": [
        {
          "output_type": "stream",
          "name": "stdout",
          "text": [
            "Digite um numero: 8\n",
            "Digite outro numero: -5\n",
            "Pelo menos um número é positivo\n"
          ]
        }
      ]
    },
    {
      "cell_type": "code",
      "source": [
        "# 7. Peça dois números e diga se ambos são negativos.\n",
        "\n",
        "num1 = int(input(\"Digite um numero: \"))\n",
        "num2 = int(input(\"Digite outro numero: \"))\n",
        "\n",
        "if num1 < 0 and num2 < 0 :\n",
        "  print(\"Ambos os números são negativos\")\n",
        "else:\n",
        "  print(\"Os números não são negativos\")"
      ],
      "metadata": {
        "id": "I1ftwBjyg-gN",
        "colab": {
          "base_uri": "https://localhost:8080/"
        },
        "outputId": "a567b2ed-7471-43e6-d37c-4ec96e8a623c"
      },
      "execution_count": null,
      "outputs": [
        {
          "output_type": "stream",
          "name": "stdout",
          "text": [
            "Digite um numero: -2\n",
            "Digite outro numero: -5\n",
            "Ambos os números são negativos\n"
          ]
        }
      ]
    },
    {
      "cell_type": "code",
      "source": [
        "# 8. Peça três notas e diga se a média é maior que 7 e todas as notas acima de 5.\n",
        "\n",
        "nota1 = float(input(\"Digite sua nota: \"))\n",
        "nota2 = float(input(\"Digite sua nota: \"))\n",
        "nota3 = float(input(\"Digite sua nota: \"))\n",
        "\n",
        "media = (nota1 + nota2 + nota3)/3\n",
        "\n",
        "if media > 7 and nota1 > 5 and nota2 > 5 and nota3 > 5 :\n",
        "  print(\"A média é maior que 7 e todas as notas são superiores a 5\")\n",
        "else:\n",
        "  print(\"A média não é maior que 7 ou todas as notas não são superiores a 5\")"
      ],
      "metadata": {
        "colab": {
          "base_uri": "https://localhost:8080/"
        },
        "id": "PI9GJEmUFDCE",
        "outputId": "a5bcb2fc-8394-4f77-b9ce-9b8b11cef654"
      },
      "execution_count": null,
      "outputs": [
        {
          "output_type": "stream",
          "name": "stdout",
          "text": [
            "Digite sua nota: 6\n",
            "Digite sua nota: 9\n",
            "Digite sua nota: 7\n",
            "A média é maior que 7 e todas as notas são superiores a 5\n"
          ]
        }
      ]
    },
    {
      "cell_type": "code",
      "source": [
        "# 9. Peça o nome e idade. Se nome for \"Maria\" e idade > 30, mostre \"Acesso Premium\".\n",
        "\n",
        "nome = str(input(\"Digite seu nome: \"))\n",
        "idade = int(input(\"Digite sua idade:\"))\n",
        "\n",
        "if nome == \"Maria\" and idade > 30 :\n",
        "  print(\"Acesso Premium\")\n",
        "else:\n",
        "  print(\"Acesso não permitido\")"
      ],
      "metadata": {
        "colab": {
          "base_uri": "https://localhost:8080/"
        },
        "id": "W-Omog8YIgnf",
        "outputId": "87703232-3748-4df2-b446-7aaa506f82c0"
      },
      "execution_count": null,
      "outputs": [
        {
          "output_type": "stream",
          "name": "stdout",
          "text": [
            "Digite seu nome: João\n",
            "Digite sua idade:32\n",
            "Acesso não permitido\n"
          ]
        }
      ]
    },
    {
      "cell_type": "code",
      "source": [
        "# 10. Peça um número e diga se está fora da faixa entre 10 e 50.\n",
        "\n",
        "num = int(input(\"Digite um numero? \"))\n",
        "\n",
        "if num >= 10 and num <= 50 :\n",
        "  print(\"O numero está dentro da faixa\")\n",
        "else:\n",
        "  print(\"O numero está fora da faixa\")"
      ],
      "metadata": {
        "colab": {
          "base_uri": "https://localhost:8080/"
        },
        "id": "f7i_XAIHPPS9",
        "outputId": "7195ebab-224f-4d4a-f034-ec9ad0fda021"
      },
      "execution_count": null,
      "outputs": [
        {
          "output_type": "stream",
          "name": "stdout",
          "text": [
            "Digite um numero? 9\n",
            "O numero está fora da faixa\n"
          ]
        }
      ]
    },
    {
      "cell_type": "code",
      "source": [],
      "metadata": {
        "id": "4ko7Ovp8YDkd"
      },
      "execution_count": null,
      "outputs": []
    },
    {
      "cell_type": "markdown",
      "source": [
        "# Listinha da felicidade"
      ],
      "metadata": {
        "id": "qbUe2s0NYGqO"
      }
    },
    {
      "cell_type": "code",
      "source": [
        "# 1. Verifique se um número é positivo ou negativo.\n",
        "\n",
        "num = int(input(\"Digite um numero: \"))\n",
        "\n",
        "if num >= 0 :\n",
        "  print(\"O numero é positivo\")\n",
        "else:\n",
        "  print(\"O numero é negativo\")"
      ],
      "metadata": {
        "colab": {
          "base_uri": "https://localhost:8080/"
        },
        "id": "6yP4DRlzYJQQ",
        "outputId": "36fd511f-d40f-45f4-9e40-dbdd7f43473c"
      },
      "execution_count": null,
      "outputs": [
        {
          "output_type": "stream",
          "name": "stdout",
          "text": [
            "Digite um numero: -8\n",
            "O numero é negativo\n"
          ]
        }
      ]
    },
    {
      "cell_type": "code",
      "source": [
        "# 2. Verifique se um número é par ou ímpar.\n",
        "\n",
        "num = int(input(\"Digite um numero: \"))\n",
        "\n",
        "if num % 2 == 0 :\n",
        "  print(\"O numero é par\")\n",
        "else:\n",
        "  print(\"O numero é impar\")"
      ],
      "metadata": {
        "colab": {
          "base_uri": "https://localhost:8080/"
        },
        "id": "7reoUwrjZy2L",
        "outputId": "f0c2bf7a-f21a-410b-8658-25db71430858"
      },
      "execution_count": null,
      "outputs": [
        {
          "output_type": "stream",
          "name": "stdout",
          "text": [
            "Digite um numero: 3\n",
            "O numero é impar\n"
          ]
        }
      ]
    },
    {
      "cell_type": "code",
      "source": [
        "# 3. Dados dois números, imprima o maior.\n",
        "\n",
        "num1 = int(input(\"Digite um numero: \"))\n",
        "num2 = int(input(\"Digite outro numero: \"))\n",
        "\n",
        "if num1 > num2 :\n",
        "  print(\"O primiero numero é maior\")\n",
        "else:\n",
        "  print(\"O segundo numero é maior\")\n"
      ],
      "metadata": {
        "colab": {
          "base_uri": "https://localhost:8080/"
        },
        "id": "7w6By7KuZ6lO",
        "outputId": "03f78729-6f03-4505-d8b4-2a639f590b4a"
      },
      "execution_count": null,
      "outputs": [
        {
          "output_type": "stream",
          "name": "stdout",
          "text": [
            "Digite um numero: 2\n",
            "Digite outro numero: 8\n",
            "O segundo numero é maior\n"
          ]
        }
      ]
    },
    {
      "cell_type": "code",
      "source": [
        "# 4. Dados três números, imprima o maior.\n",
        "\n",
        "num1 = int(input(\"Digite um numero: \"))\n",
        "num2 = int(input(\"Digite um numero: \"))\n",
        "num3 = int(input(\"Digite um numero: \"))\n",
        "\n",
        "if num1 > num2 and num1 > num3 :\n",
        "  print(\"O primeiro numero é maior\")\n",
        "\n",
        "  if num2 > num3 :\n",
        "    print(\"O segundo numero é maior\")\n",
        "else:\n",
        "  print(\"O terceiro numero é maior\")"
      ],
      "metadata": {
        "colab": {
          "base_uri": "https://localhost:8080/"
        },
        "id": "xPkOpZI8aZsg",
        "outputId": "98f4c0e9-d051-4d8b-8789-0ec8ea966f14"
      },
      "execution_count": null,
      "outputs": [
        {
          "output_type": "stream",
          "name": "stdout",
          "text": [
            "Digite um numero: 2\n",
            "Digite um numero: 7\n",
            "Digite um numero: 10\n",
            "O terceiro numero é maior\n"
          ]
        }
      ]
    },
    {
      "cell_type": "code",
      "source": [
        "# 5. Dados três números, imprima-os em ordem crescente.\n",
        "\n",
        "num1 = int(input(\"Digite um numero: \"))\n",
        "num2 = int(input(\"Digite um numero: \"))\n",
        "num3 = int(input(\"Digite um numero: \"))\n",
        "\n",
        "if num1 < num2 and num1 < num3 and num2 < num3 :\n",
        "  print(num1, num2, num3)\n",
        "\n",
        "else:\n",
        "  print(num1, num2, num3)\n"
      ],
      "metadata": {
        "colab": {
          "base_uri": "https://localhost:8080/"
        },
        "id": "K90RbEKCfyaf",
        "outputId": "f0826aab-02a9-4d13-c738-f3d339c268b0"
      },
      "execution_count": null,
      "outputs": [
        {
          "output_type": "stream",
          "name": "stdout",
          "text": [
            "Digite um numero: 8\n",
            "Digite um numero: 10\n",
            "Digite um numero: 11\n",
            "8 10 11\n"
          ]
        }
      ]
    },
    {
      "cell_type": "code",
      "source": [
        "\n",
        "# 6. Verifique se um ano é bissexto.\n",
        "\n",
        "ano = int(input(\"Digite um ano: \"))\n",
        "\n",
        "if ano % 4 == 0 :\n",
        "  print(\"O ano é bissexto\")\n",
        "else:\n",
        "  print(\"O ano não é bissexto\")"
      ],
      "metadata": {
        "colab": {
          "base_uri": "https://localhost:8080/"
        },
        "id": "GecIeN-zh-hs",
        "outputId": "7cfa3109-a793-4c26-8487-7f98a69f4830"
      },
      "execution_count": null,
      "outputs": [
        {
          "output_type": "stream",
          "name": "stdout",
          "text": [
            "Digite um ano: 2024\n",
            "O ano é bissexto\n"
          ]
        }
      ]
    },
    {
      "cell_type": "code",
      "source": [
        "# 6. Verifique se um aluno foi aprovado (média ≥ 7) ou reprovado.\n",
        "\n",
        "nota1 = float(input(\"Digite sua nota:\"))\n",
        "nota2 = float(input(\"Digite sua nota:\"))\n",
        "nota3 = float(input(\"Digite sua nota:\"))\n",
        "nota4 = float(input(\"Digite sua nota:\"))\n",
        "\n",
        "media = (nota1 + nota2 + nota3 + nota4)/4\n",
        "\n",
        "if media >= 7 :\n",
        "  print(\"Aluno aprovado\")\n",
        "else:\n",
        "  print(\"Aluno reprovado\")"
      ],
      "metadata": {
        "colab": {
          "base_uri": "https://localhost:8080/"
        },
        "id": "IHgtLJ7wiuEt",
        "outputId": "4b18efbf-8de4-4719-d19c-3ba158a1d85f"
      },
      "execution_count": null,
      "outputs": [
        {
          "output_type": "stream",
          "name": "stdout",
          "text": [
            "Digite sua nota:2\n",
            "Digite sua nota:3\n",
            "Digite sua nota:5\n",
            "Digite sua nota:8\n",
            "Aluno reprovado\n"
          ]
        }
      ]
    },
    {
      "cell_type": "code",
      "source": [
        "# 7. Calcule o desconto de 10% se o valor da compra for maior que R$ 100.\n",
        "\n",
        "valor = float(input(\"Digite o valor da compra: \"))\n",
        "\n",
        "if 100 < valor :\n",
        "  print(\"O desconto será de 10%\")\n",
        "else:\n",
        "  print(\"O desconto será de 0%\")"
      ],
      "metadata": {
        "colab": {
          "base_uri": "https://localhost:8080/"
        },
        "id": "yPydR0CjkIBn",
        "outputId": "e6fca618-bbf9-44af-ea2f-27d25395f760"
      },
      "execution_count": null,
      "outputs": [
        {
          "output_type": "stream",
          "name": "stdout",
          "text": [
            "Digite o valor da compra: 150\n",
            "O desconto será de 10%\n"
          ]
        }
      ]
    },
    {
      "cell_type": "code",
      "source": [
        "# 8. Verifique se uma letra é vogal ou consoante.\n",
        "\n",
        "letra = str(input(\"Digite uma letra: \"))\n",
        "\n",
        "if letra == \"a\" or letra == \"e\" or letra == \"i\" or letra == \"o\" or letra == \"u\" :\n",
        "  print(\"A letra é uma vogal\")\n",
        "\n",
        "else:\n",
        "  print(\"A letra é uma consoante\")"
      ],
      "metadata": {
        "colab": {
          "base_uri": "https://localhost:8080/"
        },
        "id": "pB3-COwnOL_6",
        "outputId": "81bb7252-2a36-485e-eab6-5cb3984d3061"
      },
      "execution_count": null,
      "outputs": [
        {
          "output_type": "stream",
          "name": "stdout",
          "text": [
            "Digite uma letra: j\n",
            "A letra é uma consoante\n"
          ]
        }
      ]
    },
    {
      "cell_type": "code",
      "source": [
        "# 9. Dados dois valores, troque-os se o primeiro for maior que o segundo.\n",
        "\n",
        "num1 = int(input(\"Digite um numero: \"))\n",
        "num2 = int(input(\"Digite um numero: \"))\n",
        "\n",
        "if num1 > num2 :\n",
        "  print(num2, num1)\n",
        "else:\n",
        "  print(num1, num2)\n"
      ],
      "metadata": {
        "colab": {
          "base_uri": "https://localhost:8080/"
        },
        "id": "huxQ8iOAOoHZ",
        "outputId": "ac16793c-86d1-4279-c961-8a15c292910d"
      },
      "execution_count": null,
      "outputs": [
        {
          "output_type": "stream",
          "name": "stdout",
          "text": [
            "Digite um numero: 2\n",
            "Digite um numero: 3\n",
            "2 3\n"
          ]
        }
      ]
    },
    {
      "cell_type": "code",
      "source": [
        "# 10. Verifique se um número é divisível por 3 e por 5.\n",
        "\n",
        "num = int(input(\"Digite um numero: \"))\n",
        "\n",
        "if num % 3 == 0 and num % 5 == 0 :\n",
        "  print(\"O numero é divisivel por 3 e 5\")\n",
        "else:\n",
        "  print(\"O numero não é divisivel por 3 e 5\")"
      ],
      "metadata": {
        "colab": {
          "base_uri": "https://localhost:8080/"
        },
        "id": "y-rg5bVaO5qZ",
        "outputId": "bc17e84f-58de-460c-a15c-94927f4e7390"
      },
      "execution_count": null,
      "outputs": [
        {
          "output_type": "stream",
          "name": "stdout",
          "text": [
            "Digite um numero: 10\n",
            "O numero não é divisivel por 3 e 5\n"
          ]
        }
      ]
    },
    {
      "cell_type": "code",
      "source": [
        "# 11. Verifique se um triângulo é equilátero, isósceles ou escaleno.\n",
        "\n",
        "lado1 = int(input(\"Digite o lado 1: \"))\n",
        "lado2 = int(input(\"Digite o lado 2: \"))\n",
        "lado3 = int(input(\"Digite o lado 3: \"))\n",
        "\n",
        "if lado1 == lado2 == lado3 :\n",
        "  print(\"O triangulo é equilátero\")\n",
        "else:\n",
        "  print(\"O triangulo não é equilátero\")\n",
        "\n",
        "\n"
      ],
      "metadata": {
        "id": "cgURilxKPT_h",
        "colab": {
          "base_uri": "https://localhost:8080/"
        },
        "outputId": "98926982-15ef-4634-c21e-08ef42ab4792"
      },
      "execution_count": null,
      "outputs": [
        {
          "output_type": "stream",
          "name": "stdout",
          "text": [
            "Digite o lado 1: 3\n",
            "Digite o lado 2: 3\n",
            "Digite o lado 3: 3\n",
            "O triangulo é equilátero\n"
          ]
        }
      ]
    },
    {
      "cell_type": "code",
      "source": [
        "# 12. Calcule o IMC e classifique em \"Abaixo do peso\", \"Normal\" ou \"Sobrepeso\".\n",
        "\n",
        "peso = float(input(\"Digite seu peso: \"))\n",
        "altura = float(input(\"Digite sua altura: \"))\n",
        "\n",
        "imc = peso / (altura * altura)\n",
        "\n",
        "if imc < 18.5 :\n",
        "  print(\"Abaixo do peso\")\n",
        "else:\n",
        "  print(\"Normal\")\n"
      ],
      "metadata": {
        "colab": {
          "base_uri": "https://localhost:8080/"
        },
        "id": "gBCHXz35SGlb",
        "outputId": "7a189be9-ff44-44b8-f9a3-17097df9e529"
      },
      "execution_count": null,
      "outputs": [
        {
          "output_type": "stream",
          "name": "stdout",
          "text": [
            "Digite seu peso: 61\n",
            "Digite sua altura: 1.77\n",
            "Normal\n"
          ]
        }
      ]
    },
    {
      "cell_type": "code",
      "source": [
        "# 13. Verifique se um número está entre 1 e 100.\n",
        "\n",
        "num = int(input(\"Digite um numero: \"))\n",
        "\n",
        "if num >= 1 and num <= 100 :\n",
        "  print(\"O numero está entre 1 e 100\")\n",
        "else:\n",
        "  print(\"O numero não está entre 1 e 100\")\n",
        "\n"
      ],
      "metadata": {
        "colab": {
          "base_uri": "https://localhost:8080/"
        },
        "id": "9ixbXTU-UmXU",
        "outputId": "f3b29412-1669-4a1c-a669-0255c9f7d90c"
      },
      "execution_count": null,
      "outputs": [
        {
          "output_type": "stream",
          "name": "stdout",
          "text": [
            "Digite um numero: 99\n",
            "O numero está entre 1 e 100\n"
          ]
        }
      ]
    },
    {
      "cell_type": "code",
      "source": [
        "# 14. Dada uma idade, classifique em \"Criança\", \"Adolescente\", \"Adulto\" ou \"Idoso\".\n",
        "\n",
        "idade = int(input(\"Digite sua idade: \"))\n",
        "\n",
        "if idade < 12 :\n",
        "  print(\"Você é uma criança\")\n",
        "\n",
        "if idade >= 12 and idade < 18 :\n",
        "  print(\"Você é um adolescente\")\n",
        "\n",
        "if idade >= 18 and idade < 60 :\n",
        "  print(\"Você é um adulto\")\n",
        "\n",
        "if idade >= 60 :\n",
        "  print(\"Você é um idoso\")"
      ],
      "metadata": {
        "id": "U9arTlqdaGTG",
        "colab": {
          "base_uri": "https://localhost:8080/"
        },
        "outputId": "4b8a5288-c9e9-44f6-a93b-dc788f2af030"
      },
      "execution_count": null,
      "outputs": [
        {
          "output_type": "stream",
          "name": "stdout",
          "text": [
            "Digite sua idade: 61\n",
            "Você é um idoso\n"
          ]
        }
      ]
    },
    {
      "cell_type": "code",
      "source": [
        "# 15. Verifique se um número é múltiplo de 7 ou termina com 7.\n",
        "\n",
        "num = int(input(\"Digite um numero: \"))\n",
        "\n",
        "if num % 7 == 0 :\n",
        "  print(\"O numero é multiplo de 7\")\n",
        "else:\n",
        "  print(\"O numero não é multiplo de 7\")\n",
        "\n"
      ],
      "metadata": {
        "colab": {
          "base_uri": "https://localhost:8080/"
        },
        "id": "VvEAF9P6W_RT",
        "outputId": "f05afdc2-a594-4a24-8f63-f6cba137855d"
      },
      "execution_count": null,
      "outputs": [
        {
          "output_type": "stream",
          "name": "stdout",
          "text": [
            "Digite um numero: 7\n",
            "O numero é multiplo de 7\n"
          ]
        }
      ]
    },
    {
      "cell_type": "code",
      "source": [
        "# 16. Dados três lados, verifique se formam um triângulo válido.\n",
        "\n",
        "lado1 = int(input(\"Digite o lado 1: \"))\n",
        "lado2 = int(input(\"Digite o lado 2: \"))\n",
        "lado3 = int(input(\"Digite o lado 3: \"))\n",
        "\n",
        "if lado1 < lado2 + lado3 and lado2 < lado1 + lado3 and lado3 < lado1 + lado2 :\n",
        "  print(\"Forma um triangulo\")\n",
        "else:\n",
        "  print(\"Não forma um triangulo\")\n"
      ],
      "metadata": {
        "colab": {
          "base_uri": "https://localhost:8080/"
        },
        "id": "CLTY4l_MZBq7",
        "outputId": "9341875f-89fd-405e-8e80-811ac07c5b7c"
      },
      "execution_count": null,
      "outputs": [
        {
          "output_type": "stream",
          "name": "stdout",
          "text": [
            "Digite o lado 1: 1\n",
            "Digite o lado 2: 1\n",
            "Digite o lado 3: 1\n",
            "Forma um triangulo\n"
          ]
        }
      ]
    },
    {
      "cell_type": "code",
      "source": [
        "# 17. Verifique se um número é primo.\n",
        "\n",
        "num = int(input(\"Digite um numero: \"))\n",
        "\n",
        "if num % num == 0 and num % 1 == 0 :\n",
        "  print(\"O numero é primo\")\n",
        "else:\n",
        "  print(\"O numero não é primo\")"
      ],
      "metadata": {
        "colab": {
          "base_uri": "https://localhost:8080/"
        },
        "id": "N7ky_IwtfICQ",
        "outputId": "e42697d5-9752-4585-8fc0-4b8a9e4ebe8d"
      },
      "execution_count": null,
      "outputs": [
        {
          "output_type": "stream",
          "name": "stdout",
          "text": [
            "Digite um numero: 11\n",
            "O numero é primo\n"
          ]
        }
      ]
    },
    {
      "cell_type": "code",
      "source": [
        "# 18. Converta uma nota numérica em conceito (A, B, C, D, F).\n",
        "\n",
        "nota = float(input(\"Digite sua nota: \"))\n",
        "\n",
        "if nota >= 9 :\n",
        "  print(\"Você tirou A\")\n",
        "\n",
        "if nota >= 8 and nota < 9 :\n",
        "  print(\"Você tirou B\")\n",
        "\n",
        "if nota >= 7 and nota < 8 :\n",
        "  print(\"Você tirou C\")\n",
        "\n",
        "if nota >= 6 and nota < 7 :\n",
        "  print(\"Você tirou D\")\n",
        "\n",
        "if nota < 6 :\n",
        "  print(\"Você tirou F\")"
      ],
      "metadata": {
        "colab": {
          "base_uri": "https://localhost:8080/"
        },
        "id": "7ntaXmM9kLK8",
        "outputId": "d05e5b9a-1d22-413a-a018-0c8cb405dc80"
      },
      "execution_count": null,
      "outputs": [
        {
          "output_type": "stream",
          "name": "stdout",
          "text": [
            "Digite sua nota: 10\n",
            "Você tirou A\n"
          ]
        }
      ]
    },
    {
      "cell_type": "code",
      "source": [
        "# 19. Verifique se um ponto (x, y) está no primeiro quadrante.\n",
        "\n",
        "x = int(input(\"Digite o valor: \"))\n",
        "y = int(input(\"Digite o valor: \"))\n",
        "\n",
        "if x > 0 and y > 0 :\n",
        "  print(\"O ponto está no primeiro quadrante\")\n",
        "else:\n",
        "  print(\"O ponto não está no primeiro quadrante\")\n"
      ],
      "metadata": {
        "colab": {
          "base_uri": "https://localhost:8080/"
        },
        "id": "AVkud3IvnKil",
        "outputId": "55632e11-d474-478e-8663-45a1c97c84c8"
      },
      "execution_count": null,
      "outputs": [
        {
          "output_type": "stream",
          "name": "stdout",
          "text": [
            "Digite o valor: -2\n",
            "Digite o valor: -8\n",
            "O ponto não está no primeiro quadrante\n"
          ]
        }
      ]
    },
    {
      "cell_type": "code",
      "source": [
        "# 20. Dados dois horários (hora, min), verifique qual vem primeiro.\n",
        "\n",
        "hora1 = int(input(\"Digite a hora: \"))\n",
        "min1 = int(input(\"Digite os minutos: \"))\n",
        "\n",
        "hora2 = int(input(\"Digite a hora: \"))\n",
        "min2 = int(input(\"Digite os minutos: \"))\n",
        "\n",
        "if hora1 < hora2 :\n",
        "  print(\"O primeiro horario vem primeiro\")\n",
        "else:\n",
        "  print(\"O segundo horario vem primeiro\")"
      ],
      "metadata": {
        "colab": {
          "base_uri": "https://localhost:8080/"
        },
        "id": "KQehBLzvr1DK",
        "outputId": "eeeb5254-9cc8-49d5-c648-f1e32ce4a101"
      },
      "execution_count": null,
      "outputs": [
        {
          "output_type": "stream",
          "name": "stdout",
          "text": [
            "Digite a hora: 12\n",
            "Digite os minutos: 2\n",
            "Digite a hora: 11\n",
            "Digite os minutos: 3\n",
            "O segundo horario vem primeiro\n"
          ]
        }
      ]
    },
    {
      "cell_type": "code",
      "source": [
        "# 21. Verifique se uma string tem mais de 10 caracteres."
      ],
      "metadata": {
        "id": "SxxvTva-14Hs"
      },
      "execution_count": null,
      "outputs": []
    },
    {
      "cell_type": "code",
      "source": [],
      "metadata": {
        "id": "putfhqWNXjEg"
      },
      "execution_count": null,
      "outputs": []
    },
    {
      "cell_type": "markdown",
      "source": [
        "# FUNÇÕES        "
      ],
      "metadata": {
        "id": "qgMj3cq_lu3e"
      }
    },
    {
      "cell_type": "code",
      "source": [
        "# MEDIA DAS 2 NOTAS DO ALUNO\n",
        "\n",
        "nota1 = float(input(\"Coloque a sua nota: \"))\n",
        "nota2 = float(input(\"Coloque a sua nota: \"))\n",
        "\n",
        "media = (nota1 + nota2)/2\n",
        "\n",
        "if media > 6 :\n",
        "  print(f\"Você está aprovado, sua media foi {media}\")\n",
        "\n",
        "else:\n",
        "  print(f\"Você está reprovado, vai acordar cedo amanha\")\n",
        "\n",
        "print(\"Bom dia\")\n"
      ],
      "metadata": {
        "colab": {
          "base_uri": "https://localhost:8080/"
        },
        "id": "5PlwJqpRvWK7",
        "outputId": "f8300c4c-a3de-4bd7-e997-105d5cdbcf8c"
      },
      "execution_count": null,
      "outputs": [
        {
          "output_type": "stream",
          "name": "stdout",
          "text": [
            "Coloque a sua nota: 5\n",
            "Coloque a sua nota: 9\n",
            "Você está aprovado, sua media foi 7.0\n",
            "Bom dia\n"
          ]
        }
      ]
    },
    {
      "cell_type": "code",
      "source": [
        "# UM POUQUINHO DE FUNÇÕES\n",
        "\n",
        "def media_denise(nt1: float, nt2: float):\n",
        "  media = (nt1 + nt2)/2\n",
        "\n",
        "  return media\n",
        "\n",
        "print(media_denise(nt1 = 8, nt2 = 7))"
      ],
      "metadata": {
        "colab": {
          "base_uri": "https://localhost:8080/"
        },
        "id": "PkDxuEAGv66o",
        "outputId": "16a368f2-7f9a-4bd7-8aab-46198fe10917"
      },
      "execution_count": null,
      "outputs": [
        {
          "output_type": "stream",
          "name": "stdout",
          "text": [
            "7.5\n"
          ]
        }
      ]
    },
    {
      "cell_type": "code",
      "source": [
        "def quadrado(n2: int):\n",
        "  quadrado = n2 * n2\n",
        "  return quadrado\n",
        "\n",
        "print(quadrado(n2 = 5))\n",
        "\n"
      ],
      "metadata": {
        "colab": {
          "base_uri": "https://localhost:8080/"
        },
        "id": "T7vEGTO7wafS",
        "outputId": "222e606b-fd8a-410b-c107-a725d6cd4f48"
      },
      "execution_count": null,
      "outputs": [
        {
          "output_type": "stream",
          "name": "stdout",
          "text": [
            "25\n",
            "O numero é o <function quadrado at 0x7b1d505062a0>\n"
          ]
        }
      ]
    },
    {
      "cell_type": "code",
      "source": [
        "def multiplicar(n1: int, n2: int):\n",
        "  multiplicar = n1 * n2\n",
        "  return multiplicar\n",
        "\n",
        "print(multiplicar(n1 = 8, n2 = 9))"
      ],
      "metadata": {
        "colab": {
          "base_uri": "https://localhost:8080/"
        },
        "id": "RU8xPw2N0m1m",
        "outputId": "7ad6d84e-2b37-4557-9537-1399d857c921"
      },
      "execution_count": null,
      "outputs": [
        {
          "output_type": "stream",
          "name": "stdout",
          "text": [
            "72\n"
          ]
        }
      ]
    },
    {
      "cell_type": "code",
      "source": [
        "def media_notas():\n",
        "\n",
        "  nota1 = float(input(\"Coloque a sua nota: \"))\n",
        "  nota2 = float(input(\"Coloque a  sua nota: \"))\n",
        "\n",
        "  media = (nota1 + nota2)/2\n",
        "\n",
        "  if media > 6 :\n",
        "    print(f\"Você está aaprovado, sua media foi {media}\")\n",
        "\n",
        "  else:\n",
        "    print(f\"você está reprovado\")\n",
        "\n",
        "media_notas()\n"
      ],
      "metadata": {
        "colab": {
          "base_uri": "https://localhost:8080/"
        },
        "id": "Emp7KSr62Ge7",
        "outputId": "1f96b24c-8cc2-487a-eec3-87645df85b37"
      },
      "execution_count": null,
      "outputs": [
        {
          "output_type": "stream",
          "name": "stdout",
          "text": [
            "Coloque a sua nota: 10\n",
            "Coloque a  sua nota: 8\n",
            "Você está aaprovado, sua media foi 9.0\n"
          ]
        }
      ]
    },
    {
      "cell_type": "code",
      "source": [
        "import random\n",
        "import time\n",
        "\n",
        "print(\"Rolando os dados\")\n",
        "time.sleep(1)\n",
        "print(\".\")\n",
        "time.sleep(1)\n",
        "print(\"..\")\n",
        "time.sleep(2)\n",
        "print(\"...\")\n",
        "time.sleep(3)\n",
        "random.randrange(1,20)"
      ],
      "metadata": {
        "colab": {
          "base_uri": "https://localhost:8080/"
        },
        "id": "02Ai8njjjm8_",
        "outputId": "ff053020-87bb-4d24-ac16-a54cffda1b7b"
      },
      "execution_count": null,
      "outputs": [
        {
          "output_type": "stream",
          "name": "stdout",
          "text": [
            "Rolando os dados\n",
            ".\n",
            "..\n",
            "...\n"
          ]
        },
        {
          "output_type": "execute_result",
          "data": {
            "text/plain": [
              "19"
            ]
          },
          "metadata": {},
          "execution_count": 17
        }
      ]
    },
    {
      "cell_type": "code",
      "source": [],
      "metadata": {
        "id": "N3YsoWvynvjh"
      },
      "execution_count": null,
      "outputs": []
    },
    {
      "cell_type": "code",
      "source": [
        "# Condição simples - Se chover pegue o guarda chuva\n",
        "\n",
        "tempo = str(input(\"Está chovendo? \"))\n",
        "\n",
        "if tempo == \"Sim\" :\n",
        "  print(\"Pegue o guarda chuva\")\n",
        "\n",
        "else:\n",
        "  print(\"Não precisa de guarda chuva\")\n",
        "\n",
        "print(\"Tenha um bom dia\")"
      ],
      "metadata": {
        "colab": {
          "base_uri": "https://localhost:8080/"
        },
        "id": "xPFXTvtgsKsu",
        "outputId": "946f71ee-39d6-4497-9c97-25b5ae64da4f"
      },
      "execution_count": null,
      "outputs": [
        {
          "output_type": "stream",
          "name": "stdout",
          "text": [
            "Está chovendo? Sim\n",
            "Pegue o guarda chuva\n",
            "Tenha um bom dia\n"
          ]
        }
      ]
    },
    {
      "cell_type": "code",
      "source": [
        "# Condição composto - Dependendo do clima escolha entre\n",
        "# Oculos escuro ou guarda chuva\n",
        "\n",
        "tempo = str(input(\"Está chovendo? \"))\n",
        "\n",
        "if tempo == \"Sim\" :\n",
        "  print(\"Pegue o guarda chuva\")\n",
        "\n",
        "else:\n",
        "  print(\"Está muito sol pegue os oculos escuro\")\n",
        "\n",
        "print(\"Tenha um bom dia\")"
      ],
      "metadata": {
        "colab": {
          "base_uri": "https://localhost:8080/"
        },
        "id": "6ZSTeByk02z4",
        "outputId": "2c455ae3-36b2-4452-b0f9-0faccbb3486b"
      },
      "execution_count": null,
      "outputs": [
        {
          "output_type": "stream",
          "name": "stdout",
          "text": [
            "Está chovendo? Não\n",
            "Está muito sol pegue os oculos escuro\n",
            "Tenha um bom dia\n"
          ]
        }
      ]
    },
    {
      "cell_type": "code",
      "source": [
        "clima = str(input(\"Está chovendo? \"))\n",
        "\n",
        "verificador = clima == str(\"s\")\n",
        "\n",
        "if verificador:\n",
        "  print(\"Pegue o guarda chuva\")\n",
        "\n",
        "else:\n",
        "  print(\"Está muito sol pegue os oculos\")\n",
        "\n",
        "print(\"Bom dia e bom trabalho\")"
      ],
      "metadata": {
        "colab": {
          "base_uri": "https://localhost:8080/"
        },
        "id": "K0APsUQo2Lzf",
        "outputId": "d5558c88-c4f6-4258-fb02-82ae4af7b09a"
      },
      "execution_count": null,
      "outputs": [
        {
          "output_type": "stream",
          "name": "stdout",
          "text": [
            "Está chovendo? s\n",
            "Pegue o guarda chuva\n",
            "Bom dia e bom trabalho\n"
          ]
        }
      ]
    },
    {
      "cell_type": "code",
      "source": [],
      "metadata": {
        "id": "gQmVZAGdFpJo"
      },
      "execution_count": null,
      "outputs": []
    },
    {
      "cell_type": "markdown",
      "source": [
        "# DESAFIO"
      ],
      "metadata": {
        "id": "a1zz3cAlpxTE"
      }
    },
    {
      "cell_type": "code",
      "source": [
        "# se a gasolina é 5,73, se o alcool é 4,32\n",
        "# um modelo a gasolina faz 13km/l e a alcool 8km/l\n",
        "# peça ao usuário o combustivel que ele vai usar\n",
        "# peça ao usuario o valor em litros que ele colocou no carro e\n",
        "# informe quanto vai dar essa conta e quanto o carro dele vai andar\n",
        "# quantos km ele vai andar\n",
        "\n",
        "combustivel = str(input(\"Digite o combustivel: \"))\n",
        "litros = float(input(\"Digite a quantidade de litros: \"))\n",
        "\n",
        "litros_gasolina = 5.73\n",
        "litros_alcool = 4.32\n",
        "\n",
        "km_gasolina = (litros_gasolina * 13)/1\n",
        "km_alcool = (litros_alcool * 8)/1\n",
        "\n",
        "valor_gasolina = (litros * litros_gasolina)\n",
        "valor_alcool = (litros * litros_alcool)\n",
        "\n",
        "if combustivel == \"gasolina\" :\n",
        "  print(f\"Você andou {km_gasolina}km com gasolina e gastou {valor_gasolina}\")\n",
        "else:\n",
        "  print(f\"Você andou {km_alcool}km com alcool e gastou {valor_alcool}\")\n",
        "\n",
        "print(\"Tenha um bom dia\")\n",
        "\n",
        "\n",
        "\n"
      ],
      "metadata": {
        "colab": {
          "base_uri": "https://localhost:8080/"
        },
        "id": "txLJZzOipzVF",
        "outputId": "4c99b6fc-0f59-4186-e12f-9c9f415cdc5f"
      },
      "execution_count": null,
      "outputs": [
        {
          "output_type": "stream",
          "name": "stdout",
          "text": [
            "Digite o combustivel: alcool\n",
            "Digite a quantidade de litros: 13\n",
            "Você andou 34.56km com alcool e gastou 56.160000000000004\n",
            "Tenha um bom dia\n"
          ]
        }
      ]
    },
    {
      "cell_type": "code",
      "source": [
        "# Calculadora\n",
        "\n",
        "numero1 = int(input(\"Coloque um numero: \"))\n",
        "numero2 = int(input(\"Coloque outro numero: \"))\n",
        "operacao = str(input(\"Coloque o sinal da operação: \"))\n",
        "\n",
        "if operacao == str(\"+\") :\n",
        "  resultado = numero1 + numero2\n",
        "  print(resultado)\n",
        "\n",
        "if operacao == str(\"-\") :\n",
        "  resultado = numero1 - numero2\n",
        "  print(resultado)\n",
        "\n",
        "if operacao == str(\"X\") :\n",
        "  resultado = numero1 * numero2\n",
        "  print(resultado)\n",
        "\n",
        "if operacao == str(\"/\") :\n",
        "  resultado = numero1 / numero2\n",
        "  print(resultado)\n",
        "\n",
        "print(\"tenha um bom dia\")"
      ],
      "metadata": {
        "colab": {
          "base_uri": "https://localhost:8080/"
        },
        "id": "6K00tRubsRVY",
        "outputId": "41f494b9-b84c-4f0b-c4a9-882461d37c30"
      },
      "execution_count": null,
      "outputs": [
        {
          "output_type": "stream",
          "name": "stdout",
          "text": [
            "Coloque um numero: 1300\n",
            "Coloque outro numero: 260\n",
            "Coloque o sinal da operação: -\n",
            "1040\n",
            "tenha um bom dia\n"
          ]
        }
      ]
    },
    {
      "cell_type": "code",
      "source": [
        "# o semaforo tem as opções verde e vermelho\n",
        "# então a partir da cor do sinal, defina a ação do motorista\n",
        "\n",
        "sinal = str(input(\"Digite a cor do sinal: \"))\n",
        "\n",
        "if sinal == str(\"Verde\") :\n",
        "  print(\"Pode seguir\")\n",
        "\n",
        "if sinal == str(\"Vermelho\") :\n",
        "  print(\"Pare\")\n",
        "\n",
        "print(f\"O sinal está {sinal}, tenha um bom dia\")"
      ],
      "metadata": {
        "colab": {
          "base_uri": "https://localhost:8080/"
        },
        "id": "q5ZX2JMJ74rs",
        "outputId": "61709444-0491-455e-eae1-4614ca6dccf7"
      },
      "execution_count": null,
      "outputs": [
        {
          "output_type": "stream",
          "name": "stdout",
          "text": [
            "Digite a cor do sinal: Verde\n",
            "Pode seguir\n",
            "O sinal está Verde, tenha um bom dia\n"
          ]
        }
      ]
    },
    {
      "cell_type": "code",
      "source": [
        "# Se o salario for menor que 5000 cobre 20% de imposto\n",
        "# Se não cobre 35% de imposto\n",
        "\n",
        "salario = float(input(\"Digite o seu salario: \"))\n",
        "\n",
        "if salario < float(5000) :\n",
        "  imposto = salario * 0.20\n",
        "  print(f\"O imposto a ser cobrado: R$ {imposto:.2f}, Seu salario liquido é {salario - imposto}\")\n",
        "\n",
        "\n",
        "else:\n",
        "  imposto = salario * 0.35\n",
        "  print(f\"O imposto   a ser cobrado: R$ {imposto:.2f}, Seu salario liquido é {salario - imposto}\")\n",
        "\n",
        "print(\"Tenha um bom dia\")\n",
        "\n"
      ],
      "metadata": {
        "colab": {
          "base_uri": "https://localhost:8080/"
        },
        "id": "NH3KXSPX-mCt",
        "outputId": "3cd6bd46-9d4b-4c23-a1fe-945ab9ba1fbb"
      },
      "execution_count": null,
      "outputs": [
        {
          "output_type": "stream",
          "name": "stdout",
          "text": [
            "Digite o seu salario: 8360\n",
            "O imposto a ser cobrado: R$ 2926.00, Seu salario liquido é 5434.0\n",
            "Tenha um bom dia\n"
          ]
        }
      ]
    },
    {
      "cell_type": "markdown",
      "source": [
        "## STRINGS\n",
        "\n",
        "É uma sequência de caracteres. Encapsuladas entre aspas.\n",
        "\n",
        "- EX: \"Bom dia\"\n",
        "- EX: \"12/04/2001\"\n",
        "- EX: \"123.456.789-10\"\n",
        "\n",
        "</br>\n",
        "</br>\n",
        "\n",
        "### Funções Especiais - São Boleanas\n",
        "\n",
        "* isalnum() > Alfa-numericos(todas as letras e numeros)\n",
        "\n",
        "* isalpha() > Apenas letras\n",
        "\n",
        "* isdecimal() > Apenas de 0 - 9\n",
        "\n",
        "* isdigit() > Apenas numeros\n",
        "\n",
        "* isnumeric() > Numeros, ACEITA ROMANOS\n",
        "\n",
        "* index() > Buscador"
      ],
      "metadata": {
        "id": "KVCIJhpzY82a"
      }
    },
    {
      "cell_type": "code",
      "source": [
        "# VAMOS BRINCAR COM STRINGS\n",
        "\n",
        "msg = \"Bom dia, Luizinho BIRULEIBE\"\n",
        "\n",
        "# Contar o numero de caracteres da string\n",
        "\n",
        "len(msg)\n",
        "\n",
        "print(f\"Contagem de caracteres: {len(msg)}\")\n",
        "# msg.len() não puxa de fora\n",
        "\n",
        "msg2 = \"123   \"\n",
        "print(f\"Contagem de espaços vazios em msg2: {len(msg2)}\")\n",
        "\n",
        "# SEGMENTAÇÃO DE STRING - CORTAR UM PEDAÇO\n",
        "\n",
        "msg3 = \"Bom dia\"\n",
        "print(f\"A frase {msg3} >  a letra 0 é {msg3[3]}\")\n",
        "print(f\"A frase {msg3} e o pedaço > {msg[1:6]}\")\n",
        "verifica = msg3[0] == \"B\"\n",
        "\n",
        "print(verifica)\n",
        "\n",
        "# Deixa tudo minusculo\n",
        "\n",
        "print(msg.lower())\n",
        "\n",
        "# Deixa tudo maiusculo\n",
        "\n",
        "print(msg.upper())\n",
        "\n",
        "# Apenas a primeira letra fica maiuscula\n",
        "\n",
        "print(msg.capitalize())\n",
        "\n",
        "# As primeiras letras ficam maiusculas\n",
        "\n",
        "print(msg.title())\n",
        "\n",
        "# Count - conta quantos caracteres especificos existem na string\n",
        "\n",
        "msg = msg.lower()\n",
        "print(f\"A frase >> {msg} // tem i {msg.count('i')}\")\n",
        "\n",
        "# FIND - BUSCA O PRIMEIRO VALOR PESQUISADO\n",
        "\n",
        "# Replace\n",
        "\n",
        "msg4 = msg.replace('Biruleibe', 'felipe santanna de menezes ')\n",
        "nome = str(\"Luiz Felipe Santanna de Menezes Bernardo\")\n",
        "print(nome.title())\n",
        "nome_corrigido = msg.replace(' De ', ' de ')\n",
        "print(nome_corrigido)"
      ],
      "metadata": {
        "colab": {
          "base_uri": "https://localhost:8080/"
        },
        "id": "EexJBsLyaB7a",
        "outputId": "8daec417-1238-4536-9cde-dffacfe1e073"
      },
      "execution_count": null,
      "outputs": [
        {
          "output_type": "stream",
          "name": "stdout",
          "text": [
            "Contagem de caracteres: 27\n",
            "Contagem de espaços vazios em msg2: 6\n",
            "A frase Bom dia >  a letra 0 é  \n",
            "A frase Bom dia e o pedaço > om di\n",
            "True\n",
            "bom dia, luizinho biruleibe\n",
            "BOM DIA, LUIZINHO BIRULEIBE\n",
            "Bom dia, luizinho biruleibe\n",
            "Bom Dia, Luizinho Biruleibe\n",
            "A frase >> bom dia, luizinho biruleibe // tem i 5\n",
            "Luiz Felipe Santanna De Menezes Bernardo\n",
            "bom dia, luizinho biruleibe\n"
          ]
        }
      ]
    },
    {
      "cell_type": "code",
      "source": [
        "nome = \"Luiz Felipe Santanna De Menezes\"\n",
        "nome_corrigido = nome.replace(' De ' , ' de ')\n",
        "print(nome_corrigido)"
      ],
      "metadata": {
        "colab": {
          "base_uri": "https://localhost:8080/"
        },
        "id": "HJBvs27RaOpT",
        "outputId": "c6ef1389-ae35-48c8-f431-500532bf1443"
      },
      "execution_count": null,
      "outputs": [
        {
          "output_type": "stream",
          "name": "stdout",
          "text": [
            "Luiz Felipe Santanna de Menezes\n"
          ]
        }
      ]
    },
    {
      "cell_type": "code",
      "source": [
        "nome = \"Luizinho Biruleibe\"\n",
        "nome_corrigido = nome.replace('Biruleibe' , 'Felipe')\n",
        "print(nome_corrigido)"
      ],
      "metadata": {
        "colab": {
          "base_uri": "https://localhost:8080/"
        },
        "id": "hVnuzNMTaemE",
        "outputId": "0cbc88cf-736c-49fe-f83f-b099ff9f3cc3"
      },
      "execution_count": null,
      "outputs": [
        {
          "output_type": "stream",
          "name": "stdout",
          "text": [
            "Luizinho Felipe\n"
          ]
        }
      ]
    },
    {
      "cell_type": "markdown",
      "source": [
        "# LISTINHA DA FELICIDAE 6"
      ],
      "metadata": {
        "id": "TI1STKnvcyQv"
      }
    },
    {
      "cell_type": "code",
      "source": [
        "# 1. Leia uma string e exiba seu comprimento.\n",
        "\n",
        "string = str(input(\"Digite uma frase: \"))\n",
        "\n",
        "print(f\"A frase {string}, tem {len(string)} letras \")"
      ],
      "metadata": {
        "colab": {
          "base_uri": "https://localhost:8080/"
        },
        "id": "aEiepvW_c3Kz",
        "outputId": "961e1d33-9215-46c2-a7df-8509c1fa9679"
      },
      "execution_count": null,
      "outputs": [
        {
          "output_type": "stream",
          "name": "stdout",
          "text": [
            "Digite uma frase: Carros\n",
            "A frase Carros, tem 6 letras \n"
          ]
        }
      ]
    },
    {
      "cell_type": "code",
      "source": [
        "# 2. Leia uma string e imprima a primeira letra.\n",
        "\n",
        "string = str(input(\"Digite uma frase: \"))\n",
        "\n",
        "print(f\"A primeira letra da frase {string}, é {string[0]}\")"
      ],
      "metadata": {
        "colab": {
          "base_uri": "https://localhost:8080/"
        },
        "id": "Z8ELFvnPdLgZ",
        "outputId": "34f91b58-b2c2-4664-9915-ead095e501be"
      },
      "execution_count": null,
      "outputs": [
        {
          "output_type": "stream",
          "name": "stdout",
          "text": [
            "Digite uma frase: Carro\n",
            "A primeira letra da frase Carro, é C\n"
          ]
        }
      ]
    },
    {
      "cell_type": "code",
      "source": [
        "# 3. Leia uma string e exiba a última letra.\n",
        "\n",
        "string = str(input(\"Digite uma frase: \"))\n",
        "print(f\"A ultima letra da frase {string}, é {string [-1]}\")"
      ],
      "metadata": {
        "colab": {
          "base_uri": "https://localhost:8080/"
        },
        "id": "L6n4FoyZdza7",
        "outputId": "25bb815f-3576-439b-eefa-ca80035a6727"
      },
      "execution_count": null,
      "outputs": [
        {
          "output_type": "stream",
          "name": "stdout",
          "text": [
            "Digite uma frase: caros\n",
            "A ultima letra da frase caros, é s\n"
          ]
        }
      ]
    },
    {
      "cell_type": "code",
      "source": [
        "# 4. Leia uma string e exiba todos os caracteres em maiúsculo.\n",
        "\n",
        "string = str(input(\"Digite uma frase: \"))\n",
        "\n",
        "print(string.upper())"
      ],
      "metadata": {
        "colab": {
          "base_uri": "https://localhost:8080/"
        },
        "id": "L0cQ9kOIlu29",
        "outputId": "f5136e0d-5f0e-4266-b077-dee320983ef5"
      },
      "execution_count": null,
      "outputs": [
        {
          "output_type": "stream",
          "name": "stdout",
          "text": [
            "Digite uma frase: corinthians\n",
            "CORINTHIANS\n"
          ]
        }
      ]
    },
    {
      "cell_type": "code",
      "source": [
        "# 5. Leia uma string e exiba todos os caracteres em minúsculo.\n",
        "\n",
        "string = str(input(\"Digite uma frase: \"))\n",
        "\n",
        "print(string.lower())"
      ],
      "metadata": {
        "colab": {
          "base_uri": "https://localhost:8080/"
        },
        "id": "ZNAw8l1Un29h",
        "outputId": "928f21c9-b2ef-47bc-8ec9-9dfc8da6f5b3"
      },
      "execution_count": null,
      "outputs": [
        {
          "output_type": "stream",
          "name": "stdout",
          "text": [
            "Digite uma frase: PALMEIRAS NANICO\n",
            "palmeiras nanico\n"
          ]
        }
      ]
    },
    {
      "cell_type": "code",
      "source": [
        "# 6. Verifique se uma string contém a letra \"a\".\n",
        "\n",
        "string = str( \"Vai Corinthains\")\n",
        "\n",
        "buscador = nome.find('a' or 'A')\n",
        "\n",
        "print(buscador)"
      ],
      "metadata": {
        "colab": {
          "base_uri": "https://localhost:8080/"
        },
        "id": "C-Bg4EKloBrh",
        "outputId": "32b1546d-6f65-43ee-ae05-ba421c5eefde"
      },
      "execution_count": null,
      "outputs": [
        {
          "output_type": "stream",
          "name": "stdout",
          "text": [
            "-1\n"
          ]
        }
      ]
    },
    {
      "cell_type": "code",
      "source": [
        "# 7. Leia duas strings e as concatene.\n",
        "\n",
        "string1 = str(input(\"Digite uma frase: \"))\n",
        "string2 = str(input(\"Digite uma frase: \"))\n",
        "\n",
        "print(string1 + string2)"
      ],
      "metadata": {
        "colab": {
          "base_uri": "https://localhost:8080/"
        },
        "id": "A8PIwcTZoLQU",
        "outputId": "89137b64-ed30-465b-ab58-c2972bb79183"
      },
      "execution_count": null,
      "outputs": [
        {
          "output_type": "stream",
          "name": "stdout",
          "text": [
            "Digite uma frase: Palmeiras\n",
            "Digite uma frase:  Nanico\n",
            "Palmeiras Nanico\n"
          ]
        }
      ]
    },
    {
      "cell_type": "code",
      "source": [
        "# 8. Verifique se uma string começa com \"A\".\n",
        "\n",
        "texto = str(input(\"Digite uma frase: \"))\n",
        "\n",
        "if texto[0] == \"A\":\n",
        " print(\"Sua frase começa com A\")\n",
        "\n",
        "else:\n",
        "  print(\"Sua frase não começa com A\")\n",
        "\n"
      ],
      "metadata": {
        "colab": {
          "base_uri": "https://localhost:8080/"
        },
        "id": "v3YQntiPoiKY",
        "outputId": "b3c26295-7ac4-4e6c-b45e-f8da0ec8d788"
      },
      "execution_count": null,
      "outputs": [
        {
          "output_type": "stream",
          "name": "stdout",
          "text": [
            "Digite uma frase: Amanhacer\n",
            "Sua frase começa com A\n"
          ]
        }
      ]
    },
    {
      "cell_type": "code",
      "source": [
        "# 9. Verifique se uma string termina com \"z\".\n",
        "\n",
        "texto = str(input(\"Digite uma frase: \"))\n",
        "\n",
        "if texto[-1] == \"z\":\n",
        "  print(\"Sua frase termina com a letra Z\")\n",
        "else:\n",
        "  print(\"Sua frase não termina com a letra Z\")"
      ],
      "metadata": {
        "colab": {
          "base_uri": "https://localhost:8080/"
        },
        "id": "ZH5zJE-UrbKv",
        "outputId": "b693fb11-125c-4f53-d225-00465b04c594"
      },
      "execution_count": null,
      "outputs": [
        {
          "output_type": "stream",
          "name": "stdout",
          "text": [
            "Digite uma frase: Arroz\n",
            "Sua frase termina com a letra Z\n"
          ]
        }
      ]
    },
    {
      "cell_type": "code",
      "source": [
        "# 10. Conte quantas letras \"e\" há em uma string.\n",
        "\n",
        "texto = str(input(\"Digite uma frase: \"))\n",
        "\n",
        "print(texto.count(\"E\"))\n",
        "\n"
      ],
      "metadata": {
        "colab": {
          "base_uri": "https://localhost:8080/"
        },
        "id": "27J-NeKcsgSn",
        "outputId": "ef6fc285-f35f-401d-a880-6e97716d5d9c"
      },
      "execution_count": null,
      "outputs": [
        {
          "output_type": "stream",
          "name": "stdout",
          "text": [
            "Digite uma frase: ELEFANTE\n",
            "3\n"
          ]
        }
      ]
    },
    {
      "cell_type": "code",
      "source": [
        "# 11. Troque todas as letras \"a\" por \"x\".\n",
        "\n",
        "texto = str(input(\"Digite uma frase: \"))\n",
        "\n",
        "texto = texto.replace (\"A\" , \"X\")\n",
        "\n",
        "print(texto)"
      ],
      "metadata": {
        "colab": {
          "base_uri": "https://localhost:8080/"
        },
        "id": "X2xeBlrKuKaR",
        "outputId": "38c224f4-edea-43f6-e565-81235d9d3985"
      },
      "execution_count": null,
      "outputs": [
        {
          "output_type": "stream",
          "name": "stdout",
          "text": [
            "Digite uma frase: Arroxxx\n",
            "Xrroxxx\n"
          ]
        }
      ]
    },
    {
      "cell_type": "code",
      "source": [
        "# 12. Verifique se duas strings são iguais.\n",
        "\n",
        "string = str(input(\"Digite uma frase: \"))\n",
        "string2 = str(input(\"Digite uma frase: \"))\n",
        "\n",
        "verificador = (string == string2)\n",
        "\n",
        "print(verificador)"
      ],
      "metadata": {
        "colab": {
          "base_uri": "https://localhost:8080/"
        },
        "id": "HTmGuPHdvUen",
        "outputId": "9e1632e4-a664-4c81-c45f-4cc081f49850"
      },
      "execution_count": null,
      "outputs": [
        {
          "output_type": "stream",
          "name": "stdout",
          "text": [
            "Digite uma frase: cola\n",
            "Digite uma frase: cola\n",
            "True\n"
          ]
        }
      ]
    },
    {
      "cell_type": "code",
      "source": [
        "# 13. Exiba o caractere central de uma string.\n",
        "\n",
        "nome = str(\"João\")\n",
        "\n",
        "total = len(nome)\n",
        "print(total)\n",
        "\n",
        "meio = total / 2\n",
        "\n",
        "nome_meio = nome[int(meio)]\n",
        "print(nome_meio)\n",
        "\n",
        "\n"
      ],
      "metadata": {
        "id": "H0DMkRRzwaud",
        "colab": {
          "base_uri": "https://localhost:8080/"
        },
        "outputId": "d5d46ab5-734d-4eca-d182-cb3b701ff9e3"
      },
      "execution_count": null,
      "outputs": [
        {
          "output_type": "stream",
          "name": "stdout",
          "text": [
            "4\n",
            "ã\n"
          ]
        }
      ]
    },
    {
      "cell_type": "code",
      "source": [
        "# 14. Inverta uma string.\n",
        "\n",
        "string_original = \"Vai corinthains\"\n",
        "\n",
        "string_invertida = string_original[::-1]\n",
        "\n",
        "print(string_invertida)"
      ],
      "metadata": {
        "colab": {
          "base_uri": "https://localhost:8080/"
        },
        "id": "IfdhccqwQwSh",
        "outputId": "4479cee8-8690-4bc8-e7b5-d003ef4af690"
      },
      "execution_count": null,
      "outputs": [
        {
          "output_type": "stream",
          "name": "stdout",
          "text": [
            "sniahtniroc iaV\n"
          ]
        }
      ]
    },
    {
      "cell_type": "code",
      "source": [
        "# 15. Transforme a primeira letra de uma string em maiúscula.\n",
        "\n",
        "string = \"vai corinthians\"\n",
        "\n",
        "print(string.capitalize())\n",
        "\n"
      ],
      "metadata": {
        "colab": {
          "base_uri": "https://localhost:8080/"
        },
        "id": "8Jp_vPDcRqIw",
        "outputId": "21e63a22-6d32-46fd-efe7-6ba82166aefc"
      },
      "execution_count": null,
      "outputs": [
        {
          "output_type": "stream",
          "name": "stdout",
          "text": [
            "Vai corinthians\n"
          ]
        }
      ]
    },
    {
      "cell_type": "code",
      "source": [
        "# 16. Repita uma string 10 vezes.\n",
        "\n",
        "string = \" Vai corinthians, o Palmeiras não tem mundial \"\n",
        "\n",
        "string = (string * 10)\n",
        "\n",
        "print(string)"
      ],
      "metadata": {
        "colab": {
          "base_uri": "https://localhost:8080/"
        },
        "id": "awrudRyKV5kB",
        "outputId": "198547bd-9d48-4057-bd67-7dfc4f8e1d5c"
      },
      "execution_count": null,
      "outputs": [
        {
          "output_type": "stream",
          "name": "stdout",
          "text": [
            " Vai corinthians, o Palmeiras não tem mundial  Vai corinthians, o Palmeiras não tem mundial  Vai corinthians, o Palmeiras não tem mundial  Vai corinthians, o Palmeiras não tem mundial  Vai corinthians, o Palmeiras não tem mundial  Vai corinthians, o Palmeiras não tem mundial  Vai corinthians, o Palmeiras não tem mundial  Vai corinthians, o Palmeiras não tem mundial  Vai corinthians, o Palmeiras não tem mundial  Vai corinthians, o Palmeiras não tem mundial \n"
          ]
        }
      ]
    },
    {
      "cell_type": "code",
      "source": [
        "# 17. Leia um nome completo e imprima o primeiro nome. # VOLTAR NESSA DEPOIS\n",
        "\n",
        "n = str(input(\"Digite seu nome: \"))\n",
        "nome = n.title()\n",
        "print(f\"Seu primeiro nome é {n[0:4]}\")"
      ],
      "metadata": {
        "colab": {
          "base_uri": "https://localhost:8080/"
        },
        "id": "iByrAk6wWSDh",
        "outputId": "7161fd44-275e-427a-9252-a64290369dcb"
      },
      "execution_count": null,
      "outputs": [
        {
          "output_type": "stream",
          "name": "stdout",
          "text": [
            "Digite seu nome: Joao victor\n",
            "Seu primeiro nome é Joao\n"
          ]
        }
      ]
    },
    {
      "cell_type": "code",
      "source": [
        "# 18. Leia um nome completo e imprima o sobrenome. # Joao Goncalves possui 13 Letras G começa no 5 e acaba no 14\n",
        "n = str(input(\"Digite seu nome: \"))\n",
        "nome = n.title()\n",
        "print(f\"Seu sobrenome é {n[5:14]}\")"
      ],
      "metadata": {
        "colab": {
          "base_uri": "https://localhost:8080/"
        },
        "id": "uUK-HRfPW4ci",
        "outputId": "e1781974-5ab1-473b-dac7-852c6feb517b"
      },
      "execution_count": null,
      "outputs": [
        {
          "output_type": "stream",
          "name": "stdout",
          "text": [
            "Digite seu nome: Joao Goncalves\n",
            "Seu sobrenome é Goncalves\n"
          ]
        }
      ]
    },
    {
      "cell_type": "code",
      "source": [
        "# 19. Verifique se uma string é vazia.\n",
        "\n",
        "nome = \"\"\n",
        "\n",
        "verificador = nome == True\n",
        "\n",
        "if not nome:   # Not transforma TRUE em FALSE ou vice-versa FALSE em TRUE\n",
        "  print(\"Está vazia\")\n",
        "\n",
        "print(f\"Sua string está vazia {type(nome)})\")\n",
        "\n",
        "print(verificador)\n"
      ],
      "metadata": {
        "colab": {
          "base_uri": "https://localhost:8080/"
        },
        "id": "z_Bh2UKKZBuy",
        "outputId": "04a5f33a-af15-41e3-f5ef-d7e7fc59958a"
      },
      "execution_count": null,
      "outputs": [
        {
          "output_type": "stream",
          "name": "stdout",
          "text": [
            "Está vazia\n",
            "Sua string está vazia <class 'str'>)\n",
            "False\n"
          ]
        }
      ]
    },
    {
      "cell_type": "code",
      "source": [
        "# 20.Verifique se uma string contém apenas letras. #Voltar depois\n"
      ],
      "metadata": {
        "id": "49KMCwRNiwxl"
      },
      "execution_count": null,
      "outputs": []
    },
    {
      "cell_type": "code",
      "source": [
        "# 21. Pegue os 3 primeiros caracteres de uma string.\n",
        "\n",
        "string = \"Vai corinthians\"\n",
        "\n",
        "print(f\"Os 3 primeiros caracteres da {string} são:  {string[:3]}\")\n"
      ],
      "metadata": {
        "colab": {
          "base_uri": "https://localhost:8080/"
        },
        "id": "liB5q2IMnmzG",
        "outputId": "2db505b7-866d-48e5-8a5b-404eb5ea8c31"
      },
      "execution_count": null,
      "outputs": [
        {
          "output_type": "stream",
          "name": "stdout",
          "text": [
            "Os 3 primeiros caracteres da Vai corinthians são:  Vai\n"
          ]
        }
      ]
    },
    {
      "cell_type": "code",
      "source": [
        "# 22. Pegue os 3 últimos caracteres de uma string.\n",
        "\n",
        "string = \"Vai corinthians\"\n",
        "\n",
        "print(f\"Os 3 ultimos caracteres da {string} é: {string[-4:-1]}\")"
      ],
      "metadata": {
        "colab": {
          "base_uri": "https://localhost:8080/"
        },
        "id": "3leaRqjWyadJ",
        "outputId": "bf9e3135-d608-4103-f6a4-6d033846706f"
      },
      "execution_count": null,
      "outputs": [
        {
          "output_type": "stream",
          "name": "stdout",
          "text": [
            "Os 3 ultimos caracteres da Vai corinthians é: ian\n"
          ]
        }
      ]
    },
    {
      "cell_type": "code",
      "source": [
        "# 23. Remova os espaços do começo e fim da string.\n",
        "\n",
        "string = \" Vai corinthians, Palmeiras não tem mundial \"\n",
        "\n",
        "print(string.strip())\n",
        "\n",
        "\n"
      ],
      "metadata": {
        "colab": {
          "base_uri": "https://localhost:8080/"
        },
        "id": "t0Djk2lOzCx7",
        "outputId": "c2a981f4-faf4-4dd9-9f6f-10bd4fbced7c"
      },
      "execution_count": null,
      "outputs": [
        {
          "output_type": "stream",
          "name": "stdout",
          "text": [
            "Vai corinthians, Palmeiras não tem mundial\n"
          ]
        }
      ]
    },
    {
      "cell_type": "code",
      "source": [
        "# 24. Conte quantas palavras tem em uma string.\n",
        "\n",
        "string = \" Vai corinthians, Palmeiras não tem mundial \"\n",
        "\n",
        "print(string.count(\"\"))"
      ],
      "metadata": {
        "colab": {
          "base_uri": "https://localhost:8080/"
        },
        "id": "DLpz4ezQ1peq",
        "outputId": "9af08f00-b508-46c2-e8ff-f06528c50b7a"
      },
      "execution_count": null,
      "outputs": [
        {
          "output_type": "stream",
          "name": "stdout",
          "text": [
            "45\n"
          ]
        }
      ]
    },
    {
      "cell_type": "code",
      "source": [
        "# 25. Separe uma frase em palavras.\n",
        "\n",
        "string = \" Vai corinthians, Palmeiras não tem mundial \"\n",
        "\n",
        "print(string.split())"
      ],
      "metadata": {
        "colab": {
          "base_uri": "https://localhost:8080/"
        },
        "id": "G3ccW9MJObPR",
        "outputId": "21dc44da-da89-4c47-bce9-fb1c022866fd"
      },
      "execution_count": null,
      "outputs": [
        {
          "output_type": "stream",
          "name": "stdout",
          "text": [
            "['Vai', 'corinthians,', 'Palmeiras', 'não', 'tem', 'mundial']\n"
          ]
        }
      ]
    },
    {
      "cell_type": "code",
      "source": [
        "# 26. Una uma lista de palavras com espaços."
      ],
      "metadata": {
        "id": "2El-RID-O7QB"
      },
      "execution_count": null,
      "outputs": []
    },
    {
      "cell_type": "code",
      "source": [
        "# 27. Substitua as vogais por \"*\".\n",
        "\n",
        "string = \" A, E, I, O, U \"\n",
        "\n",
        "string = string.replace (\" A, E, I, O, U \",\" *, *, *, *, * \")\n",
        "\n",
        "print(string)"
      ],
      "metadata": {
        "colab": {
          "base_uri": "https://localhost:8080/"
        },
        "id": "PxHwjj4oWU69",
        "outputId": "416f92ec-6f6f-4f51-8336-bdaa141e31b5"
      },
      "execution_count": null,
      "outputs": [
        {
          "output_type": "stream",
          "name": "stdout",
          "text": [
            " *, *, *, *, * \n"
          ]
        }
      ]
    },
    {
      "cell_type": "code",
      "source": [
        "# 28. Verifique se uma string é um palíndromo.\n",
        "\n",
        "string = str(input(\"Digite uma frase: \"))\n",
        "string = string.lower().replace(\" \",\"\")\n",
        "\n",
        "string_invertida = string[::-1]\n",
        "\n",
        "print(string_invertida)\n"
      ],
      "metadata": {
        "id": "yV8MOoAyW8RE",
        "colab": {
          "base_uri": "https://localhost:8080/"
        },
        "outputId": "cc556034-bb34-4622-a116-3cc9784c3c3e"
      },
      "execution_count": null,
      "outputs": [
        {
          "output_type": "stream",
          "name": "stdout",
          "text": [
            "Digite uma frase: Ame a ema\n",
            "ameaema\n"
          ]
        }
      ]
    },
    {
      "cell_type": "code",
      "source": [
        "# 29. Divida um e-mail em usuário e domínio.\n",
        "\n",
        "\n",
        "# email:  sccpcorinthians@gmail.com\n",
        "# usuário: joao.goncalves\n",
        "# domínio: gmail.com\n",
        "\n",
        "email = str(input(\"Digite seu e-mail: \"))\n",
        "\n",
        "email = email.split(\"@\")\n",
        "\n",
        "print(email)"
      ],
      "metadata": {
        "colab": {
          "base_uri": "https://localhost:8080/"
        },
        "id": "Y7_YLnx7gfEH",
        "outputId": "5134a4d6-5699-476d-bf6a-e20142707db4"
      },
      "execution_count": null,
      "outputs": [
        {
          "output_type": "stream",
          "name": "stdout",
          "text": [
            "Digite seu e-mail: sccpjoao@corinthians.com.br\n",
            "['sccpjoao', 'corinthians.com.br']\n"
          ]
        }
      ]
    },
    {
      "cell_type": "code",
      "source": [
        "# 30. Crie uma função que conta quantas letras e números tem na string. # Voltar depois"
      ],
      "metadata": {
        "id": "ovQ7m5PfiT0n"
      },
      "execution_count": null,
      "outputs": []
    },
    {
      "cell_type": "code",
      "source": [
        "# 31. Extraia o nome do usuário de um endereço de e-mail.\n",
        "\n",
        "email = str(input(\"Digite seu email: \"))\n",
        "\n",
        "email = email.split(\".\")\n",
        "\n",
        "print(email)"
      ],
      "metadata": {
        "colab": {
          "base_uri": "https://localhost:8080/"
        },
        "id": "OQkkFEI_maMn",
        "outputId": "1e07c337-3f5a-4e0b-a710-7df10ffabf08"
      },
      "execution_count": null,
      "outputs": [
        {
          "output_type": "stream",
          "name": "stdout",
          "text": [
            "Digite seu email: joao.victor@gmail.com\n",
            "['joao', 'victor@gmail', 'com']\n"
          ]
        }
      ]
    },
    {
      "cell_type": "code",
      "source": [
        "# 32. Leia uma data no formato \"dd/mm/aaaa\" e retorne dia, mês e ano.\n",
        "\n",
        "data = (input(\"Digite sua data: \"))\n",
        "\n",
        "partes = data.split(\"/\")\n",
        "\n",
        "dia = partes[0]\n",
        "mes = partes[1]\n",
        "ano = partes[2]\n",
        "\n",
        "print(f\"{dia}/{mes}/{ano}\")"
      ],
      "metadata": {
        "colab": {
          "base_uri": "https://localhost:8080/",
          "height": 240
        },
        "id": "Waa05XqqmslY",
        "outputId": "6e540bcc-9db0-453e-820b-cdc5caee3497"
      },
      "execution_count": null,
      "outputs": [
        {
          "name": "stdout",
          "output_type": "stream",
          "text": [
            "Digite sua data: 12 04 2001\n"
          ]
        },
        {
          "output_type": "error",
          "ename": "IndexError",
          "evalue": "list index out of range",
          "traceback": [
            "\u001b[0;31m---------------------------------------------------------------------------\u001b[0m",
            "\u001b[0;31mIndexError\u001b[0m                                Traceback (most recent call last)",
            "\u001b[0;32m/tmp/ipython-input-3348502280.py\u001b[0m in \u001b[0;36m<cell line: 0>\u001b[0;34m()\u001b[0m\n\u001b[1;32m      6\u001b[0m \u001b[0;34m\u001b[0m\u001b[0m\n\u001b[1;32m      7\u001b[0m \u001b[0mdia\u001b[0m \u001b[0;34m=\u001b[0m \u001b[0mpartes\u001b[0m\u001b[0;34m[\u001b[0m\u001b[0;36m0\u001b[0m\u001b[0;34m]\u001b[0m\u001b[0;34m\u001b[0m\u001b[0;34m\u001b[0m\u001b[0m\n\u001b[0;32m----> 8\u001b[0;31m \u001b[0mmes\u001b[0m \u001b[0;34m=\u001b[0m \u001b[0mpartes\u001b[0m\u001b[0;34m[\u001b[0m\u001b[0;36m1\u001b[0m\u001b[0;34m]\u001b[0m\u001b[0;34m\u001b[0m\u001b[0;34m\u001b[0m\u001b[0m\n\u001b[0m\u001b[1;32m      9\u001b[0m \u001b[0mano\u001b[0m \u001b[0;34m=\u001b[0m \u001b[0mpartes\u001b[0m\u001b[0;34m[\u001b[0m\u001b[0;36m2\u001b[0m\u001b[0;34m]\u001b[0m\u001b[0;34m\u001b[0m\u001b[0;34m\u001b[0m\u001b[0m\n\u001b[1;32m     10\u001b[0m \u001b[0;34m\u001b[0m\u001b[0m\n",
            "\u001b[0;31mIndexError\u001b[0m: list index out of range"
          ]
        }
      ]
    },
    {
      "cell_type": "code",
      "source": [
        "# 33. Substitua espaços por underline.\n",
        "\n",
        "frase = str(input(\"Digite uma frase: \"))\n",
        "\n",
        "frase = frase.replace(\" \" , \"_\")\n",
        "\n",
        "print(frase)"
      ],
      "metadata": {
        "colab": {
          "base_uri": "https://localhost:8080/"
        },
        "id": "igbO1_nVm_kH",
        "outputId": "2ee0321e-1fcf-4058-e03b-a9a927ccd2b9"
      },
      "execution_count": null,
      "outputs": [
        {
          "output_type": "stream",
          "name": "stdout",
          "text": [
            "Digite uma frase: Vai corinthians o palmeiras não tem mundial\n",
            "Vai_corinthians_o_palmeiras_não_tem_mundial\n"
          ]
        }
      ]
    },
    {
      "cell_type": "code",
      "source": [
        "# 34. Verifique se uma palavra está dentro de uma frase.\n",
        "\n",
        "frase = str(input(\"Digite uma frase: \"))\n",
        "palavra = str(input(\"Digite uma palavra: \"))\n",
        "\n",
        "verificador = palavra in frase\n",
        "\n",
        "print(verificador)\n",
        "\n"
      ],
      "metadata": {
        "id": "4RdyVmDZqfE4",
        "colab": {
          "base_uri": "https://localhost:8080/"
        },
        "outputId": "fab030c7-52a5-4765-8ee0-de8f57f46337"
      },
      "execution_count": null,
      "outputs": [
        {
          "output_type": "stream",
          "name": "stdout",
          "text": [
            "Digite uma frase: Vai corinthians\n",
            "Digite uma palavra: Corinthians\n",
            "False\n"
          ]
        }
      ]
    },
    {
      "cell_type": "code",
      "source": [
        "# 35. Capitalize todas as palavras de uma frase.\n",
        "\n",
        "frase = str(input(\"Digite uma frase: \"))\n",
        "\n",
        "print(frase.capitalize())"
      ],
      "metadata": {
        "colab": {
          "base_uri": "https://localhost:8080/"
        },
        "id": "6pAHuhOiwrUG",
        "outputId": "2f845aaf-58ca-4502-dbca-3444cd5c5d4f"
      },
      "execution_count": null,
      "outputs": [
        {
          "output_type": "stream",
          "name": "stdout",
          "text": [
            "Digite uma frase: vai corinthians\n",
            "Vai corinthians\n"
          ]
        }
      ]
    },
    {
      "cell_type": "code",
      "source": [
        "# 36. Converta uma frase para o formato de título.\n",
        "\n",
        "frase = str(input(\"Digite uma frase: \"))\n",
        "\n",
        "print(frase.title())"
      ],
      "metadata": {
        "colab": {
          "base_uri": "https://localhost:8080/"
        },
        "id": "-wjaAxoL4SzQ",
        "outputId": "3893edb9-260d-48c7-fe06-7e69d0bcc21b"
      },
      "execution_count": null,
      "outputs": [
        {
          "output_type": "stream",
          "name": "stdout",
          "text": [
            "Digite uma frase: corinthians o livro\n",
            "Corinthians O Livro\n"
          ]
        }
      ]
    },
    {
      "cell_type": "code",
      "source": [
        "# 37. Remova todos os números de uma string.\n",
        "\n",
        "frase = str(input(\"Digite uma frase: \"))\n",
        "\n",
        "frase = frase.replace(\"123456789\" , \" \")\n",
        "\n",
        "print(frase)"
      ],
      "metadata": {
        "colab": {
          "base_uri": "https://localhost:8080/"
        },
        "id": "n6oEwafx4nk3",
        "outputId": "77b4fd5a-fb0e-4cec-8669-ad2e0b680ffd"
      },
      "execution_count": null,
      "outputs": [
        {
          "output_type": "stream",
          "name": "stdout",
          "text": [
            "Digite uma frase: 123456789\n",
            " \n"
          ]
        }
      ]
    },
    {
      "cell_type": "code",
      "source": [
        "# 38. Remova todos os símbolos especiais de uma string.\n",
        "\n",
        "frase = str(input(\"Digite uma frase: \"))\n",
        "\n",
        "frase = frase.replace(\"@\" , \"a\").replace(\"!\" , \" \")\n",
        "\n",
        "print(frase)"
      ],
      "metadata": {
        "colab": {
          "base_uri": "https://localhost:8080/"
        },
        "id": "rFZTWCFT42R-",
        "outputId": "f3b5ab69-b8ef-4edf-b18b-0f4ae544be9a"
      },
      "execution_count": null,
      "outputs": [
        {
          "output_type": "stream",
          "name": "stdout",
          "text": [
            "Digite uma frase: Jo@o\n",
            "Joao\n"
          ]
        }
      ]
    },
    {
      "cell_type": "code",
      "source": [
        "# 39. Inverta a ordem das palavras em uma frase.\n",
        "\n",
        "def inverter_palavras(frase):\n",
        " palavra = frase.split()\n",
        " palavra_invertidas = palavra[::-1]\n",
        " frase_invertida = \" \".join(palavra_invertidas)\n",
        " return frase_invertida\n",
        "\n",
        "frase = str(input(\"Digite uma frase: \"))\n",
        "\n",
        "frase_invertida = inverter_palavras(frase)\n",
        "\n",
        "print(frase_invertida)"
      ],
      "metadata": {
        "colab": {
          "base_uri": "https://localhost:8080/"
        },
        "id": "1TVBN1FO5SwX",
        "outputId": "b2e70106-ed85-4795-ba2d-c4338ddf24ab"
      },
      "execution_count": null,
      "outputs": [
        {
          "output_type": "stream",
          "name": "stdout",
          "text": [
            "Digite uma frase: Vai corinthians\n",
            "corinthians Vai\n"
          ]
        }
      ]
    },
    {
      "cell_type": "code",
      "source": [
        "palavras = [\"Vai\" , \"Corinthians\"]\n",
        "frase = ' '.join(palavras)\n",
        "\n",
        "print(frase)"
      ],
      "metadata": {
        "colab": {
          "base_uri": "https://localhost:8080/"
        },
        "id": "R3Vz92Pk5fwm",
        "outputId": "f209c5ae-ac47-4f9c-9fa1-70ec90d0aebb"
      },
      "execution_count": null,
      "outputs": [
        {
          "output_type": "stream",
          "name": "stdout",
          "text": [
            "Vai Corinthians\n"
          ]
        }
      ]
    },
    {
      "cell_type": "code",
      "source": [
        "# 40. Faça uma função que centralize uma string em 30 caracteres.  # VOLTAR NESSE DEPOIS PARA ENTENDER MELHOR\n",
        "\n",
        "def centralizar_string(string):\n",
        "    tamanho_total = 30\n",
        "    espacos_esquerda = (tamanho_total - len(string))//2\n",
        "    espacos_direito = tamanho_total - espacos_esquerda - len(string)\n",
        "    string_centralizada = \" \" * espacos_esquerda + string + \" \" * espacos_direito\n",
        "    return string_centralizada\n",
        "\n",
        "string = str(input(\"Digite uma frase: \"))\n",
        "\n",
        "string_centralizada = centralizar_string(string)\n",
        "\n",
        "print(string_centralizada)"
      ],
      "metadata": {
        "colab": {
          "base_uri": "https://localhost:8080/"
        },
        "id": "wGEZpUrQ7_u_",
        "outputId": "c9c3cdc1-0159-43a7-8539-121c1d6324b9"
      },
      "execution_count": null,
      "outputs": [
        {
          "output_type": "stream",
          "name": "stdout",
          "text": [
            "Digite uma frase: VAI CORINTHIANS\n",
            "       VAI CORINTHIANS        \n"
          ]
        }
      ]
    },
    {
      "cell_type": "code",
      "source": [
        "# 41. Verifique se uma string representa um número decimal.\n"
      ],
      "metadata": {
        "id": "IiS6I_6O9Fan"
      },
      "execution_count": null,
      "outputs": []
    },
    {
      "cell_type": "code",
      "source": [
        "# 42. Valide um CPF (somente a formatação XXX.XXX.XXX-XX).\n",
        "\n",
        "cpf = str(input(\"Digite seu CPF: \"))\n",
        "\n",
        "cpf = cpf.replace(\" 123456789 \" , \" XXX.XXX.XXX-X \")\n",
        "\n",
        "print(cpf)\n",
        "\n"
      ],
      "metadata": {
        "colab": {
          "base_uri": "https://localhost:8080/"
        },
        "id": "PzTktJE79Jz9",
        "outputId": "b019c3b6-579a-416b-8f1b-ecc5029ca312"
      },
      "execution_count": null,
      "outputs": [
        {
          "output_type": "stream",
          "name": "stdout",
          "text": [
            "Digite seu CPF: 123456789\n",
            "123456789\n"
          ]
        }
      ]
    },
    {
      "cell_type": "code",
      "source": [
        "# 43. Valide se uma string tem exatamente 8 caracteres.\n",
        "\n",
        "string = str(\"2Mundial\")\n",
        "\n",
        "tamanho = len(string)\n",
        "\n",
        "valido = tamanho == 8\n",
        "\n",
        "print(valido)\n",
        "\n",
        "\n"
      ],
      "metadata": {
        "colab": {
          "base_uri": "https://localhost:8080/"
        },
        "id": "utZiA3WL8-ME",
        "outputId": "8438652c-e6e8-44a8-8487-785dd33ec2b4"
      },
      "execution_count": null,
      "outputs": [
        {
          "output_type": "stream",
          "name": "stdout",
          "text": [
            "True\n"
          ]
        }
      ]
    },
    {
      "cell_type": "code",
      "source": [
        "# 44. Leia uma senha e valide se tem pelo menos 1 letra maiúscula.\n",
        "\n",
        "senha = str(input(\"Digite sua senha: \"))\n",
        "\n",
        "maiuscula = False\n",
        "\n",
        "for caractere in senha:\n",
        "  if caractere .isupper():\n",
        "    maiuscula = True\n",
        "print(maiuscula)"
      ],
      "metadata": {
        "colab": {
          "base_uri": "https://localhost:8080/"
        },
        "id": "jH6pYusW_LVS",
        "outputId": "d008b411-d583-4fee-842e-66fc641809a0"
      },
      "execution_count": null,
      "outputs": [
        {
          "output_type": "stream",
          "name": "stdout",
          "text": [
            "Digite sua senha: VaiCorinthians\n",
            "True\n"
          ]
        }
      ]
    },
    {
      "cell_type": "code",
      "source": [
        "# 45. Verifique se uma string possui letras maiúsculas e minúsculas.\n",
        "\n",
        "string = str(input(\"Digite um texto: \"))\n",
        "\n",
        "maiuscula = False\n",
        "minuscula = False\n",
        "\n",
        "for caractere in string:\n",
        "  if caractere.isupper():\n",
        "    maiuscula = True\n",
        "  if caractere.islower:\n",
        "    minuscula = True\n",
        "\n",
        "print(maiuscula)\n",
        "print(minuscula)"
      ],
      "metadata": {
        "colab": {
          "base_uri": "https://localhost:8080/"
        },
        "id": "8NBJiKgzBBlB",
        "outputId": "50fd1c2a-6b95-4f5b-9b17-bafbe7130473"
      },
      "execution_count": null,
      "outputs": [
        {
          "output_type": "stream",
          "name": "stdout",
          "text": [
            "Digite um texto: vai corinthians\n",
            "False\n",
            "True\n"
          ]
        }
      ]
    },
    {
      "cell_type": "code",
      "source": [
        "# 46. Verifique se uma senha contém caracteres especiais.\n",
        "\n",
        "senha = str(input(\"Digite sua senha: \"))\n",
        "especial = \"!@#$%^&*()-_=+[]{}|;:'\\\",.<>?/\\\\\"\n",
        "tem_especial = False\n",
        "\n",
        "for caractere in senha:\n",
        "  if caractere in especial:\n",
        "    tem_especial = True\n",
        "\n",
        "print(tem_especial)"
      ],
      "metadata": {
        "colab": {
          "base_uri": "https://localhost:8080/"
        },
        "id": "xrj6ZoojCnDp",
        "outputId": "dd034dbd-5b95-40b5-8716-d92a0105aa8b"
      },
      "execution_count": null,
      "outputs": [
        {
          "output_type": "stream",
          "name": "stdout",
          "text": [
            "Digite sua senha: Vai Corinthians@@\n",
            "True\n"
          ]
        }
      ]
    },
    {
      "cell_type": "code",
      "source": [
        "# 47. Crie uma função que formate uma string em caixa-alta alternada (Ex: “TeStE”).\n",
        "\n",
        "#A variável i é um índice, ou seja, ela indica qual posição da string está sendo processada no momento.\n",
        "\n",
        "#Ele controla onde estamos na string.\n",
        "# Sem i, não saberíamos qual caractere alterar.\n",
        "# Ele também é usado para alternar a caixa (maiúscula/minúscula):\n",
        "# Se i for par → .upper()\n",
        "# Se i for ímpar → .lower()\n",
        "\n",
        "\n",
        "def caixa_alternada(string, i=0): #\n",
        "    if i == len(string):\n",
        "        return \"\"\n",
        "\n",
        "    if i % 2 == 0:\n",
        "        atual = string[i].upper()\n",
        "    else:\n",
        "        atual = string[i].lower()\n",
        "\n",
        "    return atual + caixa_alternada(string, i + 1)\n",
        "\n",
        "print(caixa_alternada(\"teste\"))"
      ],
      "metadata": {
        "colab": {
          "base_uri": "https://localhost:8080/"
        },
        "id": "nQPazb5eDswf",
        "outputId": "f84d4429-a46f-4fcb-c529-43dd92ff12af"
      },
      "execution_count": null,
      "outputs": [
        {
          "output_type": "stream",
          "name": "stdout",
          "text": [
            "TeStE\n"
          ]
        }
      ]
    },
    {
      "cell_type": "code",
      "source": [
        "# PARTE 2 47. Crie uma função que formate uma string em caixa-alta alternada (Ex: “TeStE”).\n",
        "\n",
        "frase = str(\"Teste\")\n",
        "\n",
        "frase = frase[0].upper()+frase[1]+frase[2].upper()+frase[3]+frase[4].upper()\n",
        "\n",
        "print(frase)\n"
      ],
      "metadata": {
        "colab": {
          "base_uri": "https://localhost:8080/"
        },
        "id": "CLXRVXRWJ8N3",
        "outputId": "61710248-7769-47a9-8bf4-aad883bcd138"
      },
      "execution_count": null,
      "outputs": [
        {
          "output_type": "stream",
          "name": "stdout",
          "text": [
            "TeStE\n"
          ]
        }
      ]
    },
    {
      "cell_type": "code",
      "source": [
        "# 48. Valide se uma string tem apenas espaços.\n",
        "\n",
        "texto = str(input(\"Digite um texto: \"))\n",
        "\n",
        "espaços = texto.isspace()\n",
        "\n",
        "print(espaços)\n",
        "\n"
      ],
      "metadata": {
        "colab": {
          "base_uri": "https://localhost:8080/"
        },
        "id": "1fKG76rBKZHZ",
        "outputId": "71c975ce-766a-45cc-96b3-8f81b335b06e"
      },
      "execution_count": null,
      "outputs": [
        {
          "output_type": "stream",
          "name": "stdout",
          "text": [
            "Digite um texto:                             \n",
            "True\n"
          ]
        }
      ]
    },
    {
      "cell_type": "code",
      "source": [
        "help(str)"
      ],
      "metadata": {
        "colab": {
          "base_uri": "https://localhost:8080/"
        },
        "collapsed": true,
        "id": "tLlWwKYjKdqs",
        "outputId": "e073a718-f40d-4016-d356-1cfa61091319"
      },
      "execution_count": null,
      "outputs": [
        {
          "output_type": "stream",
          "name": "stdout",
          "text": [
            "Help on class str in module builtins:\n",
            "\n",
            "class str(object)\n",
            " |  str(object='') -> str\n",
            " |  str(bytes_or_buffer[, encoding[, errors]]) -> str\n",
            " |  \n",
            " |  Create a new string object from the given object. If encoding or\n",
            " |  errors is specified, then the object must expose a data buffer\n",
            " |  that will be decoded using the given encoding and error handler.\n",
            " |  Otherwise, returns the result of object.__str__() (if defined)\n",
            " |  or repr(object).\n",
            " |  encoding defaults to sys.getdefaultencoding().\n",
            " |  errors defaults to 'strict'.\n",
            " |  \n",
            " |  Methods defined here:\n",
            " |  \n",
            " |  __add__(self, value, /)\n",
            " |      Return self+value.\n",
            " |  \n",
            " |  __contains__(self, key, /)\n",
            " |      Return key in self.\n",
            " |  \n",
            " |  __eq__(self, value, /)\n",
            " |      Return self==value.\n",
            " |  \n",
            " |  __format__(self, format_spec, /)\n",
            " |      Return a formatted version of the string as described by format_spec.\n",
            " |  \n",
            " |  __ge__(self, value, /)\n",
            " |      Return self>=value.\n",
            " |  \n",
            " |  __getattribute__(self, name, /)\n",
            " |      Return getattr(self, name).\n",
            " |  \n",
            " |  __getitem__(self, key, /)\n",
            " |      Return self[key].\n",
            " |  \n",
            " |  __getnewargs__(...)\n",
            " |  \n",
            " |  __gt__(self, value, /)\n",
            " |      Return self>value.\n",
            " |  \n",
            " |  __hash__(self, /)\n",
            " |      Return hash(self).\n",
            " |  \n",
            " |  __iter__(self, /)\n",
            " |      Implement iter(self).\n",
            " |  \n",
            " |  __le__(self, value, /)\n",
            " |      Return self<=value.\n",
            " |  \n",
            " |  __len__(self, /)\n",
            " |      Return len(self).\n",
            " |  \n",
            " |  __lt__(self, value, /)\n",
            " |      Return self<value.\n",
            " |  \n",
            " |  __mod__(self, value, /)\n",
            " |      Return self%value.\n",
            " |  \n",
            " |  __mul__(self, value, /)\n",
            " |      Return self*value.\n",
            " |  \n",
            " |  __ne__(self, value, /)\n",
            " |      Return self!=value.\n",
            " |  \n",
            " |  __repr__(self, /)\n",
            " |      Return repr(self).\n",
            " |  \n",
            " |  __rmod__(self, value, /)\n",
            " |      Return value%self.\n",
            " |  \n",
            " |  __rmul__(self, value, /)\n",
            " |      Return value*self.\n",
            " |  \n",
            " |  __sizeof__(self, /)\n",
            " |      Return the size of the string in memory, in bytes.\n",
            " |  \n",
            " |  __str__(self, /)\n",
            " |      Return str(self).\n",
            " |  \n",
            " |  capitalize(self, /)\n",
            " |      Return a capitalized version of the string.\n",
            " |      \n",
            " |      More specifically, make the first character have upper case and the rest lower\n",
            " |      case.\n",
            " |  \n",
            " |  casefold(self, /)\n",
            " |      Return a version of the string suitable for caseless comparisons.\n",
            " |  \n",
            " |  center(self, width, fillchar=' ', /)\n",
            " |      Return a centered string of length width.\n",
            " |      \n",
            " |      Padding is done using the specified fill character (default is a space).\n",
            " |  \n",
            " |  count(...)\n",
            " |      S.count(sub[, start[, end]]) -> int\n",
            " |      \n",
            " |      Return the number of non-overlapping occurrences of substring sub in\n",
            " |      string S[start:end].  Optional arguments start and end are\n",
            " |      interpreted as in slice notation.\n",
            " |  \n",
            " |  encode(self, /, encoding='utf-8', errors='strict')\n",
            " |      Encode the string using the codec registered for encoding.\n",
            " |      \n",
            " |      encoding\n",
            " |        The encoding in which to encode the string.\n",
            " |      errors\n",
            " |        The error handling scheme to use for encoding errors.\n",
            " |        The default is 'strict' meaning that encoding errors raise a\n",
            " |        UnicodeEncodeError.  Other possible values are 'ignore', 'replace' and\n",
            " |        'xmlcharrefreplace' as well as any other name registered with\n",
            " |        codecs.register_error that can handle UnicodeEncodeErrors.\n",
            " |  \n",
            " |  endswith(...)\n",
            " |      S.endswith(suffix[, start[, end]]) -> bool\n",
            " |      \n",
            " |      Return True if S ends with the specified suffix, False otherwise.\n",
            " |      With optional start, test S beginning at that position.\n",
            " |      With optional end, stop comparing S at that position.\n",
            " |      suffix can also be a tuple of strings to try.\n",
            " |  \n",
            " |  expandtabs(self, /, tabsize=8)\n",
            " |      Return a copy where all tab characters are expanded using spaces.\n",
            " |      \n",
            " |      If tabsize is not given, a tab size of 8 characters is assumed.\n",
            " |  \n",
            " |  find(...)\n",
            " |      S.find(sub[, start[, end]]) -> int\n",
            " |      \n",
            " |      Return the lowest index in S where substring sub is found,\n",
            " |      such that sub is contained within S[start:end].  Optional\n",
            " |      arguments start and end are interpreted as in slice notation.\n",
            " |      \n",
            " |      Return -1 on failure.\n",
            " |  \n",
            " |  format(...)\n",
            " |      S.format(*args, **kwargs) -> str\n",
            " |      \n",
            " |      Return a formatted version of S, using substitutions from args and kwargs.\n",
            " |      The substitutions are identified by braces ('{' and '}').\n",
            " |  \n",
            " |  format_map(...)\n",
            " |      S.format_map(mapping) -> str\n",
            " |      \n",
            " |      Return a formatted version of S, using substitutions from mapping.\n",
            " |      The substitutions are identified by braces ('{' and '}').\n",
            " |  \n",
            " |  index(...)\n",
            " |      S.index(sub[, start[, end]]) -> int\n",
            " |      \n",
            " |      Return the lowest index in S where substring sub is found,\n",
            " |      such that sub is contained within S[start:end].  Optional\n",
            " |      arguments start and end are interpreted as in slice notation.\n",
            " |      \n",
            " |      Raises ValueError when the substring is not found.\n",
            " |  \n",
            " |  isalnum(self, /)\n",
            " |      Return True if the string is an alpha-numeric string, False otherwise.\n",
            " |      \n",
            " |      A string is alpha-numeric if all characters in the string are alpha-numeric and\n",
            " |      there is at least one character in the string.\n",
            " |  \n",
            " |  isalpha(self, /)\n",
            " |      Return True if the string is an alphabetic string, False otherwise.\n",
            " |      \n",
            " |      A string is alphabetic if all characters in the string are alphabetic and there\n",
            " |      is at least one character in the string.\n",
            " |  \n",
            " |  isascii(self, /)\n",
            " |      Return True if all characters in the string are ASCII, False otherwise.\n",
            " |      \n",
            " |      ASCII characters have code points in the range U+0000-U+007F.\n",
            " |      Empty string is ASCII too.\n",
            " |  \n",
            " |  isdecimal(self, /)\n",
            " |      Return True if the string is a decimal string, False otherwise.\n",
            " |      \n",
            " |      A string is a decimal string if all characters in the string are decimal and\n",
            " |      there is at least one character in the string.\n",
            " |  \n",
            " |  isdigit(self, /)\n",
            " |      Return True if the string is a digit string, False otherwise.\n",
            " |      \n",
            " |      A string is a digit string if all characters in the string are digits and there\n",
            " |      is at least one character in the string.\n",
            " |  \n",
            " |  isidentifier(self, /)\n",
            " |      Return True if the string is a valid Python identifier, False otherwise.\n",
            " |      \n",
            " |      Call keyword.iskeyword(s) to test whether string s is a reserved identifier,\n",
            " |      such as \"def\" or \"class\".\n",
            " |  \n",
            " |  islower(self, /)\n",
            " |      Return True if the string is a lowercase string, False otherwise.\n",
            " |      \n",
            " |      A string is lowercase if all cased characters in the string are lowercase and\n",
            " |      there is at least one cased character in the string.\n",
            " |  \n",
            " |  isnumeric(self, /)\n",
            " |      Return True if the string is a numeric string, False otherwise.\n",
            " |      \n",
            " |      A string is numeric if all characters in the string are numeric and there is at\n",
            " |      least one character in the string.\n",
            " |  \n",
            " |  isprintable(self, /)\n",
            " |      Return True if the string is printable, False otherwise.\n",
            " |      \n",
            " |      A string is printable if all of its characters are considered printable in\n",
            " |      repr() or if it is empty.\n",
            " |  \n",
            " |  isspace(self, /)\n",
            " |      Return True if the string is a whitespace string, False otherwise.\n",
            " |      \n",
            " |      A string is whitespace if all characters in the string are whitespace and there\n",
            " |      is at least one character in the string.\n",
            " |  \n",
            " |  istitle(self, /)\n",
            " |      Return True if the string is a title-cased string, False otherwise.\n",
            " |      \n",
            " |      In a title-cased string, upper- and title-case characters may only\n",
            " |      follow uncased characters and lowercase characters only cased ones.\n",
            " |  \n",
            " |  isupper(self, /)\n",
            " |      Return True if the string is an uppercase string, False otherwise.\n",
            " |      \n",
            " |      A string is uppercase if all cased characters in the string are uppercase and\n",
            " |      there is at least one cased character in the string.\n",
            " |  \n",
            " |  join(self, iterable, /)\n",
            " |      Concatenate any number of strings.\n",
            " |      \n",
            " |      The string whose method is called is inserted in between each given string.\n",
            " |      The result is returned as a new string.\n",
            " |      \n",
            " |      Example: '.'.join(['ab', 'pq', 'rs']) -> 'ab.pq.rs'\n",
            " |  \n",
            " |  ljust(self, width, fillchar=' ', /)\n",
            " |      Return a left-justified string of length width.\n",
            " |      \n",
            " |      Padding is done using the specified fill character (default is a space).\n",
            " |  \n",
            " |  lower(self, /)\n",
            " |      Return a copy of the string converted to lowercase.\n",
            " |  \n",
            " |  lstrip(self, chars=None, /)\n",
            " |      Return a copy of the string with leading whitespace removed.\n",
            " |      \n",
            " |      If chars is given and not None, remove characters in chars instead.\n",
            " |  \n",
            " |  partition(self, sep, /)\n",
            " |      Partition the string into three parts using the given separator.\n",
            " |      \n",
            " |      This will search for the separator in the string.  If the separator is found,\n",
            " |      returns a 3-tuple containing the part before the separator, the separator\n",
            " |      itself, and the part after it.\n",
            " |      \n",
            " |      If the separator is not found, returns a 3-tuple containing the original string\n",
            " |      and two empty strings.\n",
            " |  \n",
            " |  removeprefix(self, prefix, /)\n",
            " |      Return a str with the given prefix string removed if present.\n",
            " |      \n",
            " |      If the string starts with the prefix string, return string[len(prefix):].\n",
            " |      Otherwise, return a copy of the original string.\n",
            " |  \n",
            " |  removesuffix(self, suffix, /)\n",
            " |      Return a str with the given suffix string removed if present.\n",
            " |      \n",
            " |      If the string ends with the suffix string and that suffix is not empty,\n",
            " |      return string[:-len(suffix)]. Otherwise, return a copy of the original\n",
            " |      string.\n",
            " |  \n",
            " |  replace(self, old, new, count=-1, /)\n",
            " |      Return a copy with all occurrences of substring old replaced by new.\n",
            " |      \n",
            " |        count\n",
            " |          Maximum number of occurrences to replace.\n",
            " |          -1 (the default value) means replace all occurrences.\n",
            " |      \n",
            " |      If the optional argument count is given, only the first count occurrences are\n",
            " |      replaced.\n",
            " |  \n",
            " |  rfind(...)\n",
            " |      S.rfind(sub[, start[, end]]) -> int\n",
            " |      \n",
            " |      Return the highest index in S where substring sub is found,\n",
            " |      such that sub is contained within S[start:end].  Optional\n",
            " |      arguments start and end are interpreted as in slice notation.\n",
            " |      \n",
            " |      Return -1 on failure.\n",
            " |  \n",
            " |  rindex(...)\n",
            " |      S.rindex(sub[, start[, end]]) -> int\n",
            " |      \n",
            " |      Return the highest index in S where substring sub is found,\n",
            " |      such that sub is contained within S[start:end].  Optional\n",
            " |      arguments start and end are interpreted as in slice notation.\n",
            " |      \n",
            " |      Raises ValueError when the substring is not found.\n",
            " |  \n",
            " |  rjust(self, width, fillchar=' ', /)\n",
            " |      Return a right-justified string of length width.\n",
            " |      \n",
            " |      Padding is done using the specified fill character (default is a space).\n",
            " |  \n",
            " |  rpartition(self, sep, /)\n",
            " |      Partition the string into three parts using the given separator.\n",
            " |      \n",
            " |      This will search for the separator in the string, starting at the end. If\n",
            " |      the separator is found, returns a 3-tuple containing the part before the\n",
            " |      separator, the separator itself, and the part after it.\n",
            " |      \n",
            " |      If the separator is not found, returns a 3-tuple containing two empty strings\n",
            " |      and the original string.\n",
            " |  \n",
            " |  rsplit(self, /, sep=None, maxsplit=-1)\n",
            " |      Return a list of the substrings in the string, using sep as the separator string.\n",
            " |      \n",
            " |        sep\n",
            " |          The separator used to split the string.\n",
            " |      \n",
            " |          When set to None (the default value), will split on any whitespace\n",
            " |          character (including \\n \\r \\t \\f and spaces) and will discard\n",
            " |          empty strings from the result.\n",
            " |        maxsplit\n",
            " |          Maximum number of splits.\n",
            " |          -1 (the default value) means no limit.\n",
            " |      \n",
            " |      Splitting starts at the end of the string and works to the front.\n",
            " |  \n",
            " |  rstrip(self, chars=None, /)\n",
            " |      Return a copy of the string with trailing whitespace removed.\n",
            " |      \n",
            " |      If chars is given and not None, remove characters in chars instead.\n",
            " |  \n",
            " |  split(self, /, sep=None, maxsplit=-1)\n",
            " |      Return a list of the substrings in the string, using sep as the separator string.\n",
            " |      \n",
            " |        sep\n",
            " |          The separator used to split the string.\n",
            " |      \n",
            " |          When set to None (the default value), will split on any whitespace\n",
            " |          character (including \\n \\r \\t \\f and spaces) and will discard\n",
            " |          empty strings from the result.\n",
            " |        maxsplit\n",
            " |          Maximum number of splits.\n",
            " |          -1 (the default value) means no limit.\n",
            " |      \n",
            " |      Splitting starts at the front of the string and works to the end.\n",
            " |      \n",
            " |      Note, str.split() is mainly useful for data that has been intentionally\n",
            " |      delimited.  With natural text that includes punctuation, consider using\n",
            " |      the regular expression module.\n",
            " |  \n",
            " |  splitlines(self, /, keepends=False)\n",
            " |      Return a list of the lines in the string, breaking at line boundaries.\n",
            " |      \n",
            " |      Line breaks are not included in the resulting list unless keepends is given and\n",
            " |      true.\n",
            " |  \n",
            " |  startswith(...)\n",
            " |      S.startswith(prefix[, start[, end]]) -> bool\n",
            " |      \n",
            " |      Return True if S starts with the specified prefix, False otherwise.\n",
            " |      With optional start, test S beginning at that position.\n",
            " |      With optional end, stop comparing S at that position.\n",
            " |      prefix can also be a tuple of strings to try.\n",
            " |  \n",
            " |  strip(self, chars=None, /)\n",
            " |      Return a copy of the string with leading and trailing whitespace removed.\n",
            " |      \n",
            " |      If chars is given and not None, remove characters in chars instead.\n",
            " |  \n",
            " |  swapcase(self, /)\n",
            " |      Convert uppercase characters to lowercase and lowercase characters to uppercase.\n",
            " |  \n",
            " |  title(self, /)\n",
            " |      Return a version of the string where each word is titlecased.\n",
            " |      \n",
            " |      More specifically, words start with uppercased characters and all remaining\n",
            " |      cased characters have lower case.\n",
            " |  \n",
            " |  translate(self, table, /)\n",
            " |      Replace each character in the string using the given translation table.\n",
            " |      \n",
            " |        table\n",
            " |          Translation table, which must be a mapping of Unicode ordinals to\n",
            " |          Unicode ordinals, strings, or None.\n",
            " |      \n",
            " |      The table must implement lookup/indexing via __getitem__, for instance a\n",
            " |      dictionary or list.  If this operation raises LookupError, the character is\n",
            " |      left untouched.  Characters mapped to None are deleted.\n",
            " |  \n",
            " |  upper(self, /)\n",
            " |      Return a copy of the string converted to uppercase.\n",
            " |  \n",
            " |  zfill(self, width, /)\n",
            " |      Pad a numeric string with zeros on the left, to fill a field of the given width.\n",
            " |      \n",
            " |      The string is never truncated.\n",
            " |  \n",
            " |  ----------------------------------------------------------------------\n",
            " |  Static methods defined here:\n",
            " |  \n",
            " |  __new__(*args, **kwargs)\n",
            " |      Create and return a new object.  See help(type) for accurate signature.\n",
            " |  \n",
            " |  maketrans(...)\n",
            " |      Return a translation table usable for str.translate().\n",
            " |      \n",
            " |      If there is only one argument, it must be a dictionary mapping Unicode\n",
            " |      ordinals (integers) or characters to Unicode ordinals, strings or None.\n",
            " |      Character keys will be then converted to ordinals.\n",
            " |      If there are two arguments, they must be strings of equal length, and\n",
            " |      in the resulting dictionary, each character in x will be mapped to the\n",
            " |      character at the same position in y. If there is a third argument, it\n",
            " |      must be a string, whose characters will be mapped to None in the result.\n",
            "\n"
          ]
        }
      ]
    },
    {
      "cell_type": "code",
      "source": [
        "# 49. Remova acentos de uma string.\n"
      ],
      "metadata": {
        "id": "SP72tjlILIKc"
      },
      "execution_count": null,
      "outputs": []
    },
    {
      "cell_type": "code",
      "source": [
        "# 50. Leia uma frase e substitua palavras ofensivas por \"**\".\n",
        "\n",
        "frase = str(input(\"Digite uma frase: \"))\n",
        "frase = frase.replace(\"a\" , \"**\").replace(\"u\" , \"**\").replace(\"o\" , \"**\")\n",
        "# Para substituir varias letras, é necessario realizar a sequencia de varios .replace(*A*, ** ).replace(\"B\" , **)\n",
        "\n",
        "print(frase)"
      ],
      "metadata": {
        "colab": {
          "base_uri": "https://localhost:8080/"
        },
        "id": "K8MRXXvTLiY_",
        "outputId": "625277ba-4d97-4ef4-9922-50f322fb43f7"
      },
      "execution_count": null,
      "outputs": [
        {
          "output_type": "stream",
          "name": "stdout",
          "text": [
            "Digite uma frase: Porra\n",
            "P**rr**\n"
          ]
        }
      ]
    },
    {
      "cell_type": "code",
      "source": [
        "# 51. Formate um número de telefone (Ex: (11) 91234-5678).\n",
        "\n",
        "numero = str(\"11912345678\")\n",
        "\n",
        "if len(numero) == 11:\n",
        "  ddd = numero[0:2]\n",
        "  prefixo = numero[2:7]\n",
        "  sufixo = numero[7:11]\n",
        "  telefone_formatado = (f\"{ddd} {prefixo}-{sufixo}\")\n",
        "  print(telefone_formatado)\n",
        "else:\n",
        "  print(\"Numero invalido, digite 11 digitos\")\n"
      ],
      "metadata": {
        "colab": {
          "base_uri": "https://localhost:8080/"
        },
        "id": "JgTqjTFAQwuQ",
        "outputId": "f9dd9b78-30f8-432b-d0a2-7905289424b1"
      },
      "execution_count": null,
      "outputs": [
        {
          "output_type": "stream",
          "name": "stdout",
          "text": [
            "11 91234-5678\n"
          ]
        }
      ]
    },
    {
      "cell_type": "code",
      "source": [],
      "metadata": {
        "colab": {
          "base_uri": "https://localhost:8080/",
          "height": 185
        },
        "id": "jk5DfeNEna74",
        "outputId": "b8c48fbe-6b4b-435f-8d91-ce673bfdaa0b"
      },
      "execution_count": null,
      "outputs": [
        {
          "output_type": "error",
          "ename": "TypeError",
          "evalue": "object of type 'int' has no len()",
          "traceback": [
            "\u001b[0;31m---------------------------------------------------------------------------\u001b[0m",
            "\u001b[0;31mTypeError\u001b[0m                                 Traceback (most recent call last)",
            "\u001b[0;32m/tmp/ipython-input-4205258729.py\u001b[0m in \u001b[0;36m<cell line: 0>\u001b[0;34m()\u001b[0m\n\u001b[0;32m----> 1\u001b[0;31m \u001b[0mtelefone\u001b[0m \u001b[0;34m=\u001b[0m \u001b[0mlen\u001b[0m\u001b[0;34m(\u001b[0m\u001b[0;36m119564514231\u001b[0m\u001b[0;34m)\u001b[0m\u001b[0;34m\u001b[0m\u001b[0;34m\u001b[0m\u001b[0m\n\u001b[0m\u001b[1;32m      2\u001b[0m \u001b[0;34m\u001b[0m\u001b[0m\n\u001b[1;32m      3\u001b[0m \u001b[0mprint\u001b[0m\u001b[0;34m(\u001b[0m\u001b[0mtelefone\u001b[0m\u001b[0;34m)\u001b[0m\u001b[0;34m\u001b[0m\u001b[0;34m\u001b[0m\u001b[0m\n",
            "\u001b[0;31mTypeError\u001b[0m: object of type 'int' has no len()"
          ]
        }
      ]
    },
    {
      "cell_type": "markdown",
      "source": [
        "# Exercicios de Função"
      ],
      "metadata": {
        "id": "6kyZnRZOtk41"
      }
    },
    {
      "cell_type": "code",
      "source": [
        "# 1. cadastro de cliente na feira\n",
        "# Contexto:\n",
        "# Dona Neide está montando um sistema simples\n",
        "# Para cadastrar cliente que compram fiado na\n",
        "# sua barraca de frutas\n",
        "# Ela quer garantir que o campo nome do cliente\n",
        "# Contenha apenas letrar, sem numeros ou simbolos\n",
        "\n",
        "# Problema:\n",
        "# Implemente uma verificação usando isalpha()\n",
        "# Para garantir que nomes como \"Joao123\" ou \"Maria@\"\n",
        "# Sejam recusados\n",
        "\n",
        "nome = str(input(\"Digite seu nome: \"))\n",
        "\n",
        "if nome.isalpha():\n",
        "  print(f\"O nome {nome} é valido\")\n",
        "\n",
        "else:\n",
        "  print(f\"O nome {nome} é invalido\")\n"
      ],
      "metadata": {
        "id": "qKhYDCsxXNQT",
        "colab": {
          "base_uri": "https://localhost:8080/"
        },
        "outputId": "c650b07a-0188-4533-ced8-a8febf42c48b"
      },
      "execution_count": null,
      "outputs": [
        {
          "output_type": "stream",
          "name": "stdout",
          "text": [
            "Digite seu nome: Joao\n",
            "O nome Joao é valido\n"
          ]
        }
      ]
    },
    {
      "cell_type": "code",
      "source": [
        "# 2. Senha do Wi-fi da Pizzaria do Zé\n",
        "\n",
        "# O Zé deixou a senha do Wi-fi \"Senh@123\" pra galera\n",
        "# Mas o sistema só aceita senhas alfanumericas\n",
        "# (letras e numeros, sem simbolos)\n",
        "#Problema\n",
        "# Crie uma função que verifique se\n",
        "# a senha passada por ele é valida usando isanul()\n",
        "# Se não for, gere uma sugestão nova sem caracters especiais\n",
        "\n",
        "senha = str(input(\"Digite a senha: \"))\n",
        "\n",
        "if senha.isalnum():\n",
        "  print(f\"Senha Valida\")\n",
        "\n",
        "else:\n",
        "  nova_senha = senha.replace('@' , 'a')\n",
        "  print(f\"Sua senha era invalida: {senha} \")\n",
        "  print(f\"nova senha : {nova_senha}\")"
      ],
      "metadata": {
        "colab": {
          "base_uri": "https://localhost:8080/"
        },
        "id": "IzT4ZUWZqrMu",
        "outputId": "c2c2b930-aaca-474d-b7be-067dc21ee268"
      },
      "execution_count": null,
      "outputs": [
        {
          "output_type": "stream",
          "name": "stdout",
          "text": [
            "Digite a senha: V@iCorinthi@ns\n",
            "Sua senha era invalida: V@iCorinthi@ns \n",
            "nova senha : VaiCorinthians\n"
          ]
        }
      ]
    },
    {
      "cell_type": "code",
      "source": [
        "# 3. Cartão de transporte da Tia Sandra\n",
        "\n",
        "# Tia Sandra quer digitalizar os cartões de transporte dos alunos\n",
        "# Cada cartão tem um código composto apenas por números de 0 a 9\n",
        "\n",
        "# Problema\n",
        "\n",
        "# Verifique com isdecimal()\n",
        "# Se o codigo digitado pelo aluno é valido\n",
        "# Ex: \"00347\" --> Valido, \"12A45\" --> Invalido\n",
        "\n",
        "cartao = str(input(\"Digite o código do seu cartão: \"))\n",
        "\n",
        "if cartao.isdecimal():\n",
        "  print(\"O código é valido\")\n",
        "\n",
        "else:\n",
        "  print(\"Codigo está invalido\")\n"
      ],
      "metadata": {
        "colab": {
          "base_uri": "https://localhost:8080/"
        },
        "id": "IR5UZwUpu5XC",
        "outputId": "936cbdee-5a11-4619-aaab-2495d3ddcea4"
      },
      "execution_count": null,
      "outputs": [
        {
          "output_type": "stream",
          "name": "stdout",
          "text": [
            "Digite o código do seu cartão: 00347\n",
            "O código é valido\n"
          ]
        }
      ]
    },
    {
      "cell_type": "code",
      "source": [
        "# 4. Chamada Escolar com numeros\n",
        "\n",
        "# O professor Carlos esta criando uma chamada automatizada\n",
        "# Alguns alunos digitam o nome com numero:\n",
        "# \"Luc4s\",\"An4\"\n",
        "\n",
        "# Problema\n",
        "\n",
        "# Use isalpha() para validar se o nome do aluno\n",
        "# Contem apenas letras\n",
        "# Se não, retorne uma sugestão com as correções possiveis\n",
        "\n",
        "nome = str(input(\"Digite o nome do aluno: \"))\n",
        "\n",
        "if nome.isalpha():\n",
        "  print(\"Nome valido\")\n",
        "\n",
        "else:\n",
        "  novo_nome = nome.replace(\" 4 \" , \" a \")\n",
        "  print(f\"O nome invalido: {nome}\")"
      ],
      "metadata": {
        "colab": {
          "base_uri": "https://localhost:8080/"
        },
        "id": "rKk-TWDC4CjA",
        "outputId": "7053cb5c-67e5-4be2-c9d3-e722275333d2"
      },
      "execution_count": null,
      "outputs": [
        {
          "output_type": "stream",
          "name": "stdout",
          "text": [
            "Digite o nome do aluno: Lucas\n",
            "Nome valido\n"
          ]
        }
      ]
    },
    {
      "cell_type": "code",
      "source": [
        "# 5. Código de Verificação Bancária\n",
        "\n",
        "# O banco exige que os codigos de verificação sejam apenas numeros\n",
        "# Mas o gerente aceita códigos romanas (\"IV\") por engano\n",
        "\n",
        "# Problema\n",
        "\n",
        "# Use isdigit() e isnumeric() para identificar quando o usuario\n",
        "# esta inventando moda com numeros romanos\n",
        "\n",
        "codigo = str(input(\"Digite o codigo: \"))\n",
        "\n",
        "if codigo.isdigit():\n",
        "  print(\"Codigo valido\")\n",
        "else:\n",
        "  if codigo.isnumeric():\n",
        "    print(\"Codigo invalido\")\n",
        "  else:\n",
        "    print(\"Codigo invalido\")\n"
      ],
      "metadata": {
        "colab": {
          "base_uri": "https://localhost:8080/"
        },
        "id": "AlK9qo9H6Cb-",
        "outputId": "42126853-22dd-45f6-857a-a44c156ede94"
      },
      "execution_count": null,
      "outputs": [
        {
          "output_type": "stream",
          "name": "stdout",
          "text": [
            "Digite o codigo: IV\n",
            "Codigo invalido\n"
          ]
        }
      ]
    },
    {
      "cell_type": "code",
      "source": [
        "# 6. Maquina de Vending da Academia do Alemão\n",
        "\n",
        "# O Alemão colocou uma vending machine na academia\n",
        "# Quer que o sistema aceite somente digitos puros\n",
        "# No pagamento por SMS\n",
        "\n",
        "# Problema\n",
        "\n",
        "# Valide se o codigo digitado é composto\n",
        "# por digitos reais (nada de fração ou numeros romanos)\n",
        "# Usando isdigit()\n",
        "\n",
        "codigo = str(input(\"Digite o codigo: \"))\n",
        "\n",
        "if codigo.isdigit():\n",
        "  print(\"Seu codigo está valido\")\n",
        "\n",
        "else:\n",
        "  print(\"Seu codigo está invalido\")"
      ],
      "metadata": {
        "colab": {
          "base_uri": "https://localhost:8080/"
        },
        "id": "liyKKEzdQajt",
        "outputId": "73b78a0e-8fda-42fa-d514-5c9a2f10545d"
      },
      "execution_count": null,
      "outputs": [
        {
          "output_type": "stream",
          "name": "stdout",
          "text": [
            "Digite o codigo: 4\n",
            "Seu codigo está valido\n"
          ]
        }
      ]
    },
    {
      "cell_type": "code",
      "source": [
        "#  7. Formulario da ONG: Nome com Emojis?\n",
        "\n",
        "# A ONG \"Coração na Rua\" está cadastrando\n",
        "# Voluntarios mas alguem digitou Joao <3\n",
        "\n",
        "# Problema\n",
        "\n",
        "# Use isalpha() para validar nomes.\n",
        "# Depois, mostre uma mensagem amigavel\n",
        "# Explicando por que não pode usar Emojis\n",
        "# Ou simbolos no nome\n",
        "\n",
        "nome = str(input(\"Digite seu nome: \"))\n",
        "\n",
        "if nome.isalpha():\n",
        "  print(\"Nome valido\")\n",
        "else:\n",
        "  print(\"Fofo, mas infelizmente não é possivel emojis ou simbolos\")"
      ],
      "metadata": {
        "colab": {
          "base_uri": "https://localhost:8080/"
        },
        "id": "OCpWboVcSquk",
        "outputId": "4c3c98ba-e364-4663-b56b-3b07ad3301b6"
      },
      "execution_count": null,
      "outputs": [
        {
          "output_type": "stream",
          "name": "stdout",
          "text": [
            "Digite seu nome: Joao\n",
            "Nome valido\n"
          ]
        }
      ]
    },
    {
      "cell_type": "code",
      "source": [
        "# 8. Texto com palavra-chave\n",
        "\n",
        "# Um concurso cultural vai premiar quem escrever a melhor frase\n",
        "# Com a palavra \"Natureza\"\n",
        "\n",
        "# Problema\n",
        "\n",
        "# Crie um sistema que use index() para detectar se a palavra \"natureza\" está\n",
        "# no texto. Se não estiver, rejeite a frase com uma mensagem\n",
        "\n",
        "palavra = str(input(\"Digite uma palavra: \"))\n",
        "\n",
        "def verificador_palavra(palavra):\n",
        "\n",
        " if palavra.idex()"
      ],
      "metadata": {
        "id": "Q8H-jWfaTwCB"
      },
      "execution_count": null,
      "outputs": []
    },
    {
      "cell_type": "code",
      "source": [
        "# 9. Validação de Nota Fiscal Eletrônica\n",
        "\n",
        "# O sistema da mercearia precisa garantir que o campo \"Código da Nota\"\n",
        "# Seja só numerico\n",
        "\n",
        "# Problema\n",
        "\n",
        "# Implemente uma verificação com isdecimal() e retorno um erro\n",
        "# Se o codigo contiver letras ou simbolos\n",
        "\n",
        "codigo_nota = str(input(\"Digite codigo: \"))\n",
        "\n",
        "if codigo_nota.isdecimal():\n",
        "  print(\"Codigo Valido\")\n",
        "\n",
        "else:\n",
        "  print(\"Erro... contem simboloso ou letras\")"
      ],
      "metadata": {
        "colab": {
          "base_uri": "https://localhost:8080/"
        },
        "id": "td0VizUvnsqr",
        "outputId": "cea8e309-7c2c-4b3d-a7b0-f79c9c46457a"
      },
      "execution_count": null,
      "outputs": [
        {
          "output_type": "stream",
          "name": "stdout",
          "text": [
            "Digite codigo: 2354SW8789\n",
            "Erro... contem simboloso ou letras\n"
          ]
        }
      ]
    },
    {
      "cell_type": "code",
      "source": [
        "# 10. Catalogo de Livros da Biblioteca Comunitaria\n",
        "\n",
        "# Cada livro tem um codigo misto, tipo \"LIV1234\"\n",
        "# A bibliotecaria quer garantir que todos os codigos seja\n",
        "# Alfanumericos, sem traços, espaços ou simbolos\n",
        "\n",
        "# Problema\n",
        "\n",
        "# Valide o codigo com isalnum()\n",
        "# Depois diga se ele esta de acordo com o padrao e, se não estive sugira uma correcao\n",
        "\n",
        "codigo = str(input(\"Digite o codigo do livro: \"))\n",
        "\n",
        "if codigo.isalnum():\n",
        "  print(\"Codigo valido\")\n",
        "\n",
        "else:\n",
        "  novo_codigo = codigo.replace('@' , 'a').replace(' ' , ' - ')\n",
        "  print(f\"Seu codigo estava invalido: {codigo} \")\n",
        "  print(f\"Seu novo codigo sugerido : {novo_codigo}\")"
      ],
      "metadata": {
        "colab": {
          "base_uri": "https://localhost:8080/"
        },
        "id": "gtQhY9LGoseR",
        "outputId": "c0210151-3ffc-4e6b-ea53-38c49449efd7"
      },
      "execution_count": null,
      "outputs": [
        {
          "output_type": "stream",
          "name": "stdout",
          "text": [
            "Digite o codigo do livro: LIV568@\n",
            "Seu codigo estava invalido: LIV568@ \n",
            "Seu novo codigo sugerido : LIV568a\n"
          ]
        }
      ]
    },
    {
      "cell_type": "code",
      "source": [
        "# Exercício 1 – Função que soma dois números\n",
        "\n",
        "def soma(a, b):\n",
        "  return a + b\n",
        "\n",
        "print(soma(10, 20))\n"
      ],
      "metadata": {
        "id": "4dNkWGejqQqc",
        "colab": {
          "base_uri": "https://localhost:8080/"
        },
        "outputId": "566a2588-547d-4987-d53a-082a4517d0dd"
      },
      "execution_count": null,
      "outputs": [
        {
          "output_type": "stream",
          "name": "stdout",
          "text": [
            "30\n"
          ]
        }
      ]
    },
    {
      "cell_type": "code",
      "source": [
        "# Exercício 2 – Função que verifica se um número é par\n",
        "\n",
        "def eh_par(numero):\n",
        "  return numero % 2 == 0\n",
        "\n",
        "print(eh_par(9))\n",
        "print(eh_par(10))"
      ],
      "metadata": {
        "colab": {
          "base_uri": "https://localhost:8080/"
        },
        "id": "IjWEel1G84wU",
        "outputId": "9d3d1e0b-3de0-4b64-92e8-07c61333a798"
      },
      "execution_count": null,
      "outputs": [
        {
          "output_type": "stream",
          "name": "stdout",
          "text": [
            "False\n",
            "True\n"
          ]
        }
      ]
    },
    {
      "cell_type": "code",
      "source": [
        "# Exercício 3 – Verificar maioridade\n",
        "\n",
        "def maior_de_idade(idade):\n",
        "  return idade >= 18\n",
        "\n",
        "idade = int(input(\"Digite sua idade: \"))\n",
        "\n",
        "if idade >= 18:\n",
        "  print(\"Você é maior de idade\")\n",
        "\n",
        "else:\n",
        "  print(\"Você não é maior de idade\")\n",
        "\n",
        "\n"
      ],
      "metadata": {
        "colab": {
          "base_uri": "https://localhost:8080/"
        },
        "id": "EwXsQIqS9Uus",
        "outputId": "322c279e-8c90-4761-bf04-5c82e0714a76"
      },
      "execution_count": null,
      "outputs": [
        {
          "output_type": "stream",
          "name": "stdout",
          "text": [
            "Digite sua idade: 17\n",
            "Você não é maior de idade\n"
          ]
        }
      ]
    },
    {
      "cell_type": "code",
      "source": [
        "# Exercício 4 – Potência\n",
        "\n",
        "def elevar_ao_quadrado(numero):\n",
        "  return numero ** 2\n",
        "\n",
        "print(elevar_ao_quadrado(90))"
      ],
      "metadata": {
        "colab": {
          "base_uri": "https://localhost:8080/"
        },
        "id": "JA5h9nTx-0Et",
        "outputId": "21be91e7-eb12-4ad3-9bab-c1d9fdee5e80"
      },
      "execution_count": null,
      "outputs": [
        {
          "output_type": "stream",
          "name": "stdout",
          "text": [
            "8100\n",
            "Boa tarde\n"
          ]
        }
      ]
    },
    {
      "cell_type": "code",
      "source": [
        "# Exercício 5 – Saudação personalizada\n",
        "\n",
        "def saudacao(nome):\n",
        "    frase = str(f\"olá, {nome}, bem vindo\")\n",
        "    return frase\n",
        "\n",
        "\n",
        "print(saudacao(\"João\"))\n",
        "\n"
      ],
      "metadata": {
        "colab": {
          "base_uri": "https://localhost:8080/"
        },
        "id": "Ru0IeqmdAE9A",
        "outputId": "af94df5b-872a-4df5-db1a-2e2cfb5e36c2"
      },
      "execution_count": null,
      "outputs": [
        {
          "output_type": "stream",
          "name": "stdout",
          "text": [
            "olá, João, bem vindo\n"
          ]
        }
      ]
    },
    {
      "cell_type": "code",
      "source": [],
      "metadata": {
        "id": "JYGrOtXVZGA9"
      },
      "execution_count": null,
      "outputs": []
    },
    {
      "cell_type": "markdown",
      "source": [
        "# Listinha da Felicidade (modulos de biblioteca)"
      ],
      "metadata": {
        "id": "Yclm6-04kp0M"
      }
    },
    {
      "cell_type": "code",
      "source": [
        "# 1. Importe o módulo math e use a função sqrt() para calcular a raiz quadrada de 25.\n",
        "\n",
        "import math\n",
        "\n",
        "resultado = math.sqrt(25)\n",
        "\n",
        "print(resultado)\n",
        "\n",
        "\n",
        "\n",
        "\n",
        "\n"
      ],
      "metadata": {
        "colab": {
          "base_uri": "https://localhost:8080/"
        },
        "id": "mXMNPVGwkxTG",
        "outputId": "61b427db-fa00-496e-956c-692c930efdf6"
      },
      "execution_count": null,
      "outputs": [
        {
          "output_type": "stream",
          "name": "stdout",
          "text": [
            "5.0\n"
          ]
        }
      ]
    },
    {
      "cell_type": "code",
      "source": [
        "# 2. Importe random e gere um número aleatório entre 1 e 10.\n",
        "\n",
        "import random\n",
        "import time\n",
        "\n",
        "numero_aleatorio = random.randint(1, 10)\n",
        "\n",
        "time.sleep(2)\n",
        "\n",
        "time.sleep(3)\n",
        "\n",
        "print(numero_aleatorio)"
      ],
      "metadata": {
        "colab": {
          "base_uri": "https://localhost:8080/"
        },
        "id": "dZlVvXpwlewg",
        "outputId": "cf2be25f-a132-4082-a9a9-a90f20d0f17c"
      },
      "execution_count": null,
      "outputs": [
        {
          "output_type": "stream",
          "name": "stdout",
          "text": [
            "7\n"
          ]
        }
      ]
    },
    {
      "cell_type": "code",
      "source": [
        "# 3. Use import datetime e imprima a data atual.\n",
        "\n",
        "import datetime\n",
        "\n",
        "agora = datetime.datetime.now()\n",
        "\n",
        "print(agora)"
      ],
      "metadata": {
        "colab": {
          "base_uri": "https://localhost:8080/"
        },
        "id": "j_RW7zlNmTdl",
        "outputId": "191bb54c-e907-4d88-dbc2-92591b4c49fe"
      },
      "execution_count": null,
      "outputs": [
        {
          "output_type": "stream",
          "name": "stdout",
          "text": [
            "2025-07-31 13:15:47.967077\n"
          ]
        }
      ]
    },
    {
      "cell_type": "code",
      "source": [
        "# 4. Importe math como m e use m.pow(2, 3).\n",
        "\n",
        "import math as m\n",
        "\n",
        "resultado = m.pow(5, 2)\n",
        "\n",
        "print(resultado)"
      ],
      "metadata": {
        "colab": {
          "base_uri": "https://localhost:8080/"
        },
        "id": "g23HKw1NnkQ3",
        "outputId": "35e9497e-5777-47b9-ae80-dbe8c02f37d9"
      },
      "execution_count": null,
      "outputs": [
        {
          "output_type": "stream",
          "name": "stdout",
          "text": [
            "25.0\n"
          ]
        }
      ]
    },
    {
      "cell_type": "code",
      "source": [
        "# 5. Use from math import pi e imprima o valor de π.\n",
        "\n",
        "from math import pi\n",
        "\n",
        "print(pi)"
      ],
      "metadata": {
        "colab": {
          "base_uri": "https://localhost:8080/"
        },
        "id": "JwvNvpUUoAt_",
        "outputId": "98a5a711-7d5c-47a3-e2c4-d78d8ebd4b8e"
      },
      "execution_count": null,
      "outputs": [
        {
          "output_type": "stream",
          "name": "stdout",
          "text": [
            "3.141592653589793\n"
          ]
        }
      ]
    },
    {
      "cell_type": "code",
      "source": [
        "# 6. Use from random import randint para gerar um número entre 10 e 100.\n",
        "\n",
        "from random import randint\n",
        "\n",
        "numero_aleatorio = random.randint(10, 100)\n",
        "\n",
        "print(numero_aleatorio)"
      ],
      "metadata": {
        "colab": {
          "base_uri": "https://localhost:8080/"
        },
        "id": "Dr0HaIteoyqK",
        "outputId": "f1885a90-d08d-4324-c300-87765afdfd8e"
      },
      "execution_count": null,
      "outputs": [
        {
          "output_type": "stream",
          "name": "stdout",
          "text": [
            "72\n"
          ]
        }
      ]
    },
    {
      "cell_type": "code",
      "source": [
        "# 6. Importe o módulo time e use sleep(3) para pausar o programa.\n",
        "\n",
        "import random\n",
        "import time\n",
        "\n",
        "print(\"Rolando os dados\")\n",
        "time.sleep(3)\n",
        "dado = random.randrange(1, 6)\n",
        "\n",
        "print(dado)\n"
      ],
      "metadata": {
        "colab": {
          "base_uri": "https://localhost:8080/"
        },
        "id": "U0QSwIOJpP9C",
        "outputId": "c8ef9666-7c5a-4380-d512-8ccdb4d46efd"
      },
      "execution_count": null,
      "outputs": [
        {
          "output_type": "stream",
          "name": "stdout",
          "text": [
            "Rolando os dados\n",
            "2\n"
          ]
        }
      ]
    },
    {
      "cell_type": "code",
      "source": [
        "# 7. Use dir(math) para listar as funções disponíveis no módulo.\n",
        "\n",
        "dir(math)\n"
      ],
      "metadata": {
        "colab": {
          "base_uri": "https://localhost:8080/"
        },
        "id": "FW3o8dSmp6ki",
        "outputId": "fe5b0af3-4e6b-42b1-e213-f1b41aebe11d"
      },
      "execution_count": null,
      "outputs": [
        {
          "output_type": "execute_result",
          "data": {
            "text/plain": [
              "['__doc__',\n",
              " '__loader__',\n",
              " '__name__',\n",
              " '__package__',\n",
              " '__spec__',\n",
              " 'acos',\n",
              " 'acosh',\n",
              " 'asin',\n",
              " 'asinh',\n",
              " 'atan',\n",
              " 'atan2',\n",
              " 'atanh',\n",
              " 'cbrt',\n",
              " 'ceil',\n",
              " 'comb',\n",
              " 'copysign',\n",
              " 'cos',\n",
              " 'cosh',\n",
              " 'degrees',\n",
              " 'dist',\n",
              " 'e',\n",
              " 'erf',\n",
              " 'erfc',\n",
              " 'exp',\n",
              " 'exp2',\n",
              " 'expm1',\n",
              " 'fabs',\n",
              " 'factorial',\n",
              " 'floor',\n",
              " 'fmod',\n",
              " 'frexp',\n",
              " 'fsum',\n",
              " 'gamma',\n",
              " 'gcd',\n",
              " 'hypot',\n",
              " 'inf',\n",
              " 'isclose',\n",
              " 'isfinite',\n",
              " 'isinf',\n",
              " 'isnan',\n",
              " 'isqrt',\n",
              " 'lcm',\n",
              " 'ldexp',\n",
              " 'lgamma',\n",
              " 'log',\n",
              " 'log10',\n",
              " 'log1p',\n",
              " 'log2',\n",
              " 'modf',\n",
              " 'nan',\n",
              " 'nextafter',\n",
              " 'perm',\n",
              " 'pi',\n",
              " 'pow',\n",
              " 'prod',\n",
              " 'radians',\n",
              " 'remainder',\n",
              " 'sin',\n",
              " 'sinh',\n",
              " 'sqrt',\n",
              " 'tan',\n",
              " 'tanh',\n",
              " 'tau',\n",
              " 'trunc',\n",
              " 'ulp']"
            ]
          },
          "metadata": {},
          "execution_count": 17
        }
      ]
    },
    {
      "cell_type": "code",
      "source": [
        "# 8. Use help(math.ceil) para entender como arredondar para cima.\n",
        "\n",
        "help(math.ceil)"
      ],
      "metadata": {
        "colab": {
          "base_uri": "https://localhost:8080/"
        },
        "id": "9dX9A3_JqKuc",
        "outputId": "2358b36d-bb79-42e0-e9dc-213c1a377ec3"
      },
      "execution_count": null,
      "outputs": [
        {
          "output_type": "stream",
          "name": "stdout",
          "text": [
            "Help on built-in function ceil in module math:\n",
            "\n",
            "ceil(x, /)\n",
            "    Return the ceiling of x as an Integral.\n",
            "    \n",
            "    This is the smallest integer >= x.\n",
            "\n"
          ]
        }
      ]
    },
    {
      "cell_type": "code",
      "source": [
        "# 9. Crie uma função que usa random.choice() para sortear um nome de uma lista.\n",
        "\n",
        "import math\n",
        "import random\n",
        "\n",
        "a,b = random.choices (['luiz' , 'bia' , 'renato' , 'ana'], k= 2)\n",
        "\n",
        "print(a)\n",
        "print(b)\n",
        "if a == b :\n",
        "  a,b = random.choices(['luiz' , 'bia' , 'renato' , 'ana' ], k=2)\n",
        "  print(a)\n",
        "  print(b)"
      ],
      "metadata": {
        "colab": {
          "base_uri": "https://localhost:8080/"
        },
        "id": "2QmsIbZLqSJ-",
        "outputId": "0713f730-4398-4588-f188-ad4d43f70186"
      },
      "execution_count": null,
      "outputs": [
        {
          "output_type": "stream",
          "name": "stdout",
          "text": [
            "renato\n",
            "renato\n",
            "ana\n",
            "luiz\n"
          ]
        }
      ]
    },
    {
      "cell_type": "code",
      "source": [
        "# 10. Crie uma função que usa random.choice() para sortear um nome de uma lista.\n",
        "\n",
        "import random\n",
        "\n",
        "lista = ['corinthians','timao','gavioes','camisa 12', 'estopim']\n",
        "\n",
        "random.choice(lista)"
      ],
      "metadata": {
        "colab": {
          "base_uri": "https://localhost:8080/",
          "height": 36
        },
        "id": "bbeoiGZwrCCh",
        "outputId": "2e7ef018-4fd8-4d3c-f24c-ef2193c0363e"
      },
      "execution_count": null,
      "outputs": [
        {
          "output_type": "execute_result",
          "data": {
            "text/plain": [
              "'gavioes'"
            ],
            "application/vnd.google.colaboratory.intrinsic+json": {
              "type": "string"
            }
          },
          "metadata": {},
          "execution_count": 41
        }
      ]
    },
    {
      "cell_type": "code",
      "source": [
        "# 11. Use math.fabs() para retornar o valor absoluto de um número negativo.\n",
        "\n",
        "import math\n",
        "\n",
        "valor = math.fabs(-7)\n",
        "\n",
        "print(valor)"
      ],
      "metadata": {
        "colab": {
          "base_uri": "https://localhost:8080/"
        },
        "id": "st5KvRy7u4Hv",
        "outputId": "1a8c2021-7cfe-42d5-d7b9-8980da4a9aaf"
      },
      "execution_count": null,
      "outputs": [
        {
          "output_type": "stream",
          "name": "stdout",
          "text": [
            "7.0\n"
          ]
        }
      ]
    },
    {
      "cell_type": "code",
      "source": [
        "# 12. Importe os e use os.getcwd() para mostrar o diretório atual.\n",
        "\n",
        "import os\n",
        "\n",
        "caminho_atual = os.getcwd()\n",
        "\n",
        "print(caminho_atual)\n",
        "\n"
      ],
      "metadata": {
        "colab": {
          "base_uri": "https://localhost:8080/"
        },
        "id": "4gFXrthPyddd",
        "outputId": "fd5297f2-e38b-4ef0-cc89-04360f8dcdab"
      },
      "execution_count": null,
      "outputs": [
        {
          "output_type": "stream",
          "name": "stdout",
          "text": [
            "/content\n"
          ]
        }
      ]
    },
    {
      "cell_type": "code",
      "source": [
        "# 13. Use calendar.month(2025, 6) para exibir o calendário de junho de 2025.\n",
        "\n",
        "import calendar\n",
        "\n",
        "calendario1 = calendar.month(2025, 1)\n",
        "calendario2 = calendar.month(2025, 2)\n",
        "calendario3 = calendar.month(2025, 3)\n",
        "calendario4 = calendar.month(2025, 4)\n",
        "calendario5 = calendar.month(2025, 5)\n",
        "calendario6 = calendar.month(2025, 6)\n",
        "calendario7 = calendar.month(2025, 7)\n",
        "calendario8 = calendar.month(2025, 8)\n",
        "calendario9 = calendar.month(2025, 9)\n",
        "calendario10 = calendar.month(2025, 10)\n",
        "calendario11 = calendar.month(2025, 11)\n",
        "calendario12 = calendar.month(2025, 12)\n",
        "\n",
        "\n",
        "print(calendario1)\n",
        "print(calendario2)\n",
        "print(calendario3)\n",
        "print(calendario4)\n",
        "print(calendario5)\n",
        "print(calendario6)\n",
        "print(calendario7)\n",
        "print(calendario8)\n",
        "print(calendario9)\n",
        "print(calendario10)\n",
        "print(calendario11)\n",
        "print(calendario12)"
      ],
      "metadata": {
        "colab": {
          "base_uri": "https://localhost:8080/"
        },
        "id": "uSBwmv1Oy_qn",
        "outputId": "829ea9ac-94a5-49cb-fd11-6c47b015331f"
      },
      "execution_count": null,
      "outputs": [
        {
          "output_type": "stream",
          "name": "stdout",
          "text": [
            "    January 2025\n",
            "Mo Tu We Th Fr Sa Su\n",
            "       1  2  3  4  5\n",
            " 6  7  8  9 10 11 12\n",
            "13 14 15 16 17 18 19\n",
            "20 21 22 23 24 25 26\n",
            "27 28 29 30 31\n",
            "\n",
            "   February 2025\n",
            "Mo Tu We Th Fr Sa Su\n",
            "                1  2\n",
            " 3  4  5  6  7  8  9\n",
            "10 11 12 13 14 15 16\n",
            "17 18 19 20 21 22 23\n",
            "24 25 26 27 28\n",
            "\n",
            "     March 2025\n",
            "Mo Tu We Th Fr Sa Su\n",
            "                1  2\n",
            " 3  4  5  6  7  8  9\n",
            "10 11 12 13 14 15 16\n",
            "17 18 19 20 21 22 23\n",
            "24 25 26 27 28 29 30\n",
            "31\n",
            "\n",
            "     April 2025\n",
            "Mo Tu We Th Fr Sa Su\n",
            "    1  2  3  4  5  6\n",
            " 7  8  9 10 11 12 13\n",
            "14 15 16 17 18 19 20\n",
            "21 22 23 24 25 26 27\n",
            "28 29 30\n",
            "\n",
            "      May 2025\n",
            "Mo Tu We Th Fr Sa Su\n",
            "          1  2  3  4\n",
            " 5  6  7  8  9 10 11\n",
            "12 13 14 15 16 17 18\n",
            "19 20 21 22 23 24 25\n",
            "26 27 28 29 30 31\n",
            "\n",
            "     June 2025\n",
            "Mo Tu We Th Fr Sa Su\n",
            "                   1\n",
            " 2  3  4  5  6  7  8\n",
            " 9 10 11 12 13 14 15\n",
            "16 17 18 19 20 21 22\n",
            "23 24 25 26 27 28 29\n",
            "30\n",
            "\n",
            "     July 2025\n",
            "Mo Tu We Th Fr Sa Su\n",
            "    1  2  3  4  5  6\n",
            " 7  8  9 10 11 12 13\n",
            "14 15 16 17 18 19 20\n",
            "21 22 23 24 25 26 27\n",
            "28 29 30 31\n",
            "\n",
            "    August 2025\n",
            "Mo Tu We Th Fr Sa Su\n",
            "             1  2  3\n",
            " 4  5  6  7  8  9 10\n",
            "11 12 13 14 15 16 17\n",
            "18 19 20 21 22 23 24\n",
            "25 26 27 28 29 30 31\n",
            "\n",
            "   September 2025\n",
            "Mo Tu We Th Fr Sa Su\n",
            " 1  2  3  4  5  6  7\n",
            " 8  9 10 11 12 13 14\n",
            "15 16 17 18 19 20 21\n",
            "22 23 24 25 26 27 28\n",
            "29 30\n",
            "\n",
            "    October 2025\n",
            "Mo Tu We Th Fr Sa Su\n",
            "       1  2  3  4  5\n",
            " 6  7  8  9 10 11 12\n",
            "13 14 15 16 17 18 19\n",
            "20 21 22 23 24 25 26\n",
            "27 28 29 30 31\n",
            "\n",
            "   November 2025\n",
            "Mo Tu We Th Fr Sa Su\n",
            "                1  2\n",
            " 3  4  5  6  7  8  9\n",
            "10 11 12 13 14 15 16\n",
            "17 18 19 20 21 22 23\n",
            "24 25 26 27 28 29 30\n",
            "\n",
            "   December 2025\n",
            "Mo Tu We Th Fr Sa Su\n",
            " 1  2  3  4  5  6  7\n",
            " 8  9 10 11 12 13 14\n",
            "15 16 17 18 19 20 21\n",
            "22 23 24 25 26 27 28\n",
            "29 30 31\n",
            "\n"
          ]
        }
      ]
    },
    {
      "cell_type": "code",
      "source": [
        "# 14. Use from time import ctime e exiba a data/hora atual.\n",
        "\n",
        "from time import ctime\n",
        "\n",
        "hora = ctime()\n",
        "\n",
        "print(hora)\n"
      ],
      "metadata": {
        "colab": {
          "base_uri": "https://localhost:8080/"
        },
        "id": "CttDvmA-zq5_",
        "outputId": "d34bf0ab-dad8-40a4-e640-b5872da0bcbe"
      },
      "execution_count": null,
      "outputs": [
        {
          "output_type": "stream",
          "name": "stdout",
          "text": [
            "Thu Jul 31 14:16:36 2025\n"
          ]
        }
      ]
    },
    {
      "cell_type": "code",
      "source": [
        "# 15. Crie uma função que recebe um número e imprime o fatorial usando math.factorial().\n",
        "\n",
        "import math\n",
        "\n",
        "\n",
        "def sua_funcao(numero):\n",
        "  numero = math.factorial(numero)\n",
        "  print(numero)\n",
        "\n",
        "\n"
      ],
      "metadata": {
        "id": "S31lDKhO1Tkw"
      },
      "execution_count": null,
      "outputs": []
    },
    {
      "cell_type": "code",
      "source": [
        "sua_funcao(500)\n"
      ],
      "metadata": {
        "colab": {
          "base_uri": "https://localhost:8080/"
        },
        "id": "MUMYOtJS16a9",
        "outputId": "2f3a9e91-b395-43b7-e584-ac2bcb3fc66a"
      },
      "execution_count": null,
      "outputs": [
        {
          "output_type": "stream",
          "name": "stdout",
          "text": [
            "1220136825991110068701238785423046926253574342803192842192413588385845373153881997605496447502203281863013616477148203584163378722078177200480785205159329285477907571939330603772960859086270429174547882424912726344305670173270769461062802310452644218878789465754777149863494367781037644274033827365397471386477878495438489595537537990423241061271326984327745715546309977202781014561081188373709531016356324432987029563896628911658974769572087926928871281780070265174507768410719624390394322536422605234945850129918571501248706961568141625359056693423813008856249246891564126775654481886506593847951775360894005745238940335798476363944905313062323749066445048824665075946735862074637925184200459369692981022263971952597190945217823331756934581508552332820762820023402626907898342451712006207714640979456116127629145951237229913340169552363850942885592018727433795173014586357570828355780158735432768888680120399882384702151467605445407663535984174430480128938313896881639487469658817504506926365338175055478128640000000000000000000000000000000000000000000000000000000000000000000000000000000000000000000000000000000000000000000000000000\n"
          ]
        }
      ]
    },
    {
      "cell_type": "code",
      "source": [
        "# 16. Use random.shuffle() para embaralhar uma lista de nomes.\n",
        "\n",
        "import random\n",
        "import time\n",
        "\n",
        "nomes = [\"charles\", \"hugo\", \"memphis\", \"yuri\", \"garro\"]\n",
        "\n",
        "time.sleep(3)\n",
        "time.sleep(2)\n",
        "\n",
        "random.shuffle(nomes)\n",
        "\n",
        "print(f\"Sortendo os nomes {nomes}\")"
      ],
      "metadata": {
        "colab": {
          "base_uri": "https://localhost:8080/"
        },
        "id": "R_3KvYOl2xl8",
        "outputId": "c7dd2db3-1005-4f8c-ab44-fc3aee139b00"
      },
      "execution_count": null,
      "outputs": [
        {
          "output_type": "stream",
          "name": "stdout",
          "text": [
            "Sortendo os nomes ['memphis', 'hugo', 'charles', 'garro', 'yuri']\n"
          ]
        }
      ]
    },
    {
      "cell_type": "code",
      "source": [
        "dir(random)"
      ],
      "metadata": {
        "colab": {
          "base_uri": "https://localhost:8080/"
        },
        "id": "gsijOhohDZ2m",
        "outputId": "5efd0f27-8a98-4984-e3fe-9f33b61a2f46"
      },
      "execution_count": null,
      "outputs": [
        {
          "output_type": "execute_result",
          "data": {
            "text/plain": [
              "['BPF',\n",
              " 'LOG4',\n",
              " 'NV_MAGICCONST',\n",
              " 'RECIP_BPF',\n",
              " 'Random',\n",
              " 'SG_MAGICCONST',\n",
              " 'SystemRandom',\n",
              " 'TWOPI',\n",
              " '_ONE',\n",
              " '_Sequence',\n",
              " '_Set',\n",
              " '__all__',\n",
              " '__builtins__',\n",
              " '__cached__',\n",
              " '__doc__',\n",
              " '__file__',\n",
              " '__loader__',\n",
              " '__name__',\n",
              " '__package__',\n",
              " '__spec__',\n",
              " '_accumulate',\n",
              " '_acos',\n",
              " '_bisect',\n",
              " '_ceil',\n",
              " '_cos',\n",
              " '_e',\n",
              " '_exp',\n",
              " '_floor',\n",
              " '_index',\n",
              " '_inst',\n",
              " '_isfinite',\n",
              " '_log',\n",
              " '_os',\n",
              " '_pi',\n",
              " '_random',\n",
              " '_repeat',\n",
              " '_sha512',\n",
              " '_sin',\n",
              " '_sqrt',\n",
              " '_test',\n",
              " '_test_generator',\n",
              " '_urandom',\n",
              " '_warn',\n",
              " 'betavariate',\n",
              " 'choice',\n",
              " 'choices',\n",
              " 'expovariate',\n",
              " 'gammavariate',\n",
              " 'gauss',\n",
              " 'getrandbits',\n",
              " 'getstate',\n",
              " 'lognormvariate',\n",
              " 'normalvariate',\n",
              " 'paretovariate',\n",
              " 'randbytes',\n",
              " 'randint',\n",
              " 'random',\n",
              " 'randrange',\n",
              " 'sample',\n",
              " 'seed',\n",
              " 'setstate',\n",
              " 'shuffle',\n",
              " 'triangular',\n",
              " 'uniform',\n",
              " 'vonmisesvariate',\n",
              " 'weibullvariate']"
            ]
          },
          "metadata": {},
          "execution_count": 80
        }
      ]
    },
    {
      "cell_type": "code",
      "source": [
        "# 17. Use math.floor() e math.ceil() e compare os resultados.\n",
        "\n",
        "from math import floor\n",
        "from math import ceil\n",
        "\n",
        "numero = float(input(\"Digite um numero: \"))\n",
        "numero_baixo = math.floor(numero)\n",
        "numero_cima = math.ceil(numero)\n",
        "\n",
        "if numero_baixo < numero_cima :\n",
        "  print(f\"Floor é menor que Ceil\")\n",
        "else:\n",
        "  print(f\"Floor é igual a Ceil\")\n",
        "\n",
        "print(numero)\n"
      ],
      "metadata": {
        "colab": {
          "base_uri": "https://localhost:8080/"
        },
        "id": "g-2UBDM_D9o3",
        "outputId": "33c23e75-fd3d-42fb-937f-d7c80c450b5c"
      },
      "execution_count": null,
      "outputs": [
        {
          "output_type": "stream",
          "name": "stdout",
          "text": [
            "Digite um numero: 5\n",
            "Floor é igual a Ceil\n",
            "5.0\n"
          ]
        }
      ]
    },
    {
      "cell_type": "code",
      "source": [
        "# 18. Use import platform e mostre o nome do sistema operacional.\n",
        "\n",
        "import platform\n",
        "\n",
        "print(platform.system())"
      ],
      "metadata": {
        "colab": {
          "base_uri": "https://localhost:8080/"
        },
        "id": "YbXoQ8shGA85",
        "outputId": "2cd0a257-ed42-4bac-a982-a0ffbdbf1ded"
      },
      "execution_count": null,
      "outputs": [
        {
          "output_type": "stream",
          "name": "stdout",
          "text": [
            "Linux\n"
          ]
        }
      ]
    },
    {
      "cell_type": "code",
      "source": [
        "# 19. Importe math e use math.isqrt() com o número 49.\n",
        "\n",
        "import math\n",
        "\n",
        "resultado = math.isqrt(49)\n",
        "\n",
        "print(resultado)"
      ],
      "metadata": {
        "colab": {
          "base_uri": "https://localhost:8080/"
        },
        "id": "ui-vWd5rGyHb",
        "outputId": "6da42104-421f-4856-8ac3-7481d10fcdba"
      },
      "execution_count": null,
      "outputs": [
        {
          "output_type": "stream",
          "name": "stdout",
          "text": [
            "7\n"
          ]
        }
      ]
    },
    {
      "cell_type": "code",
      "source": [
        "import statistics\n",
        "\n",
        "print(dir(statistics))"
      ],
      "metadata": {
        "colab": {
          "base_uri": "https://localhost:8080/"
        },
        "id": "hNWaDJt_JVOt",
        "outputId": "fbcac326-f800-4285-c360-b4090c96aa71"
      },
      "execution_count": null,
      "outputs": [
        {
          "output_type": "stream",
          "name": "stdout",
          "text": [
            "['Counter', 'Decimal', 'Fraction', 'LinearRegression', 'NormalDist', 'StatisticsError', '_SQRT2', '__all__', '__annotations__', '__builtins__', '__cached__', '__doc__', '__file__', '__loader__', '__name__', '__package__', '__spec__', '_coerce', '_convert', '_decimal_sqrt_of_frac', '_exact_ratio', '_fail_neg', '_float_sqrt_of_frac', '_integer_sqrt_of_frac_rto', '_isfinite', '_mean_stdev', '_normal_dist_inv_cdf', '_sqrt_bit_width', '_ss', '_sum', 'bisect_left', 'bisect_right', 'correlation', 'covariance', 'defaultdict', 'erf', 'exp', 'fabs', 'fmean', 'fsum', 'geometric_mean', 'groupby', 'harmonic_mean', 'hypot', 'linear_regression', 'log', 'math', 'mean', 'median', 'median_grouped', 'median_high', 'median_low', 'mode', 'mul', 'multimode', 'namedtuple', 'numbers', 'pstdev', 'pvariance', 'quantiles', 'random', 'reduce', 'repeat', 'sqrt', 'stdev', 'sys', 'tau', 'variance']\n"
          ]
        }
      ]
    },
    {
      "cell_type": "code",
      "source": [
        "# 20. Importe statistics e calcule a média de uma lista de números.\n",
        "\n",
        "import statistics\n",
        "\n",
        "lista = [1, 12, 55, 60] # Numeros não precisam de \"\"\n",
        "lista = statistics.mean(lista) # Quando você chama statistics.mean(lista),\n",
        "\n",
        "# o Python pega todos os números dentro de lista\n",
        "# soma todos eles e depois divide pelo total de elementos.\n",
        "\n",
        "print(lista)"
      ],
      "metadata": {
        "colab": {
          "base_uri": "https://localhost:8080/"
        },
        "id": "80ovA-nKIWs6",
        "outputId": "dd1127c2-7b11-4739-df91-38f883a524e8"
      },
      "execution_count": null,
      "outputs": [
        {
          "output_type": "stream",
          "name": "stdout",
          "text": [
            "32\n"
          ]
        }
      ]
    },
    {
      "cell_type": "code",
      "source": [
        "# 21. Importe datetime como dt e exiba a data atual.\n",
        "\n",
        "import datetime as dt\n",
        "\n",
        "agora = dt.datetime.now()\n",
        "\n",
        "print(agora)"
      ],
      "metadata": {
        "id": "xMSvhMTVKCkF",
        "colab": {
          "base_uri": "https://localhost:8080/"
        },
        "outputId": "dd9928ef-90c9-4e05-e196-eb0fa90e4830"
      },
      "execution_count": null,
      "outputs": [
        {
          "output_type": "stream",
          "name": "stdout",
          "text": [
            "2025-07-31 17:53:27.304865\n"
          ]
        }
      ]
    },
    {
      "cell_type": "code",
      "source": [
        "# 22. Use from statistics import mean, median e aplique nas notas de alunos.\n",
        "\n",
        "from statistics import mean, median\n",
        "\n",
        "nota = [7.5 , 8.0 , 10 , 9,5]\n",
        "\n",
        "media = mean(nota)\n",
        "\n",
        "mediana = median(nota)\n",
        "\n",
        "print(media)\n",
        "print(mediana)"
      ],
      "metadata": {
        "colab": {
          "base_uri": "https://localhost:8080/"
        },
        "id": "H6Zdwrllmp21",
        "outputId": "8fd17452-b8d6-47bf-af8f-f92434cbf5e1"
      },
      "execution_count": null,
      "outputs": [
        {
          "output_type": "stream",
          "name": "stdout",
          "text": [
            "7.9\n",
            "8.0\n"
          ]
        }
      ]
    },
    {
      "cell_type": "code",
      "source": [],
      "metadata": {
        "id": "Q9VeU-qVoUUm"
      },
      "execution_count": null,
      "outputs": []
    },
    {
      "cell_type": "markdown",
      "source": [
        "# CONDIÇÕES ANINHADAS E ENCADEADAS"
      ],
      "metadata": {
        "id": "sSzEPA-FaueS"
      }
    },
    {
      "cell_type": "code",
      "source": [
        "import time\n",
        "\n",
        "dia = str(input(\"Que dia é hoje?: \"))\n",
        "\n",
        "if dia == str(\"segunda\"):\n",
        "  time.sleep(5)\n",
        "  print(\" SEGUNDA EDUCAFRO \")\n",
        "\n",
        "elif dia == str(\"terça\"):\n",
        "  print(\" TERÇA NERD \")\n",
        "\n",
        "elif dia == str(\"quarta\"):\n",
        "  print(\" QUARTA ROSA \")\n",
        "\n",
        "elif dia == str(\"quinta\"):\n",
        "  time.sleep(5)\n",
        "  print(\" QUINTA DO ESPORTE \")\n",
        "\n",
        "elif dia == str(\"sexta\"):\n",
        "  print(\" SEXTA DO PIJAMA \")\n",
        "\n",
        "else:\n",
        "  print(\" FINAL DE SEMANA!!! \")\n"
      ],
      "metadata": {
        "colab": {
          "base_uri": "https://localhost:8080/"
        },
        "id": "fhG0xFZca3Kv",
        "outputId": "16aeb59f-d16e-441f-e654-6a4ef0dbbf82"
      },
      "execution_count": null,
      "outputs": [
        {
          "output_type": "stream",
          "name": "stdout",
          "text": [
            "Que dia é hoje?: segunda\n",
            " SEGUNDA EDUCAFRO \n"
          ]
        }
      ]
    },
    {
      "cell_type": "code",
      "source": [
        "dia = str(input(\"Que dia é hoje?: \"))\n",
        "camisa = str(\"Corinthians\")\n",
        "\n",
        "if dia == str(\"segunda\"):\n",
        "  print(\"Segunda EDUCAFRO\")\n",
        "\n",
        "  if camisa != str(\"EDUCAFRO\"):\n",
        "    camisa = str(\"Camisa da EDUCAFRO\")\n",
        "    print(f\" Pegue a sua {camisa}\")\n",
        "  else:\n",
        "    print(\"Vai pra RUA!!!\")\n",
        "\n"
      ],
      "metadata": {
        "colab": {
          "base_uri": "https://localhost:8080/"
        },
        "id": "YYG9TfKfbm27",
        "outputId": "02acaf1f-e952-4fd2-88a5-f61a787b9a1a"
      },
      "execution_count": null,
      "outputs": [
        {
          "output_type": "stream",
          "name": "stdout",
          "text": [
            "Que dia é hoje?: segunda\n",
            "Segunda EDUCAFRO\n",
            " Pegue a sua Camisa da EDUCAFRO\n"
          ]
        }
      ]
    },
    {
      "cell_type": "code",
      "source": [
        "# PEÇA AO USUARUI A IDADE, E CLASSIFIQUE ENTRE\n",
        "# CRIANÇA, ADOLESCENTE, ADULTO, IDOSO\n",
        "\n",
        "idade = int(input(\"Digite sua idade: \"))\n",
        "\n",
        "if idade < 12:\n",
        "  print(\"Você é uma criança\")\n",
        "\n",
        "elif 12 <= idade < 18:\n",
        "  print(\"Você é adolecente\")\n",
        "\n",
        "elif  18 <= idade < 64:\n",
        "  print(\"Você é um adulto\")\n",
        "\n",
        "else:\n",
        "  print(\"Você é um idoso\")"
      ],
      "metadata": {
        "colab": {
          "base_uri": "https://localhost:8080/"
        },
        "id": "z3SNGN_Ghmv9",
        "outputId": "ba8d26b7-ffe9-4800-9483-dd02079449a1"
      },
      "execution_count": null,
      "outputs": [
        {
          "output_type": "stream",
          "name": "stdout",
          "text": [
            "Digite sua idade: 83\n",
            "Você é um idoso\n"
          ]
        }
      ]
    },
    {
      "cell_type": "code",
      "source": [
        "# O aluno insere 2 notas\n",
        "# de 0 a 4 - reprovado\n",
        "# de 5 a 7 - recuperação\n",
        "# de 8 a 10 - aprovado\n",
        "# se 10 - ganha um premio\n",
        "\n",
        "nota1 = float(input(\"Digite sua nota: \"))\n",
        "nota2 = float(input(\"Digite sua nota: \"))\n",
        "\n",
        "media = (nota1 + nota2)/2\n",
        "\n",
        "if media <= 7:\n",
        "  print(\"Você está reprovado\")\n",
        "\n",
        "  if media > 4:\n",
        "    print(\"Você ainda pode fazer recuperação\") # IF só ativa se caso o IF < 7 ativar\n",
        "\n",
        "else:\n",
        "  print(\"Você está aprovado\")\n",
        "\n",
        "  if media == 10:\n",
        "    print(\"Você ganhou um premio, Parabens aluno\")\n",
        "\n",
        "\n"
      ],
      "metadata": {
        "colab": {
          "base_uri": "https://localhost:8080/"
        },
        "id": "cja9yjNFnNXp",
        "outputId": "3464fced-2970-4bba-c8aa-64c89977c7b8"
      },
      "execution_count": null,
      "outputs": [
        {
          "output_type": "stream",
          "name": "stdout",
          "text": [
            "Digite sua nota: 10\n",
            "Digite sua nota: 10\n",
            "Você está aprovado\n",
            "Você ganhou um premio, Parabens aluno\n"
          ]
        }
      ]
    },
    {
      "cell_type": "code",
      "source": [
        "# O usuario coloca a idade\n",
        "# Verifique se ele tem idade para dirigir\n",
        "# Verifique se ele tem carteira\n",
        "\n",
        "idade = int(input(\"Digite sua idade: \"))\n",
        "habilitação = str(input(\"Você está habilitado?: \"))\n",
        "\n",
        "if idade >= 18:\n",
        "  print(\"Você pode dirigir\")\n",
        "\n",
        "elif habilitação == str(\"Sim\"):\n",
        "  print(\"Você pode seguir\")\n",
        "\n",
        "else:\n",
        "  print(\"Você não tem idade e nem habilitação para seguir\")"
      ],
      "metadata": {
        "colab": {
          "base_uri": "https://localhost:8080/"
        },
        "id": "1LFvyYzutVyn",
        "outputId": "fc78dad4-2db8-4bd0-da43-48e162666f08"
      },
      "execution_count": null,
      "outputs": [
        {
          "output_type": "stream",
          "name": "stdout",
          "text": [
            "Digite sua idade: 10\n",
            "Você está habilitado?: 10\n",
            "Você não tem idade e nem habilitação para seguir\n"
          ]
        }
      ]
    },
    {
      "cell_type": "code",
      "source": [
        "# 1 Faça um algoritmo que leia os valores A, B, C e imprimana tela a soma A + B\n",
        "# é menor que C\n",
        "\n",
        "a = int(input(\"Digite o valor de A: \"))\n",
        "b = int(input(\"Digite o valor de B: \"))\n",
        "c = int(input(\"Digite o valor de C: \"))\n",
        "\n",
        "soma = a + b\n",
        "\n",
        "if soma < c:\n",
        "  print(\"A soma é menor que C\")\n",
        "\n",
        "else:\n",
        "  print(\"A soma é maior que C\")\n",
        "\n",
        "print(soma)"
      ],
      "metadata": {
        "colab": {
          "base_uri": "https://localhost:8080/"
        },
        "id": "dLtIbe2JuEow",
        "outputId": "ad396a54-ffd9-414d-b71a-5b307818a196"
      },
      "execution_count": null,
      "outputs": [
        {
          "output_type": "stream",
          "name": "stdout",
          "text": [
            "Digite o valor de A: 5\n",
            "Digite o valor de B: 5\n",
            "Digite o valor de C: 1\n",
            "A soma é maior que C\n",
            "10\n"
          ]
        }
      ]
    },
    {
      "cell_type": "code",
      "source": [
        "# 2 Faça um algoritmo que leia o nome, o sexo e o estado civil de uma pessoa\n",
        "# Caso sexo seja \"F\" e estado civil seja \"CASADA\", solicitar o tempo de casada (anos)\n",
        "\n",
        "nome = str(input(\"Digite seu nome: \"))\n",
        "sexo = str(input(\"Digite seu sexo: \"))\n",
        "estado_civil = str(input(\"Digite seu estado civil: \"))\n",
        "tempo_de_casado = int(input(\"Digite seu tempo de casado: \"))\n",
        "\n",
        "if sexo == str(\"F\"):\n",
        "  print(\"Você é uma mulher\")\n",
        "\n",
        "  if estado_civil == str(\"Casada\"):\n",
        "    print(\"Você é casada\")\n",
        "\n",
        "  if tempo_de_casado >= 1:\n",
        "    print(f\"Você esta casada a {tempo_de_casado} anos\")\n",
        "\n",
        "else:\n",
        "  print(\"Você não está casado\")"
      ],
      "metadata": {
        "colab": {
          "base_uri": "https://localhost:8080/"
        },
        "id": "ZeC6-JzlZg2-",
        "outputId": "7d59baa8-c1c4-4db0-e665-fd47a7517b18"
      },
      "execution_count": null,
      "outputs": [
        {
          "output_type": "stream",
          "name": "stdout",
          "text": [
            "Digite seu nome: Joana\n",
            "Digite seu sexo: F\n",
            "Digite seu estado civil: Casada\n",
            "Digite seu tempo de casado: 10\n",
            "Você é uma mulher\n",
            "Você é casada\n",
            "Você esta casada a 10 anos\n"
          ]
        }
      ]
    },
    {
      "cell_type": "code",
      "source": [
        "# Faça um algoritmo para receber um numero qualquer e informar na tela\n",
        "# Se é impar ou par\n",
        "\n",
        "numero = int(input(\"Digite um numero: \"))\n",
        "\n",
        "if numero % 2 == 0:\n",
        "  print(\"Seu numero é par\")\n",
        "\n",
        "else:\n",
        "  print(f\"Seu numero {numero} é impar\")\n",
        "\n"
      ],
      "metadata": {
        "colab": {
          "base_uri": "https://localhost:8080/"
        },
        "id": "GLvW-fKbbj34",
        "outputId": "ea18d3f7-e6e1-4661-ff9c-d0fccbd28b04"
      },
      "execution_count": null,
      "outputs": [
        {
          "output_type": "stream",
          "name": "stdout",
          "text": [
            "Digite um numero: 10\n",
            "Seu numero é par\n"
          ]
        }
      ]
    },
    {
      "cell_type": "code",
      "source": [
        "# faça  um algoritmo que leia dois valores inteiros A e B se os valores\n",
        "# forem iguais deverá se somar os dois, caso contrario multiplique A por B\n",
        "# Ao final de qualquer um dos calculas deve-se atribuir o resultado\n",
        "# para uma variavel C e mostrar seu conteudo na tela\n",
        "\n",
        "a = int(input(\"Digite o valor A: \"))\n",
        "b = int(input(\"Digite o Valor B: \"))\n",
        "\n",
        "c = a + b\n",
        "\n",
        "if a == b:\n",
        "  print(f\"A soma de a + b é {c}\")\n",
        "\n",
        "  if a != b:\n",
        "    c = a * b\n",
        "    print(f\"A multiplicação de a * b é {c}\")\n",
        "\n"
      ],
      "metadata": {
        "colab": {
          "base_uri": "https://localhost:8080/"
        },
        "id": "6m95S5eKeV4R",
        "outputId": "15a6f52f-7b2f-48fc-b6cb-58ecb3007bab"
      },
      "execution_count": null,
      "outputs": [
        {
          "output_type": "stream",
          "name": "stdout",
          "text": [
            "Digite o valor A: 20\n",
            "Digite o Valor B: 20\n",
            "A soma de a + b é 40\n"
          ]
        }
      ]
    },
    {
      "cell_type": "code",
      "source": [],
      "metadata": {
        "id": "uvdhCVMZp1Zq"
      },
      "execution_count": null,
      "outputs": []
    },
    {
      "cell_type": "markdown",
      "source": [
        "# LISTA DA FELICIDADE 8 - CONDICIONAIS ANINHADAS"
      ],
      "metadata": {
        "id": "y8z5KdAeY3nZ"
      }
    },
    {
      "cell_type": "code",
      "source": [
        "# 1 - Verificar se a pessoa pode entrar em uma festa\n",
        "# Idade minima e traje adequado\n",
        "\n",
        "idade = int(input(\"Digite sua idade: \"))\n",
        "traje = str(input(\"Digite seu traje: \"))\n",
        "\n",
        "if idade >= 18:\n",
        "  print(\"Você pode entrar\")\n",
        "  if traje.lower == str(\"Terno\"):\n",
        "    print(\"Seu traje está adequado\")\n",
        "\n",
        "\n",
        "else:\n",
        "  print(\"Você não tem idade e o seu traje não está de acordo\")"
      ],
      "metadata": {
        "colab": {
          "base_uri": "https://localhost:8080/"
        },
        "id": "P-0hJuzmY9PD",
        "outputId": "9ab00d8c-4bbc-46cb-cbb2-f8b326a3e535"
      },
      "execution_count": null,
      "outputs": [
        {
          "output_type": "stream",
          "name": "stdout",
          "text": [
            "Digite sua idade: 22\n",
            "Digite seu traje: Terno\n",
            "Você pode entrar\n"
          ]
        }
      ]
    },
    {
      "cell_type": "code",
      "source": [
        "# 2 - Avaliar se alguem pode tirar a CNH\n",
        "# Idade e escolaridade minima\n",
        "\n",
        "idade = int(input(\"Digite sua idade: \"))\n",
        "escolaridade = str(input(\"Digite sua escolaridade: \"))\n",
        "\n",
        "if idade >= 18:\n",
        "  print(\"Você pode dirigir\")\n",
        "else:\n",
        "  print(\"Você não tem idade para dirigir\")\n",
        "  if escolaridade == \"Ensino medio completo\":\n",
        "    print(\"Você tem a escolaridade necessaria\")\n",
        "  else:\n",
        "    print(\"Você não tem idade e nem escolaridade para dar continuidade\")"
      ],
      "metadata": {
        "colab": {
          "base_uri": "https://localhost:8080/"
        },
        "id": "Tr2ZOE_1Zl-b",
        "outputId": "9546a351-1640-489a-b6e4-0f4e580a5f43"
      },
      "execution_count": null,
      "outputs": [
        {
          "output_type": "stream",
          "name": "stdout",
          "text": [
            "Digite sua idade: 20\n",
            "Digite sua escolaridade: Ensino medio completo\n",
            "Você pode dirigir\n"
          ]
        }
      ]
    },
    {
      "cell_type": "code",
      "source": [
        "# 3 - Calcular tarifa de onibus com base na idade\n",
        "# Infantil, Adulto, Idoso\n",
        "\n",
        "idade = int(input(\"Digite sua idade: \"))\n",
        "\n",
        "if idade < 60:\n",
        "  if idade < 12:\n",
        "    tarifa = 2.00\n",
        "    print(\"Categoria infantil\")\n",
        "  else:\n",
        "    tarifa = 4.00\n",
        "    print(\"Categoria adulto\")\n",
        "\n",
        "else:\n",
        "  tarifa = 3.00\n",
        "  print(\"Categoria idoso\")\n",
        "\n",
        "print(f\"O valor da tarifa é {tarifa}\")\n"
      ],
      "metadata": {
        "colab": {
          "base_uri": "https://localhost:8080/"
        },
        "id": "swcXc3Cdbi4u",
        "outputId": "72d95302-3f69-45d3-c319-f20f421f5c50"
      },
      "execution_count": null,
      "outputs": [
        {
          "output_type": "stream",
          "name": "stdout",
          "text": [
            "Digite sua idade: 24\n",
            "Categoria adulto\n",
            "O valor da tarifa é 4.0\n"
          ]
        }
      ]
    },
    {
      "cell_type": "code",
      "source": [
        "# 4 - Escolher o transporte ideal\n",
        "# (Distancia e urgencia)\n",
        "\n",
        "distancia = float(input(\"Digite o trajeto (em KM): \"))\n",
        "urgencia = str(input(\"Digite a urgência (alta/baixa): \")).lower()\n",
        "\n",
        "if urgencia == \"alta\":\n",
        "    if distancia <= 20:\n",
        "        print(\"Transporte sugerido: Moto ou Carro\")\n",
        "    else:\n",
        "        print(\"Transporte sugerido: Avião ou Transporte Rápido\")\n",
        "\n",
        "else:\n",
        "    if distancia <= 5:\n",
        "        print(\"Transporte sugerido: Caminhada ou Bicicleta\")\n",
        "    elif distancia <= 20:\n",
        "        print(\"Transporte sugerido: Ônibus ou Carro\")\n",
        "    else:\n",
        "        print(\"Transporte sugerido: Ônibus Intermunicipal ou Avião\")"
      ],
      "metadata": {
        "id": "iNFitA9ZdsIY",
        "colab": {
          "base_uri": "https://localhost:8080/"
        },
        "outputId": "9adc4e51-6bfd-4f4a-fe9e-eab212c78e4b"
      },
      "execution_count": null,
      "outputs": [
        {
          "output_type": "stream",
          "name": "stdout",
          "text": [
            "Digite o trajeto (em KM): 21\n",
            "Digite a urgência (alta/baixa): alta\n",
            "Transporte sugerido: Avião ou Transporte Rápido\n"
          ]
        }
      ]
    },
    {
      "cell_type": "code",
      "source": [
        "# 5 - Sugerir o tipo de refeição com base na hora do dia e fome.\n",
        "\n",
        "\n",
        "hora = input(\"Qual o período do dia? (manha/tarde/noite): \").lower()\n",
        "fome = input(\"Você está com fome? (sim/não): \").lower()\n",
        "\n",
        "if fome == \"sim\":\n",
        "    if hora == \"manha\":\n",
        "        print(\"Sugestão: Café da manhã reforçado\")\n",
        "    elif hora == \"tarde\":\n",
        "        print(\"Sugestão: Almoço completo\")\n",
        "    elif hora == \"noite\":\n",
        "        print(\"Sugestão: Jantar leve ou completo\")\n",
        "    else:\n",
        "        print(\"Período do dia inválido\")\n",
        "else:\n",
        "    if hora == \"manha\":\n",
        "        print(\"Sugestão: Apenas um café ou chá\")\n",
        "    elif hora == \"tarde\":\n",
        "        print(\"Sugestão: Um lanche leve ou água\")\n",
        "    elif hora == \"noite\":\n",
        "        print(\"Sugestão: Algo leve ou nada, se não estiver com fome\")\n",
        "    else:\n",
        "        print(\"Período do dia inválido\")"
      ],
      "metadata": {
        "colab": {
          "base_uri": "https://localhost:8080/"
        },
        "id": "9P9t3-SYHuA5",
        "outputId": "43a8ccb1-1b3d-4d45-a5c1-b15db46f2fb8"
      },
      "execution_count": null,
      "outputs": [
        {
          "output_type": "stream",
          "name": "stdout",
          "text": [
            "Qual o período do dia? (manhã/tarde/noite): manhã\n",
            "Você está com fome? (sim/não): sim\n",
            "Sugestão: Café da manhã reforçado\n"
          ]
        }
      ]
    },
    {
      "cell_type": "code",
      "source": [
        "# 6 - Avaliar se deve levar guarda-chuva (tempo nublado e previsão de chuva).\n",
        "\n",
        "tempo = str(input(\"Digite como está o tempo (sol/chuva/nublado): \"))\n",
        "\n",
        "if tempo == \"chuva\":\n",
        "  print(\"Leve o guardar chuva\")\n",
        "\n",
        "elif tempo == \"sol\":\n",
        "  print(\"Leve os oculos escuros e passe o protetor\")\n",
        "\n",
        "\n",
        "else:\n",
        "  print(\"Está nublado, leve o guarda-chuva\")"
      ],
      "metadata": {
        "colab": {
          "base_uri": "https://localhost:8080/"
        },
        "id": "SZYlT1ykHz8g",
        "outputId": "3396317b-fb7c-42ce-8621-61f0c456fca3"
      },
      "execution_count": null,
      "outputs": [
        {
          "output_type": "stream",
          "name": "stdout",
          "text": [
            "Digite como está o tempo (sol/chuva/nublado): nublado\n",
            "Está nublado, leve o guarda-chuva\n"
          ]
        }
      ]
    },
    {
      "cell_type": "code",
      "source": [
        "# 7 - Verificar se pode comprar ingresso (tem dinheiro e idade permitida).\n",
        "\n",
        "idade = int(input(\"Digite sua idade: \"))\n",
        "saldo = float(input(\"Digite seu saldo disponível: \"))\n",
        "valor_do_ingresso = 500.00\n",
        "\n",
        "if idade >= 18:\n",
        "  if saldo >= valor_do_ingresso:\n",
        "    print(f\"ingresso comprado com sucesso! valor: R${valor_do_ingresso:.2f}\")\n",
        "    print(f\"Saldo restante: R${saldo - valor_do_ingresso:.2f}\")\n",
        "  else:\n",
        "    print(f\"Saldo insuficiente. Você precisa de R${valor_do_ingresso:.2f}, mas tem R${saldo:.2f}\")\n",
        "\n",
        "else:\n",
        "  print(\"Você não tem idade para comprar o ingreso\")\n",
        "\n",
        "\n"
      ],
      "metadata": {
        "colab": {
          "base_uri": "https://localhost:8080/"
        },
        "id": "IsiqrEw4IZNI",
        "outputId": "9aec4a10-884c-466b-c0e2-a408a44815ae"
      },
      "execution_count": null,
      "outputs": [
        {
          "output_type": "stream",
          "name": "stdout",
          "text": [
            "Digite sua idade: 24\n",
            "Digite seu saldo disponível: 500\n",
            "ingresso comprado com sucesso! valor: R$500.00\n",
            "Saldo restante: R$0.00\n"
          ]
        }
      ]
    },
    {
      "cell_type": "code",
      "source": [
        "# 8- Calcular desconto em supermercado (cliente VIP e valor da compra).\n",
        "\n",
        "vip = input(\"Cliente VIP? (sim/nao): \").lower()\n",
        "valor_compra = float(input(\"Digite o valor da compra: R$\"))\n",
        "\n",
        "if vip == \"sim\":\n",
        "    if valor_compra > 200:\n",
        "        desconto = valor_compra * 0.25\n",
        "    else:\n",
        "        desconto = valor_compra * 0.10\n",
        "    valor_final = valor_compra - desconto\n",
        "    print(f\"Desconto aplicado: R${desconto:.2f}\")\n",
        "    print(f\"Valor final da compra: R${valor_final:.2f}\")\n",
        "else:\n",
        "    print(\"Cliente não VIP. Sem desconto.\")\n",
        "    print(f\"Valor total da compra: R${valor_compra:.2f}\")"
      ],
      "metadata": {
        "colab": {
          "base_uri": "https://localhost:8080/"
        },
        "id": "t8Z6JiW1IuQ1",
        "outputId": "c8854b26-b9e6-4752-b619-8bcae212bf9b"
      },
      "execution_count": null,
      "outputs": [
        {
          "output_type": "stream",
          "name": "stdout",
          "text": [
            "Cliente VIP? (sim/nao): sim\n",
            "Digite o valor da compra: R$1500\n",
            "Desconto aplicado: R$375.00\n",
            "Valor final da compra: R$1125.00\n"
          ]
        }
      ]
    },
    {
      "cell_type": "code",
      "source": [
        "# 9 - Determinar se um produto pode ser devolvido (dias desde a compra e condição do produto).\n",
        "\n",
        "dias = int(input(\"Digite os dias: \"))\n",
        "condicao = str(input(\"O produto está em condição? (sim/não): \"))\n",
        "\n",
        "if condicao == \"sim\":\n",
        "  if dias <= 30:\n",
        "    print(\"O produto pode ser devolvido, está dentro das condições e dias\")\n",
        "\n",
        "else:\n",
        "  print(\"Já ultrapassou o prazo de devolução\")\n"
      ],
      "metadata": {
        "colab": {
          "base_uri": "https://localhost:8080/"
        },
        "id": "KQqYHcgwKZkX",
        "outputId": "72b3ab84-d92a-4f97-c51d-405c7802b672"
      },
      "execution_count": null,
      "outputs": [
        {
          "output_type": "stream",
          "name": "stdout",
          "text": [
            "Digite os dias: 19\n",
            "O produto está em condição? (sim/não): sim\n",
            "O produto pode ser devolvido, está dentro das condições e dias\n"
          ]
        }
      ]
    },
    {
      "cell_type": "code",
      "source": [
        "# 10 - Dizer se alguém deve ir ao médico (sintomas + tempo com os sintomas).\n",
        "\n",
        "sintomas = str(input(\"Você está com sintomas? (sim/não): \")).lower()\n",
        "\n",
        "if sintomas == \"sim\":\n",
        "  tempo = int(input(\"Há quantos dias você está com os sintomas? \"))\n",
        "  if tempo > 3:\n",
        "    print(\"Você deve ir ao medico\")\n",
        "  else:\n",
        "    print(\"Você pode aguardar e ver os sintomas\")\n",
        "\n",
        "else:\n",
        "  print(\"Você não precisa ir ao medico\")\n",
        "\n"
      ],
      "metadata": {
        "colab": {
          "base_uri": "https://localhost:8080/"
        },
        "id": "5pEFmfYrMvtw",
        "outputId": "daa5cc20-f14e-46d3-eca0-3d271d93eb98"
      },
      "execution_count": null,
      "outputs": [
        {
          "output_type": "stream",
          "name": "stdout",
          "text": [
            "Você está com sintomas? (sim/não): sim\n",
            "Há quantos dias você está com os sintomas? 5\n",
            "Você deve ir ao medico\n"
          ]
        }
      ]
    },
    {
      "cell_type": "code",
      "source": [
        "# 11 - Decidir promoção de funcionário (tempo de casa e avaliação).\n",
        "\n",
        "tempo_de_casa = int(input(\"Quanto tempo de casa?: \"))\n",
        "\n",
        "if tempo_de_casa >= 5:\n",
        "  avaliacao = int(input(\"Digite sua nota: \"))\n",
        "  if avaliacao > 9:\n",
        "    print(\"Você está promovido\")\n",
        "\n",
        "else:\n",
        "  print(\"Infelizmente não foi possivel lhe promover\")"
      ],
      "metadata": {
        "colab": {
          "base_uri": "https://localhost:8080/"
        },
        "id": "tGd1FrP3NZof",
        "outputId": "8c5b9b02-3e17-4efc-b8c2-bfa40e2f46b0"
      },
      "execution_count": null,
      "outputs": [
        {
          "output_type": "stream",
          "name": "stdout",
          "text": [
            "Quanto tempo de casa?: 4\n",
            "Infelizmente não foi possivel lhe promover\n"
          ]
        }
      ]
    },
    {
      "cell_type": "code",
      "source": [
        "# 12 - Aprovar empréstimo (renda e score).\n",
        "\n",
        "renda = float(input(\"Digite sua renda mensal: \"))\n",
        "\n",
        "if renda >= 1000:\n",
        "  score = int(input(\"Digite o seu score: \"))\n",
        "  if score >= 500:\n",
        "    print(\"Seu emprestimo foi aprovado\")\n",
        "  else:\n",
        "    print(\"Seu emprestimo não foi aprovado, score baixo\")\n",
        "\n",
        "else:\n",
        "  print(\"Seu emprestimo não foi aprovado, renda baixa\")"
      ],
      "metadata": {
        "colab": {
          "base_uri": "https://localhost:8080/"
        },
        "id": "QmdnjTYpTm5G",
        "outputId": "0cabdaef-330b-4c28-a78b-7584ee29bfd4"
      },
      "execution_count": null,
      "outputs": [
        {
          "output_type": "stream",
          "name": "stdout",
          "text": [
            "Digite sua renda mensal: 1500\n",
            "Digite o seu score: 900\n",
            "Seu emprestimo foi aprovado\n"
          ]
        }
      ]
    },
    {
      "cell_type": "code",
      "source": [
        "# 13 - Avaliar elegibilidade para home office (função e desempenho).\n",
        "\n",
        "funcao = str(input(\"Digite sua função: \"))\n",
        "\n",
        "if funcao == \"programador\":\n",
        "  desempenho = float(input(\"Digite seu desempenho: \"))\n",
        "  if desempenho > 150:\n",
        "    print(\"Você está liberado para o home office\")\n",
        "  else:\n",
        "    print(\"Sua função é necessario no presencial, home office não está liberado\")\n",
        "\n",
        "else:\n",
        "  print(\"Precisamos de você na empresa\")"
      ],
      "metadata": {
        "colab": {
          "base_uri": "https://localhost:8080/"
        },
        "id": "C7h1woykT5mO",
        "outputId": "0d4fb696-fcb5-418e-b5ce-d43d388d47cb"
      },
      "execution_count": null,
      "outputs": [
        {
          "output_type": "stream",
          "name": "stdout",
          "text": [
            "Digite sua função: supervisor\n",
            "Precisamos de você na empresa\n"
          ]
        }
      ]
    },
    {
      "cell_type": "code",
      "source": [
        "# 14 - Autorizar férias (saldo de dias e data solicitada).\n",
        "\n",
        "funcionario = \"João da Gonçalves\"\n",
        "data_inicio_solicitada = \"10-08-2025\"\n",
        "data_fim_solicitada = \"10-09-2025\"\n",
        "saldo_dias_disponivel = 30\n",
        "\n",
        "dias_solicitados = 30\n",
        "\n",
        "hoje = \"2025-08-08\"\n",
        "\n",
        "if data_inicio_solicitada < hoje:\n",
        "    print(\"Férias rejeitadas: a data de início já passou.\")\n",
        "else:\n",
        "    if dias_solicitados <= 0:\n",
        "        print(\"Férias rejeitadas: número de dias inválido.\")\n",
        "    else:\n",
        "        if dias_solicitados > saldo_dias_disponivel:\n",
        "            print(\"Férias rejeitadas: saldo de dias insuficiente.\")\n",
        "        else:\n",
        "            novo_saldo = saldo_dias_disponivel - dias_solicitados\n",
        "            print(f\"Férias autorizadas para {funcionario}\")\n",
        "            print(f\"Período: {data_inicio_solicitada} a {data_fim_solicitada}\")\n",
        "            print(f\"Dias solicitados: {dias_solicitados}\")\n",
        "            print(f\"Novo saldo de férias: {novo_saldo} dias\")\n"
      ],
      "metadata": {
        "colab": {
          "base_uri": "https://localhost:8080/"
        },
        "id": "f1ViomuwVO6W",
        "outputId": "d4a7dff9-92ab-4902-aba3-7a4aa9f4ec62"
      },
      "execution_count": null,
      "outputs": [
        {
          "output_type": "stream",
          "name": "stdout",
          "text": [
            "Férias rejeitadas: a data de início já passou.\n"
          ]
        }
      ]
    },
    {
      "cell_type": "code",
      "source": [
        "# 15 - Verificar se deve receber bônus (meta batida e comportamento).\n",
        "\n",
        "comportamento = str(input(\"Digite o comportamento do funcionario (bom/mal): \"))\n",
        "meta = 100\n",
        "\n",
        "if comportamento == \"bom\":\n",
        "  meta = float(input(\"Digite a meta do funcionario: \"))\n",
        "  if meta >= 100:\n",
        "    print(\"Bônus liberado\")\n",
        "  else:\n",
        "    print(\"Bônus não liberado, meta não batida\")\n",
        "\n",
        "else:\n",
        "  print(\"Bônus não liberado\")\n",
        "\n",
        "\n",
        "\n"
      ],
      "metadata": {
        "colab": {
          "base_uri": "https://localhost:8080/"
        },
        "id": "xtgJSfFFV7qT",
        "outputId": "1e64a59e-fbdb-490d-95bc-8aee3287fc9f"
      },
      "execution_count": null,
      "outputs": [
        {
          "output_type": "stream",
          "name": "stdout",
          "text": [
            "Digite o comportamento do funcionario (bom/mal): mal\n",
            "Bônus não liberado\n"
          ]
        }
      ]
    },
    {
      "cell_type": "code",
      "source": [
        "# Revisão PROVA\n",
        "\n",
        "import random\n",
        "\n",
        "numero = int(random.randint(1,100))\n",
        "\n",
        "if numero % 2 == 0:\n",
        "  print(f\"O numero {numero} é par\")\n",
        "\n",
        "else:\n",
        "  print(f\"Seu numero {numero} é impar\")\n",
        "  if numero % 3 == 0:\n",
        "    print(\"Seu numero é divisivel por 3\")"
      ],
      "metadata": {
        "colab": {
          "base_uri": "https://localhost:8080/"
        },
        "id": "CuXIy3HUXeIu",
        "outputId": "b697fe6e-7565-4f47-98cc-876460741dfd"
      },
      "execution_count": null,
      "outputs": [
        {
          "output_type": "stream",
          "name": "stdout",
          "text": [
            "O numero 84 é par\n"
          ]
        }
      ]
    },
    {
      "cell_type": "code",
      "source": [],
      "metadata": {
        "id": "DpL0IzsQayDt"
      },
      "execution_count": null,
      "outputs": []
    },
    {
      "cell_type": "markdown",
      "source": [
        "# LISTAS E TUPLAS - Troca de ideias\n",
        "\n",
        "> Listas e tuplas são uma sequencia de objetos\n",
        "\n",
        "LISTAS >> [ ] >>\n",
        "\n",
        "* Dados podem ser alterados\n",
        "* Gasto maior de memoria\n",
        "* Metodos (funções) de modificação\n",
        "\n",
        "Tuplas >> ( )\n",
        "\n",
        "* Dados imutaveis\n",
        "* Gasto menor de memoria\n",
        "* Processamento rapido"
      ],
      "metadata": {
        "id": "_JOE_c1AsJ5g"
      }
    },
    {
      "cell_type": "code",
      "source": [
        "# vamos brincar >> LISTAS\n",
        "\n",
        "listinha1 = [\"a\" , \"b\" , \"c\" , \"d\" , \"e\"]\n",
        "\n",
        "print(f\"listinha >> {listinha1}\")\n",
        "print(f\"Tipo listinha {type(listinha1)}\")\n",
        "print(\"=============\")\n",
        "print(f\"Item listinha >> {listinha1[0]} >>>> {type(listinha1[0])}\")"
      ],
      "metadata": {
        "colab": {
          "base_uri": "https://localhost:8080/"
        },
        "id": "XbegKd6N69x6",
        "outputId": "62b573c8-c4b2-4427-8a2d-0a681d037919"
      },
      "execution_count": null,
      "outputs": [
        {
          "output_type": "stream",
          "name": "stdout",
          "text": [
            "listinha >> ['a', 'b', 'c', 'd', 'e']\n",
            "Tipo listinha <class 'list'>\n",
            "=============\n",
            "Item listinha >> a >>>> <class 'str'>\n"
          ]
        }
      ]
    },
    {
      "cell_type": "code",
      "source": [
        "# Vamos brincar >>> TUPLAS\n",
        "\n",
        "tuplinha1 = (\"a\", \"b\", \"c\", \"d\", \"e\")\n",
        "print(f\"tuplinha >> {tuplinha1}\")\n",
        "print(f\"Tipo tuplinha >>> {type(tuplinha1)}\")\n",
        "print(\"=============\")\n",
        "print(f\"item tupla >> {tuplinha1[1]} >>>>> {type(tuplinha1[1])}\")"
      ],
      "metadata": {
        "colab": {
          "base_uri": "https://localhost:8080/"
        },
        "id": "XWwK2hSH7M7O",
        "outputId": "b6c552ba-38ff-4145-fd57-738f03badd46"
      },
      "execution_count": null,
      "outputs": [
        {
          "output_type": "stream",
          "name": "stdout",
          "text": [
            "tuplinha >> ('a', 'b', 'c', 'd', 'e')\n",
            "Tipo tuplinha >>> <class 'tuple'>\n",
            "=============\n",
            "item tupla >> b >>>>> <class 'str'>\n"
          ]
        }
      ]
    },
    {
      "cell_type": "markdown",
      "source": [
        "# FOR > LOOP > REPETIR MESMA AÇÃO"
      ],
      "metadata": {
        "id": "CTy_XSgw8zEC"
      }
    },
    {
      "cell_type": "code",
      "source": [
        "# FOR\n",
        "\n",
        "import time\n",
        "numeros = [ 10, 11, 12, 13, 14, 15]\n",
        "\n",
        "for x in range(0,5): # Tipo uma definição\n",
        "  time.sleep(2)\n",
        "  print(f\"O x tem valor de {x}\")"
      ],
      "metadata": {
        "colab": {
          "base_uri": "https://localhost:8080/"
        },
        "id": "ZCEbkRIG86dh",
        "outputId": "cc2ee558-544a-4797-afe1-1c7917c89c59"
      },
      "execution_count": null,
      "outputs": [
        {
          "output_type": "stream",
          "name": "stdout",
          "text": [
            "O x tem valor de 0\n",
            "O x tem valor de 1\n",
            "O x tem valor de 2\n",
            "O x tem valor de 3\n",
            "O x tem valor de 4\n"
          ]
        }
      ]
    },
    {
      "cell_type": "code",
      "source": [
        "# FAZENDO A TABUADA\n",
        "\n",
        "import time\n",
        "\n",
        "for numero1 in range(0,11):\n",
        "  time.sleep(2)\n",
        "  print(f\"{numero1} * 2 = {numero1 * 2}\")"
      ],
      "metadata": {
        "colab": {
          "base_uri": "https://localhost:8080/"
        },
        "id": "I-4nI3CU9MPN",
        "outputId": "efcf7ac6-247a-48e5-a089-7c254b395ee2"
      },
      "execution_count": null,
      "outputs": [
        {
          "output_type": "stream",
          "name": "stdout",
          "text": [
            "0 * 2 = 0\n",
            "1 * 2 = 2\n",
            "2 * 2 = 4\n",
            "3 * 2 = 6\n",
            "4 * 2 = 8\n",
            "5 * 2 = 10\n",
            "6 * 2 = 12\n",
            "7 * 2 = 14\n",
            "8 * 2 = 16\n",
            "9 * 2 = 18\n",
            "10 * 2 = 20\n"
          ]
        }
      ]
    },
    {
      "cell_type": "code",
      "source": [
        "# FAZENDO A TABUADA -- SÓ DOS PARES\n",
        "\n",
        "import time\n",
        "\n",
        "for x in range(0,11,2): # Inicio, final, intervalo\n",
        "  time.sleep(2)\n",
        "  print(x * 2)"
      ],
      "metadata": {
        "colab": {
          "base_uri": "https://localhost:8080/"
        },
        "id": "_SIMZqVD9bJE",
        "outputId": "2e264ae1-f2b1-40c5-df32-4c77b9540418"
      },
      "execution_count": null,
      "outputs": [
        {
          "output_type": "stream",
          "name": "stdout",
          "text": [
            "0\n",
            "4\n",
            "8\n",
            "12\n",
            "16\n",
            "20\n"
          ]
        }
      ]
    },
    {
      "cell_type": "code",
      "source": [
        "# TABUADA COMPLETA\n",
        "\n",
        "for x in range(0,6):\n",
        "  time.sleep(4)\n",
        "  print(f\"x = {x}\")\n",
        "  for y in range(0,6):\n",
        "    time.sleep(4)\n",
        "    print(f\"y = {y}\")"
      ],
      "metadata": {
        "colab": {
          "base_uri": "https://localhost:8080/"
        },
        "id": "NL4CigFO-Ts0",
        "outputId": "9c11cbf0-c356-422e-e97d-0ac0924c83f2"
      },
      "execution_count": null,
      "outputs": [
        {
          "output_type": "stream",
          "name": "stdout",
          "text": [
            "x = 0\n",
            "y = 0\n",
            "y = 1\n",
            "y = 2\n",
            "y = 3\n",
            "y = 4\n",
            "y = 5\n",
            "x = 1\n",
            "y = 0\n",
            "y = 1\n",
            "y = 2\n",
            "y = 3\n",
            "y = 4\n",
            "y = 5\n",
            "x = 2\n",
            "y = 0\n",
            "y = 1\n",
            "y = 2\n",
            "y = 3\n",
            "y = 4\n",
            "y = 5\n",
            "x = 3\n",
            "y = 0\n",
            "y = 1\n",
            "y = 2\n",
            "y = 3\n",
            "y = 4\n",
            "y = 5\n",
            "x = 4\n",
            "y = 0\n",
            "y = 1\n",
            "y = 2\n",
            "y = 3\n",
            "y = 4\n",
            "y = 5\n",
            "x = 5\n",
            "y = 0\n",
            "y = 1\n",
            "y = 2\n",
            "y = 3\n",
            "y = 4\n",
            "y = 5\n"
          ]
        }
      ]
    },
    {
      "cell_type": "code",
      "source": [
        "# IMPRIMA OS NUMEROS 0 A 10 USANDO FOR\n",
        "\n",
        "import time\n",
        "\n",
        "for num in range(0,11):\n",
        "  time.sleep(2)\n",
        "  print(num)"
      ],
      "metadata": {
        "colab": {
          "base_uri": "https://localhost:8080/"
        },
        "id": "Y6uF6fu_-oMV",
        "outputId": "ad0ae56a-9bc7-4055-9513-bcb7d3ba8851"
      },
      "execution_count": null,
      "outputs": [
        {
          "output_type": "stream",
          "name": "stdout",
          "text": [
            "0\n",
            "1\n",
            "2\n",
            "3\n",
            "4\n",
            "5\n",
            "6\n",
            "7\n",
            "8\n",
            "9\n",
            "10\n"
          ]
        }
      ]
    },
    {
      "cell_type": "code",
      "source": [
        "# IMPRIMA TODA A TABUADA DO 2 USANDO FOR\n",
        "\n",
        "import time\n",
        "\n",
        "for numero1 in range(0,11):\n",
        "  time.sleep(2)\n",
        "  print(f\"{numero1} x 2 = {numero1 * 2}\")"
      ],
      "metadata": {
        "colab": {
          "base_uri": "https://localhost:8080/"
        },
        "id": "EO5CSFBWBjYm",
        "outputId": "6f1495a5-f847-45e1-930f-da1870262029"
      },
      "execution_count": null,
      "outputs": [
        {
          "output_type": "stream",
          "name": "stdout",
          "text": [
            "0 x 2 = 0\n",
            "1 x 2 = 2\n",
            "2 x 2 = 4\n",
            "3 x 2 = 6\n",
            "4 x 2 = 8\n",
            "5 x 2 = 10\n",
            "6 x 2 = 12\n",
            "7 x 2 = 14\n",
            "8 x 2 = 16\n",
            "9 x 2 = 18\n",
            "10 x 2 = 20\n"
          ]
        }
      ]
    },
    {
      "cell_type": "code",
      "source": [
        "# MOSTRE ODOS OS MULTIPLOS DE 3 DE 0 A 30\n",
        "\n",
        "import time\n",
        "\n",
        "for numero3 in range(0,31):\n",
        "  if numero3 % 3 == 0:\n",
        "    time.sleep(2)\n",
        "    print(numero3)\n"
      ],
      "metadata": {
        "colab": {
          "base_uri": "https://localhost:8080/"
        },
        "id": "GHk7vxZeBy_6",
        "outputId": "a0a89790-b7a8-4056-9d8b-a22de6860267"
      },
      "execution_count": null,
      "outputs": [
        {
          "output_type": "stream",
          "name": "stdout",
          "text": [
            "0\n",
            "3\n",
            "6\n",
            "9\n",
            "12\n",
            "15\n",
            "18\n",
            "21\n",
            "24\n",
            "27\n",
            "30\n"
          ]
        }
      ]
    },
    {
      "cell_type": "code",
      "source": [
        "# MOSTRE A TABUADA DO 0 ATE O 10 DE UM NUMERO DIGITADO PELO USUARIO\n",
        "\n",
        "import time\n",
        "\n",
        "numero = int(input(\"Digite um numero: \"))\n",
        "\n",
        "print(f\"Tabuada do {numero}:\")\n",
        "for n in range(11):\n",
        "  time.sleep(2)\n",
        "  resultado = numero * n\n",
        "  print(f\"{numero} x {n} = {resultado}\")\n",
        "\n"
      ],
      "metadata": {
        "colab": {
          "base_uri": "https://localhost:8080/"
        },
        "id": "alOhusuyCVMl",
        "outputId": "13d3046c-0e8b-4b15-d0fb-67bb0008c372"
      },
      "execution_count": null,
      "outputs": [
        {
          "output_type": "stream",
          "name": "stdout",
          "text": [
            "Digite um número para ver a tabuada: 10\n",
            "Tabuada do 10:\n",
            "10 x 0 = 0\n",
            "10 x 1 = 10\n",
            "10 x 2 = 20\n",
            "10 x 3 = 30\n",
            "10 x 4 = 40\n",
            "10 x 5 = 50\n",
            "10 x 6 = 60\n",
            "10 x 7 = 70\n",
            "10 x 8 = 80\n",
            "10 x 9 = 90\n",
            "10 x 10 = 100\n"
          ]
        }
      ]
    },
    {
      "cell_type": "code",
      "source": [
        "# FAÇA O NUMERO AO QUADRADO DE 0 A 5\n",
        "\n",
        "import time\n",
        "\n",
        "for r in range(6):\n",
        "  time.sleep(2)\n",
        "  print(r, \"Ao quadrado é\", r ** 2)\n",
        "\n"
      ],
      "metadata": {
        "colab": {
          "base_uri": "https://localhost:8080/"
        },
        "id": "PoGTuIyUDTB9",
        "outputId": "d12893a2-c155-4396-f071-8af34b2a716b"
      },
      "execution_count": null,
      "outputs": [
        {
          "output_type": "stream",
          "name": "stdout",
          "text": [
            "0 Ao quadrado é 0\n",
            "1 Ao quadrado é 1\n",
            "2 Ao quadrado é 4\n",
            "3 Ao quadrado é 9\n",
            "4 Ao quadrado é 16\n",
            "5 Ao quadrado é 25\n"
          ]
        }
      ]
    },
    {
      "cell_type": "code",
      "source": [
        " # FAÇA O NUMERO AO QUADRADADO DE 0 A 5\n",
        "\n",
        "import time\n",
        "\n",
        "def r_5():\n",
        "  for r in range(6):\n",
        "    time.sleep(2)\n",
        "    print(r, \"ao quadrado é\", r ** 2)\n",
        "\n",
        "r_5()"
      ],
      "metadata": {
        "colab": {
          "base_uri": "https://localhost:8080/"
        },
        "id": "t5Utl94PE8Z2",
        "outputId": "8b56b9d6-c836-47f2-9309-37b044bda710"
      },
      "execution_count": null,
      "outputs": [
        {
          "output_type": "stream",
          "name": "stdout",
          "text": [
            "0 ao quadrado é 0\n",
            "1 ao quadrado é 1\n",
            "2 ao quadrado é 4\n",
            "3 ao quadrado é 9\n",
            "4 ao quadrado é 16\n",
            "5 ao quadrado é 25\n"
          ]
        }
      ]
    },
    {
      "cell_type": "code",
      "source": [
        "# TABUADA COMPLETA\n",
        "\n",
        "def tabuada_completa():\n",
        "  for x in range(1, 11):\n",
        "    for j in range(1, 11):\n",
        "      print(f\"{x} X {j} = {x * j}\")\n",
        "    print()\n",
        "\n",
        "\n",
        "\n",
        "\n",
        "tabuada_completa()\n",
        "\n"
      ],
      "metadata": {
        "colab": {
          "base_uri": "https://localhost:8080/"
        },
        "id": "j5_egMvDL_sn",
        "outputId": "e3b1c7c2-a1ae-4fe2-8b52-a9b8f50ec245"
      },
      "execution_count": null,
      "outputs": [
        {
          "output_type": "stream",
          "name": "stdout",
          "text": [
            "1 X 1 = 1\n",
            "1 X 2 = 2\n",
            "1 X 3 = 3\n",
            "1 X 4 = 4\n",
            "1 X 5 = 5\n",
            "1 X 6 = 6\n",
            "1 X 7 = 7\n",
            "1 X 8 = 8\n",
            "1 X 9 = 9\n",
            "1 X 10 = 10\n",
            "\n",
            "2 X 1 = 2\n",
            "2 X 2 = 4\n",
            "2 X 3 = 6\n",
            "2 X 4 = 8\n",
            "2 X 5 = 10\n",
            "2 X 6 = 12\n",
            "2 X 7 = 14\n",
            "2 X 8 = 16\n",
            "2 X 9 = 18\n",
            "2 X 10 = 20\n",
            "\n",
            "3 X 1 = 3\n",
            "3 X 2 = 6\n",
            "3 X 3 = 9\n",
            "3 X 4 = 12\n",
            "3 X 5 = 15\n",
            "3 X 6 = 18\n",
            "3 X 7 = 21\n",
            "3 X 8 = 24\n",
            "3 X 9 = 27\n",
            "3 X 10 = 30\n",
            "\n",
            "4 X 1 = 4\n",
            "4 X 2 = 8\n",
            "4 X 3 = 12\n",
            "4 X 4 = 16\n",
            "4 X 5 = 20\n",
            "4 X 6 = 24\n",
            "4 X 7 = 28\n",
            "4 X 8 = 32\n",
            "4 X 9 = 36\n",
            "4 X 10 = 40\n",
            "\n",
            "5 X 1 = 5\n",
            "5 X 2 = 10\n",
            "5 X 3 = 15\n",
            "5 X 4 = 20\n",
            "5 X 5 = 25\n",
            "5 X 6 = 30\n",
            "5 X 7 = 35\n",
            "5 X 8 = 40\n",
            "5 X 9 = 45\n",
            "5 X 10 = 50\n",
            "\n",
            "6 X 1 = 6\n",
            "6 X 2 = 12\n",
            "6 X 3 = 18\n",
            "6 X 4 = 24\n",
            "6 X 5 = 30\n",
            "6 X 6 = 36\n",
            "6 X 7 = 42\n",
            "6 X 8 = 48\n",
            "6 X 9 = 54\n",
            "6 X 10 = 60\n",
            "\n",
            "7 X 1 = 7\n",
            "7 X 2 = 14\n",
            "7 X 3 = 21\n",
            "7 X 4 = 28\n",
            "7 X 5 = 35\n",
            "7 X 6 = 42\n",
            "7 X 7 = 49\n",
            "7 X 8 = 56\n",
            "7 X 9 = 63\n",
            "7 X 10 = 70\n",
            "\n",
            "8 X 1 = 8\n",
            "8 X 2 = 16\n",
            "8 X 3 = 24\n",
            "8 X 4 = 32\n",
            "8 X 5 = 40\n",
            "8 X 6 = 48\n",
            "8 X 7 = 56\n",
            "8 X 8 = 64\n",
            "8 X 9 = 72\n",
            "8 X 10 = 80\n",
            "\n",
            "9 X 1 = 9\n",
            "9 X 2 = 18\n",
            "9 X 3 = 27\n",
            "9 X 4 = 36\n",
            "9 X 5 = 45\n",
            "9 X 6 = 54\n",
            "9 X 7 = 63\n",
            "9 X 8 = 72\n",
            "9 X 9 = 81\n",
            "9 X 10 = 90\n",
            "\n",
            "10 X 1 = 10\n",
            "10 X 2 = 20\n",
            "10 X 3 = 30\n",
            "10 X 4 = 40\n",
            "10 X 5 = 50\n",
            "10 X 6 = 60\n",
            "10 X 7 = 70\n",
            "10 X 8 = 80\n",
            "10 X 9 = 90\n",
            "10 X 10 = 100\n",
            "\n"
          ]
        }
      ]
    },
    {
      "cell_type": "code",
      "source": [
        "# FAÇA UMA PIRAMIDE DE * COM 4 ANDARES\n",
        "\n",
        "for x in range(1,5):\n",
        "  vari = str('*') # calcula a quantidade de espaços à esquerda para centralizar a piramide\n",
        "  espacos = \" \" * (4 - x) # Imprime os espaços + asteristicos (2*x - 1) para formar a piramide\n",
        "  print(espacos + vari * (2 * x - 1))"
      ],
      "metadata": {
        "colab": {
          "base_uri": "https://localhost:8080/"
        },
        "id": "m7QGwEmNNnm3",
        "outputId": "55b8dca5-c960-466e-ae12-4276bffa18b8"
      },
      "execution_count": null,
      "outputs": [
        {
          "output_type": "stream",
          "name": "stdout",
          "text": [
            "   *\n",
            "  ***\n",
            " *****\n",
            "*******\n"
          ]
        }
      ]
    },
    {
      "cell_type": "markdown",
      "source": [
        "# LISTINHA DA FELICIDADE 10 (For)\n"
      ],
      "metadata": {
        "id": "_P-D2BGaS8mI"
      }
    },
    {
      "cell_type": "code",
      "source": [
        "# 1 - Imprima os números de 1 a 10 usando for.\n",
        "\n",
        "import time\n",
        "\n",
        "for num in range(1,11):\n",
        "  time.sleep(1)\n",
        "  print(num)\n"
      ],
      "metadata": {
        "id": "Pb4__7MgRWHe",
        "colab": {
          "base_uri": "https://localhost:8080/"
        },
        "outputId": "c689966d-2fcd-406d-81b5-13ef5e5549de"
      },
      "execution_count": null,
      "outputs": [
        {
          "output_type": "stream",
          "name": "stdout",
          "text": [
            "1\n",
            "2\n",
            "3\n",
            "4\n",
            "5\n",
            "6\n",
            "7\n",
            "8\n",
            "9\n",
            "10\n"
          ]
        }
      ]
    },
    {
      "cell_type": "code",
      "source": [
        "# 2 - Imprima os números pares de 0 a 20.\n",
        "\n",
        "for num1 in range(0,21):\n",
        "  if num1 % 2 == 0:\n",
        "    print(num1)\n"
      ],
      "metadata": {
        "colab": {
          "base_uri": "https://localhost:8080/"
        },
        "id": "gfyUqmw4Tg5E",
        "outputId": "1c47118e-8f60-41f1-d447-2234b2321612"
      },
      "execution_count": null,
      "outputs": [
        {
          "output_type": "stream",
          "name": "stdout",
          "text": [
            "0\n",
            "2\n",
            "4\n",
            "6\n",
            "8\n",
            "10\n",
            "12\n",
            "14\n",
            "16\n",
            "18\n",
            "20\n"
          ]
        }
      ]
    },
    {
      "cell_type": "code",
      "source": [
        "# 3 - Imprima os números ímpares de 1 a 19.\n",
        "\n",
        "for x in range(1,20):\n",
        "  if x % 2 != 0:\n",
        "    print(x)"
      ],
      "metadata": {
        "colab": {
          "base_uri": "https://localhost:8080/"
        },
        "id": "KGm9vNmfID0H",
        "outputId": "5af40828-5593-4f91-909f-b4272a9bbb78"
      },
      "execution_count": null,
      "outputs": [
        {
          "output_type": "stream",
          "name": "stdout",
          "text": [
            "1\n",
            "3\n",
            "5\n",
            "7\n",
            "9\n",
            "11\n",
            "13\n",
            "15\n",
            "17\n",
            "19\n"
          ]
        }
      ]
    },
    {
      "cell_type": "code",
      "source": [
        "# 4 - Imprima todos os múltiplos de 5 de 0 a 50.\n",
        "\n",
        "for i in range(0, 51, 5):\n",
        "  if i % 5 == 0:\n",
        "    print(i)\n"
      ],
      "metadata": {
        "colab": {
          "base_uri": "https://localhost:8080/"
        },
        "id": "Hf4aQtXdInI9",
        "outputId": "18e250a7-dfca-495a-d2c8-ee55cf8775e5"
      },
      "execution_count": null,
      "outputs": [
        {
          "output_type": "stream",
          "name": "stdout",
          "text": [
            "0\n",
            "5\n",
            "10\n",
            "15\n",
            "20\n",
            "25\n",
            "30\n",
            "35\n",
            "40\n",
            "45\n",
            "50\n"
          ]
        }
      ]
    },
    {
      "cell_type": "code",
      "source": [
        "# 5 - Some todos os números de 1 a 100 e exiba o resultado.\n",
        "\n",
        "soma = 0\n",
        "\n",
        "for x in range(1,101):\n",
        "  soma += x\n",
        "\n",
        "print(f\"A soma de 1 a 100 é {soma}\")\n"
      ],
      "metadata": {
        "colab": {
          "base_uri": "https://localhost:8080/"
        },
        "id": "ljwzncHzJLNl",
        "outputId": "7b801abb-4083-48f8-8ab8-f61ca9b84191"
      },
      "execution_count": null,
      "outputs": [
        {
          "output_type": "stream",
          "name": "stdout",
          "text": [
            "A soma de 1 a 100 é 5050\n"
          ]
        }
      ]
    },
    {
      "cell_type": "code",
      "source": [
        "# 6 - Calcule o produto (multiplicação acumulada) dos números de 1 a 5.\n",
        "\n",
        "produto = 1\n",
        "for i in range(1,6):\n",
        "  produto *= i\n",
        "\n",
        "print(f\"A multiplicação é {produto}\")\n"
      ],
      "metadata": {
        "colab": {
          "base_uri": "https://localhost:8080/"
        },
        "id": "DWs3G6hSLBAH",
        "outputId": "0e9b187c-9cab-4bed-c4b3-5df089cbf8b8"
      },
      "execution_count": null,
      "outputs": [
        {
          "output_type": "stream",
          "name": "stdout",
          "text": [
            "A multiplicação é 120\n"
          ]
        }
      ]
    },
    {
      "cell_type": "code",
      "source": [
        "# 7 - Imprima a tabuada do 7.\n",
        "\n",
        "for x in range(0,11):\n",
        "\n",
        "    print(f\"{x} x 7 = {x * 7}\")"
      ],
      "metadata": {
        "colab": {
          "base_uri": "https://localhost:8080/"
        },
        "id": "vqe87fNHMNve",
        "outputId": "98c82a12-96a8-4e04-bdd7-e2b410c08af4"
      },
      "execution_count": null,
      "outputs": [
        {
          "output_type": "stream",
          "name": "stdout",
          "text": [
            "0 x 7 = 0\n",
            "1 x 7 = 7\n",
            "2 x 7 = 14\n",
            "3 x 7 = 21\n",
            "4 x 7 = 28\n",
            "5 x 7 = 35\n",
            "6 x 7 = 42\n",
            "7 x 7 = 49\n",
            "8 x 7 = 56\n",
            "9 x 7 = 63\n",
            "10 x 7 = 70\n"
          ]
        }
      ]
    },
    {
      "cell_type": "code",
      "source": [
        "# 8 - Imprima todas as tabuadas de 1 a 10.\n",
        "\n",
        "def tabuada_completa():\n",
        "  for x in range(1, 11):\n",
        "    for j in range(1, 11):\n",
        "      print(f\"{x} X {j} = {x * j}\")\n",
        "    print()\n",
        "\n",
        "\n",
        "\n",
        "\n",
        "tabuada_completa()"
      ],
      "metadata": {
        "colab": {
          "base_uri": "https://localhost:8080/"
        },
        "collapsed": true,
        "id": "8QdcAaUmMoyv",
        "outputId": "2c9e3f67-bdaa-4448-e868-f9660c1358f0"
      },
      "execution_count": null,
      "outputs": [
        {
          "output_type": "stream",
          "name": "stdout",
          "text": [
            "1 X 1 = 1\n",
            "1 X 2 = 2\n",
            "1 X 3 = 3\n",
            "1 X 4 = 4\n",
            "1 X 5 = 5\n",
            "1 X 6 = 6\n",
            "1 X 7 = 7\n",
            "1 X 8 = 8\n",
            "1 X 9 = 9\n",
            "1 X 10 = 10\n",
            "\n",
            "2 X 1 = 2\n",
            "2 X 2 = 4\n",
            "2 X 3 = 6\n",
            "2 X 4 = 8\n",
            "2 X 5 = 10\n",
            "2 X 6 = 12\n",
            "2 X 7 = 14\n",
            "2 X 8 = 16\n",
            "2 X 9 = 18\n",
            "2 X 10 = 20\n",
            "\n",
            "3 X 1 = 3\n",
            "3 X 2 = 6\n",
            "3 X 3 = 9\n",
            "3 X 4 = 12\n",
            "3 X 5 = 15\n",
            "3 X 6 = 18\n",
            "3 X 7 = 21\n",
            "3 X 8 = 24\n",
            "3 X 9 = 27\n",
            "3 X 10 = 30\n",
            "\n",
            "4 X 1 = 4\n",
            "4 X 2 = 8\n",
            "4 X 3 = 12\n",
            "4 X 4 = 16\n",
            "4 X 5 = 20\n",
            "4 X 6 = 24\n",
            "4 X 7 = 28\n",
            "4 X 8 = 32\n",
            "4 X 9 = 36\n",
            "4 X 10 = 40\n",
            "\n",
            "5 X 1 = 5\n",
            "5 X 2 = 10\n",
            "5 X 3 = 15\n",
            "5 X 4 = 20\n",
            "5 X 5 = 25\n",
            "5 X 6 = 30\n",
            "5 X 7 = 35\n",
            "5 X 8 = 40\n",
            "5 X 9 = 45\n",
            "5 X 10 = 50\n",
            "\n",
            "6 X 1 = 6\n",
            "6 X 2 = 12\n",
            "6 X 3 = 18\n",
            "6 X 4 = 24\n",
            "6 X 5 = 30\n",
            "6 X 6 = 36\n",
            "6 X 7 = 42\n",
            "6 X 8 = 48\n",
            "6 X 9 = 54\n",
            "6 X 10 = 60\n",
            "\n",
            "7 X 1 = 7\n",
            "7 X 2 = 14\n",
            "7 X 3 = 21\n",
            "7 X 4 = 28\n",
            "7 X 5 = 35\n",
            "7 X 6 = 42\n",
            "7 X 7 = 49\n",
            "7 X 8 = 56\n",
            "7 X 9 = 63\n",
            "7 X 10 = 70\n",
            "\n",
            "8 X 1 = 8\n",
            "8 X 2 = 16\n",
            "8 X 3 = 24\n",
            "8 X 4 = 32\n",
            "8 X 5 = 40\n",
            "8 X 6 = 48\n",
            "8 X 7 = 56\n",
            "8 X 8 = 64\n",
            "8 X 9 = 72\n",
            "8 X 10 = 80\n",
            "\n",
            "9 X 1 = 9\n",
            "9 X 2 = 18\n",
            "9 X 3 = 27\n",
            "9 X 4 = 36\n",
            "9 X 5 = 45\n",
            "9 X 6 = 54\n",
            "9 X 7 = 63\n",
            "9 X 8 = 72\n",
            "9 X 9 = 81\n",
            "9 X 10 = 90\n",
            "\n",
            "10 X 1 = 10\n",
            "10 X 2 = 20\n",
            "10 X 3 = 30\n",
            "10 X 4 = 40\n",
            "10 X 5 = 50\n",
            "10 X 6 = 60\n",
            "10 X 7 = 70\n",
            "10 X 8 = 80\n",
            "10 X 9 = 90\n",
            "10 X 10 = 100\n",
            "\n"
          ]
        }
      ]
    },
    {
      "cell_type": "code",
      "source": [
        "# 8 - Conte quantos números de 1 a 50 são múltiplos de 3.\n",
        "\n",
        "for x in range(1,51):\n",
        "  if x % 3 == 0:\n",
        "    print(x)"
      ],
      "metadata": {
        "colab": {
          "base_uri": "https://localhost:8080/"
        },
        "id": "bCIfebK6MwVW",
        "outputId": "b7e5bdae-3f34-474e-c866-15cefe0f1515"
      },
      "execution_count": null,
      "outputs": [
        {
          "output_type": "stream",
          "name": "stdout",
          "text": [
            "3\n",
            "6\n",
            "9\n",
            "12\n",
            "15\n",
            "18\n",
            "21\n",
            "24\n",
            "27\n",
            "30\n",
            "33\n",
            "36\n",
            "39\n",
            "42\n",
            "45\n",
            "48\n"
          ]
        }
      ]
    },
    {
      "cell_type": "code",
      "source": [
        "# 9 - Conte quantos números de 1 a 100 são pares e ímpares.\n",
        "\n",
        "pares = 0\n",
        "impares = 0\n",
        "\n",
        "for x in range(1,101):\n",
        "  if x % 2 ==  0:\n",
        "    pares += 1\n",
        "  else:\n",
        "    impares += 1\n",
        "\n",
        "print(\"Quantidade de números pares:\", {pares})\n",
        "print(\"Quantidade de números ímpares:\", {impares})"
      ],
      "metadata": {
        "colab": {
          "base_uri": "https://localhost:8080/"
        },
        "id": "VUz9xCWANCf2",
        "outputId": "d3b7735a-aea2-46e5-f7d1-cd9ce8b70e4e"
      },
      "execution_count": null,
      "outputs": [
        {
          "output_type": "stream",
          "name": "stdout",
          "text": [
            "Quantidade de números pares: {50}\n",
            "Quantidade de números ímpares: {50}\n"
          ]
        }
      ]
    },
    {
      "cell_type": "code",
      "source": [
        "# 10 - Dada a lista [2, 4, 6, 8, 10], calcule a soma dos elementos.\n",
        "\n",
        "lista = [2, 4, 6, 8, 10]\n",
        "\n",
        "for num in range(2,11):\n",
        "  soma += num\n",
        "\n",
        "print(f\"A soma dos elementos é: {soma}\")\n"
      ],
      "metadata": {
        "colab": {
          "base_uri": "https://localhost:8080/"
        },
        "id": "dRi7LqSMRvjP",
        "outputId": "1eaae2e7-9acb-472d-d23d-4318c98a4a14"
      },
      "execution_count": null,
      "outputs": [
        {
          "output_type": "stream",
          "name": "stdout",
          "text": [
            "A soma dos elementos é: 5104\n"
          ]
        }
      ]
    },
    {
      "cell_type": "code",
      "source": [
        "# 11 - Dada a lista [5, 10, 15, 20], calcule a média.\n",
        "\n",
        "lista = [5, 10, 15, 20]\n",
        "soma = int(0)\n",
        "\n",
        "for x in lista:\n",
        "  soma = x + soma\n",
        "print(soma)\n",
        "\n",
        "print(f\"Media é {soma/4}\")"
      ],
      "metadata": {
        "colab": {
          "base_uri": "https://localhost:8080/"
        },
        "id": "VCHs0JavSsWg",
        "outputId": "10dd3d86-9bd3-4d73-b499-8f01c0627b35"
      },
      "execution_count": null,
      "outputs": [
        {
          "output_type": "stream",
          "name": "stdout",
          "text": [
            "50\n",
            "Media é 12.5\n"
          ]
        }
      ]
    },
    {
      "cell_type": "code",
      "source": [
        "# 12 - Dada a lista [\"maçã\", \"banana\", \"uva\"], imprima cada fruta.\n",
        "\n",
        "frutas = [\"maça\", \"banana\", \"uva\"]\n",
        "\n",
        "for frutas in(frutas):\n",
        "  print(frutas)"
      ],
      "metadata": {
        "colab": {
          "base_uri": "https://localhost:8080/"
        },
        "id": "AfBH8oG6UZQy",
        "outputId": "007ce9b7-63fa-416a-e99e-e9380da3169f"
      },
      "execution_count": null,
      "outputs": [
        {
          "output_type": "stream",
          "name": "stdout",
          "text": [
            "maça\n",
            "banana\n",
            "uva\n"
          ]
        }
      ]
    },
    {
      "cell_type": "code",
      "source": [
        "# 13 - Dada a lista [\"Python\", \"Java\", \"C++\"], imprima a posição e o valor de cada elemento.\n",
        "\n",
        "linguagens = [\"Python\", \"Java\", \"C++\"]\n",
        "posicao = 0\n",
        "\n",
        "for linguagem in linguagens:\n",
        "   print(f\"Posição {posicao}: {linguagem}\")\n",
        "   posicao += 1\n"
      ],
      "metadata": {
        "colab": {
          "base_uri": "https://localhost:8080/"
        },
        "id": "UrxgAwMEU4iH",
        "outputId": "b7a477ba-42a1-464d-9e20-0bfebba35ed8"
      },
      "execution_count": null,
      "outputs": [
        {
          "output_type": "stream",
          "name": "stdout",
          "text": [
            "Posição 0: Python\n",
            "Posição 1: Java\n",
            "Posição 2: C++\n"
          ]
        }
      ]
    },
    {
      "cell_type": "code",
      "source": [
        "lista = [\"Python\", \"Java\", \"C++\"]\n",
        "\n",
        "for x in range(len(lista)):\n",
        "  print(f\"O elemento {lista[x]}, esta na posição {x}\")\n",
        "\n"
      ],
      "metadata": {
        "colab": {
          "base_uri": "https://localhost:8080/"
        },
        "id": "bb4WkRXyYjSW",
        "outputId": "e422c105-232b-4179-cd66-e29c9aae1aab"
      },
      "execution_count": null,
      "outputs": [
        {
          "output_type": "stream",
          "name": "stdout",
          "text": [
            "O elemento Python, esta na posição 0\n",
            "O elemento Java, esta na posição 1\n",
            "O elemento C++, esta na posição 2\n"
          ]
        }
      ]
    },
    {
      "cell_type": "code",
      "source": [
        "# 15 - Conte quantos elementos têm mais de 5 letras na lista [\"carro\", \"bicicleta\", \"ônibus\", \"avião\"].\n",
        "\n",
        "lista = [\"carro\", \"bicicleta\", \"ônibus\", \"avião\"]\n",
        "contador = int(0)\n",
        "for x in lista:\n",
        "  if len(x) > 5:\n",
        "    contador = contador + 1\n",
        "    print(f\"O valor {x} tem mais de 5 letras\")\n",
        "\n",
        "print(f\"No total {contador} tem mais de 5 letras\")\n",
        "\n"
      ],
      "metadata": {
        "colab": {
          "base_uri": "https://localhost:8080/"
        },
        "id": "hnvnrUHmVUrP",
        "outputId": "69fb5aed-9fab-4f4d-9e02-62baff2955ac"
      },
      "execution_count": null,
      "outputs": [
        {
          "output_type": "stream",
          "name": "stdout",
          "text": [
            "O valor bicicleta tem mais de 5 letras\n",
            "O valor ônibus tem mais de 5 letras\n",
            "No total 2 tem mais de 5 letras\n"
          ]
        }
      ]
    },
    {
      "cell_type": "code",
      "source": [
        "# 16 - Some apenas os números pares da lista [3, 6, 8, 11, 14, 17].\n",
        "\n",
        "numeros = [3, 6, 8, 11, 14, 17]\n",
        "\n",
        "soma_pares = 0\n",
        "\n",
        "for num in numeros:\n",
        "  if num % 2 == 0:\n",
        "    soma_pares = soma_pares + num\n",
        "\n",
        "print(soma_pares)\n"
      ],
      "metadata": {
        "colab": {
          "base_uri": "https://localhost:8080/"
        },
        "id": "UVyPhXdi6JzJ",
        "outputId": "4c166f79-4a9f-4e3c-eab5-52d5ee643d9c"
      },
      "execution_count": null,
      "outputs": [
        {
          "output_type": "stream",
          "name": "stdout",
          "text": [
            "28\n"
          ]
        }
      ]
    },
    {
      "cell_type": "code",
      "source": [
        "# 17 - Multiplique cada número da lista [1, 2, 3, 4, 5] por 2 e mostre o resultado.\n",
        "\n",
        "numeros = [1, 2, 3, 4, 5]\n",
        "\n",
        "for num in numeros:\n",
        "  print(num*2)"
      ],
      "metadata": {
        "colab": {
          "base_uri": "https://localhost:8080/"
        },
        "id": "WHBzGx_g7m8d",
        "outputId": "f40911ec-c160-4a66-bc03-7b7edd1b16d2"
      },
      "execution_count": null,
      "outputs": [
        {
          "output_type": "stream",
          "name": "stdout",
          "text": [
            "2\n",
            "4\n",
            "6\n",
            "8\n",
            "10\n"
          ]
        }
      ]
    },
    {
      "cell_type": "code",
      "source": [
        "# 18 - Dada a lista [\"João\", \"Maria\", \"Pedro\"], crie uma nova lista com os nomes em maiúsculo.\n",
        "\n",
        "lista = [\"João\", \"Maria\", \"Pedro\"]\n",
        "\n",
        "for nome in lista:\n",
        "  print(nome.upper())"
      ],
      "metadata": {
        "colab": {
          "base_uri": "https://localhost:8080/"
        },
        "id": "8Ig6KI1x_NAO",
        "outputId": "ab472c1e-9f3b-4163-92d7-bf78fd5ef34e"
      },
      "execution_count": null,
      "outputs": [
        {
          "output_type": "stream",
          "name": "stdout",
          "text": [
            "JOÃO\n",
            "MARIA\n",
            "PEDRO\n"
          ]
        }
      ]
    },
    {
      "cell_type": "code",
      "source": [
        "# 19 - Inverta a ordem de impressão dos elementos de uma lista.\n",
        "\n",
        "lista = [1, 2, 3, 4, 5]\n",
        "\n",
        "for i in range(len(lista)-1, -1, -1):\n",
        "  print(lista[i])"
      ],
      "metadata": {
        "colab": {
          "base_uri": "https://localhost:8080/"
        },
        "id": "oG9E9pMpAUE-",
        "outputId": "a9820393-e4ab-489f-ecb2-a1703627a58b"
      },
      "execution_count": null,
      "outputs": [
        {
          "output_type": "stream",
          "name": "stdout",
          "text": [
            "5\n",
            "4\n",
            "3\n",
            "2\n",
            "1\n"
          ]
        }
      ]
    },
    {
      "cell_type": "code",
      "source": [
        "# DESAFIO\n",
        "\n",
        "# Crie uma lista com 10 numeros\n",
        "# Crie a função soma\n",
        "# Crie a função multiplicação\n",
        "# Some todos os numeros pares\n",
        "# Multiplique todos os numeros impares\n",
        "# se o seu local na lista for impar antes de somar ou multiplicar\n",
        "# Divida o numero por 2\n",
        "\n",
        "\n",
        "\n",
        "\n",
        "lista = [4, 7, 12, 9, 18, 21, 26, 33, 40, 55]\n",
        "\n",
        "def soma(lista):\n",
        "    total = 0\n",
        "    for x in range(len(lista)):\n",
        "        num = lista[x]\n",
        "        if x % 2 != 0:\n",
        "            num = num / 2\n",
        "        if num % 2 == 0:\n",
        "            total = total + num\n",
        "    return total\n",
        "\n",
        "def multiplicacao(lista):\n",
        "    resultado = 1\n",
        "    for y in range(len(lista)):\n",
        "        num = lista[y]\n",
        "        if y % 2 != 0:\n",
        "            num = num / 2\n",
        "        if num % 2 != 0:\n",
        "            resultado = resultado * num\n",
        "    return resultado\n",
        "\n",
        "print(soma(lista))\n",
        "print(multiplicacao(lista))\n",
        "\n",
        "for x in range(4, 55):\n",
        "    print(x)"
      ],
      "metadata": {
        "colab": {
          "base_uri": "https://localhost:8080/"
        },
        "collapsed": true,
        "id": "8CUO69BmcaCw",
        "outputId": "e89ac8bc-522e-45b5-a92c-03a2e280107f"
      },
      "execution_count": null,
      "outputs": [
        {
          "output_type": "stream",
          "name": "stdout",
          "text": [
            "100\n",
            "75038.90625\n",
            "4\n",
            "5\n",
            "6\n",
            "7\n",
            "8\n",
            "9\n",
            "10\n",
            "11\n",
            "12\n",
            "13\n",
            "14\n",
            "15\n",
            "16\n",
            "17\n",
            "18\n",
            "19\n",
            "20\n",
            "21\n",
            "22\n",
            "23\n",
            "24\n",
            "25\n",
            "26\n",
            "27\n",
            "28\n",
            "29\n",
            "30\n",
            "31\n",
            "32\n",
            "33\n",
            "34\n",
            "35\n",
            "36\n",
            "37\n",
            "38\n",
            "39\n",
            "40\n",
            "41\n",
            "42\n",
            "43\n",
            "44\n",
            "45\n",
            "46\n",
            "47\n",
            "48\n",
            "49\n",
            "50\n",
            "51\n",
            "52\n",
            "53\n",
            "54\n"
          ]
        }
      ]
    },
    {
      "cell_type": "code",
      "source": [
        "# 20 - Imprima cada letra da palavra \"Python\".\n",
        "\n",
        "palavra = str(\"python\")\n",
        "\n",
        "for letra in palavra:\n",
        "  print(letra)\n",
        "\n",
        "\n",
        "\n"
      ],
      "metadata": {
        "colab": {
          "base_uri": "https://localhost:8080/"
        },
        "id": "XLUgikhDy7NK",
        "outputId": "9016c126-2047-4a37-eb80-303abca4efff"
      },
      "execution_count": null,
      "outputs": [
        {
          "output_type": "stream",
          "name": "stdout",
          "text": [
            "p\n",
            "y\n",
            "t\n",
            "h\n",
            "o\n",
            "n\n"
          ]
        }
      ]
    },
    {
      "cell_type": "code",
      "source": [
        "# 21 - Conte quantas letras \"a\" existem na palavra \"abacaxi\".\n",
        "\n",
        "palavra = str(\"abacaxi\")\n",
        "contador = 0\n",
        "for x in palavra:\n",
        "  if x == \"a\":\n",
        "    contador += 1\n",
        "\n",
        "print(f\"O total de letras A é: {contador}\")"
      ],
      "metadata": {
        "colab": {
          "base_uri": "https://localhost:8080/"
        },
        "id": "L81h96hI3njq",
        "outputId": "2911bc9a-787c-4ab3-b805-dcb752bea7f9"
      },
      "execution_count": null,
      "outputs": [
        {
          "output_type": "stream",
          "name": "stdout",
          "text": [
            "O total de letras A é: 3\n"
          ]
        }
      ]
    },
    {
      "cell_type": "code",
      "source": [
        "# 22 - Verifique se uma palavra tem alguma vogal.\n",
        "\n",
        "palavra = str(input(\"Digite uma palavra: \"))\n",
        "vogal = \"aeiouAEIOU\"\n",
        "tem_vogal = False\n",
        "\n",
        "for letra in palavra:\n",
        "  if letra in vogal:\n",
        "    tem_vogal = True\n",
        "\n",
        "if tem_vogal:\n",
        "  print(\"Tem vogais\")\n",
        "\n",
        "else:\n",
        "  print(\"Não tem vogais\")"
      ],
      "metadata": {
        "colab": {
          "base_uri": "https://localhost:8080/"
        },
        "id": "P5LeDJgv5jvb",
        "outputId": "980e4dcf-724a-4b8b-a2e9-8675c2b8f2e9"
      },
      "execution_count": null,
      "outputs": [
        {
          "output_type": "stream",
          "name": "stdout",
          "text": [
            "Digite uma palavra: Corinthians\n",
            "Tem vogais\n"
          ]
        }
      ]
    },
    {
      "cell_type": "code",
      "source": [
        "frutas = [\"maça\",\"banana\",\"laranja\"]\n",
        "\n",
        "frutas.append(\"pera\")\n",
        "\n",
        "frutas.insert(4, \"uva\")\n",
        "\n",
        "frutas.remove(\"banana\")\n",
        "\n",
        "fruta_removida = frutas.pop(3)\n",
        "\n",
        "print(fruta_removida)\n",
        "print(frutas)"
      ],
      "metadata": {
        "id": "gXi3lF3uC5XD",
        "colab": {
          "base_uri": "https://localhost:8080/"
        },
        "outputId": "9390ac27-e734-448f-d6fa-998979d9bf2d"
      },
      "execution_count": null,
      "outputs": [
        {
          "output_type": "stream",
          "name": "stdout",
          "text": [
            "uva\n",
            "['maça', 'laranja', 'pera']\n"
          ]
        }
      ]
    },
    {
      "cell_type": "code",
      "source": [
        "numeros = [10, 5, 8, 15, 12, 1, 2]\n",
        "numeros.sort()\n",
        "print(numeros)"
      ],
      "metadata": {
        "colab": {
          "base_uri": "https://localhost:8080/"
        },
        "id": "R2g1jQ6A-y9_",
        "outputId": "c32d8491-fb61-487b-8571-886d700b538a"
      },
      "execution_count": null,
      "outputs": [
        {
          "output_type": "stream",
          "name": "stdout",
          "text": [
            "[1, 2, 5, 8, 10, 12, 15]\n"
          ]
        }
      ]
    },
    {
      "cell_type": "code",
      "source": [
        "numeros = [1, 2, 3, 4, 5]\n",
        "\n",
        "quadrados = [x**2 for x in numeros if x % 2 == 0]\n",
        "\n",
        "print(quadrados)"
      ],
      "metadata": {
        "colab": {
          "base_uri": "https://localhost:8080/"
        },
        "id": "4DB8HNMgnP0t",
        "outputId": "b90d15af-130a-4dc0-f797-63f6f211c989"
      },
      "execution_count": null,
      "outputs": [
        {
          "output_type": "stream",
          "name": "stdout",
          "text": [
            "[4, 16]\n"
          ]
        }
      ]
    },
    {
      "cell_type": "code",
      "source": [
        "texto = str(\"Tenha um bom dia\")\n",
        "texto_for = str(\"\")\n",
        "\n",
        "for x in range(len(texto)):\n",
        "  if texto[x] in \"a,e,i,o,u\":\n",
        "    texto_for += \"ç\"\n",
        "\n",
        "  else:\n",
        "    texto_for += texto[x].upper()\n",
        "print(texto_for)"
      ],
      "metadata": {
        "colab": {
          "base_uri": "https://localhost:8080/"
        },
        "id": "moSgyPq2q7w-",
        "outputId": "b9b12149-d81e-4932-a18e-264c84cc8fb5"
      },
      "execution_count": null,
      "outputs": [
        {
          "output_type": "stream",
          "name": "stdout",
          "text": [
            "TçNHç çM BçM Dçç\n"
          ]
        }
      ]
    },
    {
      "cell_type": "code",
      "source": [
        "# 23 - Inverta uma string usando for.\n",
        "\n",
        "texto = \"Vai corinthians\"\n",
        "invertida = \"\"\n",
        "\n",
        "for letra in texto:\n",
        "  invertida = letra + invertida\n",
        "\n",
        "print(invertida)"
      ],
      "metadata": {
        "colab": {
          "base_uri": "https://localhost:8080/"
        },
        "id": "T_-WCzsSyTE3",
        "outputId": "44cc0c38-6d78-449f-a525-5aa6d3ec001e"
      },
      "execution_count": null,
      "outputs": [
        {
          "output_type": "stream",
          "name": "stdout",
          "text": [
            "snaihtniroc iaV\n"
          ]
        }
      ]
    },
    {
      "cell_type": "code",
      "source": [
        "# 24 - Conte quantas vogais existem na frase \"Hoje o dia está ensolarado\".\n",
        "\n",
        "frase = str(\"Hoje o dia está ensolarado\")\n",
        "vogais = str(\"a,e,i,o,u\")\n",
        "contador = 0\n",
        "\n",
        "for letra in frase:\n",
        "  if letra in vogais:\n",
        "    contador += 1\n",
        "\n",
        "print(f\"Total de vogais é {contador}\")\n"
      ],
      "metadata": {
        "colab": {
          "base_uri": "https://localhost:8080/"
        },
        "id": "I2DiJScDIoV5",
        "outputId": "212493a5-d919-403b-c976-9673d01271cd"
      },
      "execution_count": null,
      "outputs": [
        {
          "output_type": "stream",
          "name": "stdout",
          "text": [
            "Total de vogais é 11\n"
          ]
        }
      ]
    },
    {
      "cell_type": "code",
      "source": [
        "# 25 - Transforme cada letra de uma palavra em maiúscula.\n",
        "\n",
        "palavra = str(\"vai corinthians\")\n",
        "maiuscula = \"\"\n",
        "\n",
        "for letra in palavra:\n",
        "  maiuscula += letra.upper()\n",
        "\n",
        "print(maiuscula)"
      ],
      "metadata": {
        "colab": {
          "base_uri": "https://localhost:8080/"
        },
        "id": "_K0jjWW3Ji4h",
        "outputId": "8ea542bf-e3a8-4c9b-f132-8b2905a20977"
      },
      "execution_count": null,
      "outputs": [
        {
          "output_type": "stream",
          "name": "stdout",
          "text": [
            "VAI CORINTHIANS\n"
          ]
        }
      ]
    },
    {
      "cell_type": "code",
      "source": [
        "# 26 - Crie um programa que substitua todas as vogais por \"*\".\n",
        "\n",
        "frase = str(\"Vai Corinthians\")\n",
        "vogais = str(\"a,e,i,o,u\")\n",
        "resultado = \"\"\n",
        "\n",
        "for letra in texto:\n",
        "  if letra in vogais:\n",
        "    resultado += \"*\"\n",
        "  else:\n",
        "    resultado += letra\n",
        "\n",
        "print(resultado)\n"
      ],
      "metadata": {
        "colab": {
          "base_uri": "https://localhost:8080/"
        },
        "id": "vg2kheHxJ5WJ",
        "outputId": "eb9452c3-35e0-44ed-fe81-c2404bc557e1"
      },
      "execution_count": null,
      "outputs": [
        {
          "output_type": "stream",
          "name": "stdout",
          "text": [
            "V** c*r*nth**ns\n"
          ]
        }
      ]
    },
    {
      "cell_type": "code",
      "source": [
        "# 27 - Verifique se uma palavra é um palíndromo.\n",
        "\n",
        "palavra = str(\"Ana\")\n",
        "palavra = palavra.lower().replace(\" \" , \" \")\n",
        "\n",
        "invertida = \"\"\n",
        "\n",
        "for letra in palavra:\n",
        "  invertida = letra + invertida\n",
        "\n",
        "if palavra == invertida:\n",
        "  print(\"É um palíndromo\")\n",
        "\n",
        "else:\n",
        "  print(\"Não é um palindromo\")"
      ],
      "metadata": {
        "colab": {
          "base_uri": "https://localhost:8080/"
        },
        "id": "uoBqSiXFKfQR",
        "outputId": "ec3a6595-a796-43e9-da3f-9d63ede960a1"
      },
      "execution_count": null,
      "outputs": [
        {
          "output_type": "stream",
          "name": "stdout",
          "text": [
            "É um palíndromo\n"
          ]
        }
      ]
    },
    {
      "cell_type": "code",
      "source": [
        "# 28 - Conte quantas palavras há em uma frase.\n",
        "\n",
        "frase = str(\"Vai Corinthians, Palmeiras não tem mundial\")\n",
        "\n",
        "palavras = frase.split()\n",
        "\n",
        "quantidade = len(palavras)\n",
        "\n",
        "print(f\"O total de palavras é {quantidade}\")"
      ],
      "metadata": {
        "colab": {
          "base_uri": "https://localhost:8080/"
        },
        "id": "lIeGGMn5LLVi",
        "outputId": "c51976a1-a61a-43e2-a168-d4eb6fd25aa0"
      },
      "execution_count": null,
      "outputs": [
        {
          "output_type": "stream",
          "name": "stdout",
          "text": [
            "O total de palavras é 6\n"
          ]
        }
      ]
    },
    {
      "cell_type": "code",
      "source": [
        "# 29 - Encontre a letra mais usada em uma frase.\n",
        "\n",
        "frase = str(\"Vai Corinthians\")\n",
        "\n",
        "frase = frase.lower()\n",
        "\n",
        "frequencia = {}\n",
        "\n",
        "for letra in frase:\n",
        "  if letra.isalpha():\n",
        "    if letra in frequencia:\n",
        "      frequencia[letra] += 1\n",
        "    else:\n",
        "      frequencia[letra] = 1\n",
        "\n",
        "mais_usada = \"\"\n",
        "maior_freq = 0\n",
        "\n",
        "for letra, freq in frequencia.items():\n",
        "  if freq > maior_freq:\n",
        "    maior_freq = freq\n",
        "    mais_usada = letra\n",
        "\n",
        "print(f\"A letra mais usada é {mais_usada} com maior frequencia {maior_freq}\")"
      ],
      "metadata": {
        "colab": {
          "base_uri": "https://localhost:8080/"
        },
        "id": "7KszC_mGLsCZ",
        "outputId": "90472033-61f7-42aa-f838-03c843acac69"
      },
      "execution_count": null,
      "outputs": [
        {
          "output_type": "stream",
          "name": "stdout",
          "text": [
            "A letra mais usada é i com maior frequencia 3\n"
          ]
        }
      ]
    },
    {
      "cell_type": "code",
      "source": [
        "# 30 - Liste todos os divisores de um número.\n",
        "\n",
        "numero = 36\n",
        "\n",
        "divisores = []\n",
        "\n",
        "for i in range(1, numero + 1):\n",
        "  if numero % i == 0:\n",
        "    divisores.append(i)\n",
        "\n",
        "print(f\"Divisores {numero}: {divisores}\")\n"
      ],
      "metadata": {
        "colab": {
          "base_uri": "https://localhost:8080/"
        },
        "id": "f6eBQGUHNCYB",
        "outputId": "9f0177ec-fdb8-469c-c611-35a7c4918add"
      },
      "execution_count": null,
      "outputs": [
        {
          "output_type": "stream",
          "name": "stdout",
          "text": [
            "Divisores 36: [1, 2, 3, 4, 6, 9, 12, 18, 36]\n"
          ]
        }
      ]
    },
    {
      "cell_type": "code",
      "source": [
        "# 31 - Verifique se um número é primo.\n",
        "\n",
        "numero = int(input(\"Digite um numero: \"))\n",
        "\n",
        "if numero <= 1:\n",
        "  print(f\"{numero} não é primo\")\n",
        "else:\n",
        "  primo = True\n",
        "  for i in range(2, numero):\n",
        "    if numero % i == 0:\n",
        "      primo = False\n",
        "      break\n",
        "\n",
        "\n",
        "  if primo:\n",
        "    print(f\"{numero} é primo\")\n",
        "  else:\n",
        "    print(f\"{numero} não é primo\")"
      ],
      "metadata": {
        "colab": {
          "base_uri": "https://localhost:8080/"
        },
        "id": "6jsk85iMNsty",
        "outputId": "6a5993f9-5bd8-4861-a2ee-10082a447354"
      },
      "execution_count": null,
      "outputs": [
        {
          "output_type": "stream",
          "name": "stdout",
          "text": [
            "Digite um numero: 5\n",
            "5 é primo\n"
          ]
        }
      ]
    },
    {
      "cell_type": "code",
      "source": [
        "# 32 - Exiba os 10 primeiros números da sequência de Fibonacci.\n",
        "\n",
        "n = 10\n",
        "\n",
        "a, b = 0, 1\n",
        "\n",
        "for _ in range(n):\n",
        "  print(a, end=\"\")\n",
        "  a, b = b, a + b"
      ],
      "metadata": {
        "colab": {
          "base_uri": "https://localhost:8080/"
        },
        "id": "PlPXCYW4OcWy",
        "outputId": "4f9a981a-70ee-4dcc-c9fb-b13b99233f50"
      },
      "execution_count": null,
      "outputs": [
        {
          "output_type": "stream",
          "name": "stdout",
          "text": [
            "0112358132134"
          ]
        }
      ]
    },
    {
      "cell_type": "code",
      "source": [
        "# 33 - Some todos os números primos até 100.\n",
        "\n"
      ],
      "metadata": {
        "id": "xID63ktrPBgi"
      },
      "execution_count": null,
      "outputs": []
    },
    {
      "cell_type": "code",
      "source": [
        "frutas = {\"maça\",\"Banana\",\"Laranja\"}\n",
        "\n",
        "frutas.clear()\n",
        "print(frutas)"
      ],
      "metadata": {
        "colab": {
          "base_uri": "https://localhost:8080/"
        },
        "id": "SDI2f-uT_wDS",
        "outputId": "5af80847-ce7b-4d81-baa9-1e41134c4bb9"
      },
      "execution_count": null,
      "outputs": [
        {
          "output_type": "stream",
          "name": "stdout",
          "text": [
            "set()\n"
          ]
        }
      ]
    },
    {
      "cell_type": "code",
      "source": [
        "numero = 6\n",
        "\n",
        "if numero % 2 == 0:\n",
        "  resultado = \"par\"\n",
        "\n",
        "else:\n",
        "  resultado = \"impar\"\n",
        "\n",
        "print(resultado)"
      ],
      "metadata": {
        "colab": {
          "base_uri": "https://localhost:8080/"
        },
        "id": "h7nzc0hs_22n",
        "outputId": "5dd9dd76-6639-4841-d3c7-225125a7a6ca"
      },
      "execution_count": null,
      "outputs": [
        {
          "output_type": "stream",
          "name": "stdout",
          "text": [
            "par\n"
          ]
        }
      ]
    },
    {
      "cell_type": "code",
      "source": [
        "def multiplicar (a,b):\n",
        "  return a*b\n",
        "\n",
        "resultado = multiplicar (5,3) + multiplicar (2,4)"
      ],
      "metadata": {
        "id": "efYCZNtcCWzQ"
      },
      "execution_count": null,
      "outputs": []
    },
    {
      "cell_type": "code",
      "source": [
        "# VAMOS BRINCAR CARA OU COROA DE MELHOR DE 3\n",
        "\n",
        "import random\n",
        "\n",
        "\n",
        "\n",
        "jogador = int(0)\n",
        "computador = int(0)\n",
        "\n",
        "while True:\n",
        "\n",
        "  if jogador == 3:\n",
        "    print(\"Jogador ganhou\")\n",
        "    break\n",
        "  if computador == 3:\n",
        "    print(\"Computador ganhou\")\n",
        "    break"
      ],
      "metadata": {
        "id": "hTvu5Uj1CwxX"
      },
      "execution_count": null,
      "outputs": []
    },
    {
      "cell_type": "code",
      "source": [
        "import random\n",
        "\n",
        "jogador = 0\n",
        "computador = 0\n",
        "\n",
        "print(\"Vamos jogar Cara ou Coroa! Melhor de 3 vitórias.\\n\")\n",
        "\n",
        "while True:\n",
        "    if jogador == 3:\n",
        "        print(\"\\n🏆 Jogador venceu o jogo!\")\n",
        "        break\n",
        "    if computador == 3:\n",
        "        print(\"\\n💻 Computador venceu o jogo!\")\n",
        "        break\n",
        "\n",
        "    escolha = input(\"Escolha 'cara' ou 'coroa': \").strip().lower()\n",
        "    if escolha not in ['cara', 'coroa']:\n",
        "        print(\"Escolha inválida! Digite 'cara' ou 'coroa'.\\n\")\n",
        "        continue\n",
        "\n",
        "    moeda = random.choice(['cara', 'coroa'])\n",
        "    print(f\"A moeda caiu: {moeda}\")\n",
        "\n",
        "    if escolha == moeda:\n",
        "        jogador += 1\n",
        "        print(\"✅ Você ganhou essa rodada!\")\n",
        "    else:\n",
        "        computador += 1\n",
        "        print(\"❌ O computador ganhou essa rodada!\")\n",
        "\n",
        "    print(f\"Placar: Jogador {jogador} x {computador} Computador\\n\")"
      ],
      "metadata": {
        "colab": {
          "base_uri": "https://localhost:8080/"
        },
        "id": "cTCDqBtR6w00",
        "outputId": "57f3b6a3-b959-422c-df77-86392d74b4b6"
      },
      "execution_count": null,
      "outputs": [
        {
          "output_type": "stream",
          "name": "stdout",
          "text": [
            "Vamos jogar Cara ou Coroa! Melhor de 3 vitórias.\n",
            "\n",
            "Escolha 'cara' ou 'coroa': cara\n",
            "A moeda caiu: coroa\n",
            "❌ O computador ganhou essa rodada!\n",
            "Placar: Jogador 0 x 1 Computador\n",
            "\n",
            "Escolha 'cara' ou 'coroa': cora\n",
            "Escolha inválida! Digite 'cara' ou 'coroa'.\n",
            "\n",
            "Escolha 'cara' ou 'coroa': cara\n",
            "A moeda caiu: cara\n",
            "✅ Você ganhou essa rodada!\n",
            "Placar: Jogador 1 x 1 Computador\n",
            "\n",
            "Escolha 'cara' ou 'coroa': coroa\n",
            "A moeda caiu: coroa\n",
            "✅ Você ganhou essa rodada!\n",
            "Placar: Jogador 2 x 1 Computador\n",
            "\n",
            "Escolha 'cara' ou 'coroa': cara\n",
            "A moeda caiu: cara\n",
            "✅ Você ganhou essa rodada!\n",
            "Placar: Jogador 3 x 1 Computador\n",
            "\n",
            "\n",
            "🏆 Jogador venceu o jogo!\n"
          ]
        }
      ]
    },
    {
      "cell_type": "code",
      "source": [
        "# MONTE UM MENU\n",
        "# ESCOLHA ENTRE CAFE, ALMOÇO OU JANTAR\n",
        "# CRIE 2 PRATOS PARA CADA OPÇÃO\n",
        "# COLOQUE O PREÇO\n",
        "# FAÇA A CONTA FINAL\n",
        "# ADICIONE OS 10%\n",
        "# DE A OCPÇÃO DE PAGAR A TAXA OU NÃO\n",
        "# FORMA DE PAGAMENTO\n",
        "# SE DINHEIRO OU PIX DESCONTO DE 5%"
      ],
      "metadata": {
        "id": "qezmDLWQPqSq"
      },
      "execution_count": null,
      "outputs": []
    },
    {
      "cell_type": "code",
      "source": [
        "# Faça uma calculadora\n",
        "# Com as 4 operações primarias\n",
        "# O USUARIO DESEJA CONTINUAR A CONTA\n",
        "\n",
        "numero1 = float(0)\n",
        "numero2 = float(0)\n",
        "\n",
        "while True:\n",
        "  operacao = str(input(\"Digite a operação desejada: \"))\n",
        "  if operacao == \"sair\":\n",
        "    break\n",
        "  numero1 = float(input(\"Digite o primeiro numero: \"))\n",
        "  numero2 = float(input(\"Digite o primeiro numero: \"))\n",
        "  if operacao == \"+\":\n",
        "    resultado = numero1 + numero2\n",
        "    print(f\"O resultado é {resultado}\")\n",
        "  elif operacao == \"-\":\n",
        "    resultado = numero1 - numero2\n",
        "    print(f\"o resultado é {resultado}\")\n",
        "  elif operacao == \"*\":\n",
        "    resultado = numero1 * numero2\n",
        "    print(f\"o resultado é {resultado}\")\n",
        "  elif operacao == \"/\":\n",
        "    resultado = numero1 / numero2\n",
        "    print(f\"O resultado é {resultado}\")"
      ],
      "metadata": {
        "colab": {
          "base_uri": "https://localhost:8080/"
        },
        "id": "VOK-HUOr6x81",
        "outputId": "9915716f-c1c6-4fe2-aab6-a9ada3584ff1"
      },
      "execution_count": null,
      "outputs": [
        {
          "name": "stdout",
          "output_type": "stream",
          "text": [
            "Digite a operação desejada: /\n",
            "Digite o primeiro numero: 10\n",
            "Digite o primeiro numero: 53\n",
            "O resultado é 0.18867924528301888\n",
            "Digite a operação desejada: sair\n"
          ]
        }
      ]
    },
    {
      "cell_type": "code",
      "source": [
        "# FAÇA UM VERIFICADOR DE SENHA\n",
        "# Criptografe a senha\n",
        "\n",
        "senha = str(input(\"Digite a senha: \"))\n",
        "senha_criptografada = \"\"\n",
        "\n",
        "for letra in senha:\n",
        "  codigo2 = ord(letra)\n",
        "  codigo = codigo2 + 1\n",
        "  senha2 = chr(codigo)\n",
        "  senha_criptografada += senha2\n",
        "\n",
        "print(senha_criptografada)\n",
        "\n",
        "\n"
      ],
      "metadata": {
        "colab": {
          "base_uri": "https://localhost:8080/"
        },
        "id": "y3PIlb_1RIvF",
        "outputId": "29bae188-f3a8-4619-e246-5c1a72580757"
      },
      "execution_count": null,
      "outputs": [
        {
          "output_type": "stream",
          "name": "stdout",
          "text": [
            "Digite a senha: 123456789456132\n",
            "23456789:567243\n"
          ]
        }
      ]
    },
    {
      "cell_type": "code",
      "source": [
        "usuario = str(input(\"Digite o seu usario: \"))\n",
        "\n",
        "def saudacao(mensagem):\n",
        "  print(mensagem)\n",
        "\n",
        "saudacao(f\"Bom dia usuario {usuario}\")"
      ],
      "metadata": {
        "id": "0Y9IMkRtffuR",
        "colab": {
          "base_uri": "https://localhost:8080/"
        },
        "outputId": "f5d87089-77d9-440a-a9ff-0fb6a241eb5e"
      },
      "execution_count": null,
      "outputs": [
        {
          "output_type": "stream",
          "name": "stdout",
          "text": [
            "Digite o seu usario: Joao\n",
            "Bom dia usuario Joao\n"
          ]
        }
      ]
    },
    {
      "cell_type": "code",
      "source": [
        "def saudacao():\n",
        "  nome = str(input(\"Digite seu nome: \"))\n",
        "  print(f\"Bom dia {nome}\")\n",
        "\n",
        "saudacao()"
      ],
      "metadata": {
        "colab": {
          "base_uri": "https://localhost:8080/"
        },
        "id": "L0pSyomIFdKw",
        "outputId": "761dad7c-d691-4c8b-cf5a-861f388fb982"
      },
      "execution_count": null,
      "outputs": [
        {
          "output_type": "stream",
          "name": "stdout",
          "text": [
            "Digite seu nome: Joao\n",
            "Bom dia Joao\n"
          ]
        }
      ]
    },
    {
      "cell_type": "code",
      "source": [
        "a = \"moon\"\n",
        "b = \"guide\"\n",
        "c = \"honey\"\n",
        "\n",
        "print(a + c)"
      ],
      "metadata": {
        "id": "58IPH9NKIzYw",
        "colab": {
          "base_uri": "https://localhost:8080/"
        },
        "outputId": "9c75c4f0-f7a7-45ec-8e8f-0c065deb1222"
      },
      "execution_count": null,
      "outputs": [
        {
          "output_type": "stream",
          "name": "stdout",
          "text": [
            "moonhoney\n"
          ]
        }
      ]
    },
    {
      "cell_type": "code",
      "source": [
        "def escolha (tuplaa:tuple):\n",
        "  for x in range(0, len(tuplaa)):\n",
        "    print(f\"{x} - {tuplaa[x]}\")\n",
        "  opcao = int(input(\"Selecione a sua opção !\"))\n",
        "  print(f\"A sua opção foi {tuplaa[opcao]}\")\n",
        "\n",
        "tuplinha = (\"Feijao\", \"macarra\", \"carninha\", \"salada\")"
      ],
      "metadata": {
        "id": "6PwLmUz8244T"
      },
      "execution_count": null,
      "outputs": []
    },
    {
      "cell_type": "code",
      "source": [
        "def adicao():\n",
        "  print(lista_legume)\n",
        "  novo = str(input(\"Insira o novo item: \"))\n",
        "  lista_legume.append(novo)\n",
        "  print(lista_legume)\n",
        "\n",
        "lista_legume = [\"feijao\", \"arroz\", \"cebola\"]"
      ],
      "metadata": {
        "id": "HOBcWeG3H5ss"
      },
      "execution_count": null,
      "outputs": []
    },
    {
      "cell_type": "code",
      "source": [
        "a = \"lua\"\n",
        "b = \" de \"\n",
        "c = \"mel\"\n",
        "print(a + b + c)"
      ],
      "metadata": {
        "colab": {
          "base_uri": "https://localhost:8080/"
        },
        "id": "H3Rf4l-1IMTb",
        "outputId": "ff8a8b83-fc8f-4f09-f4cf-8e3c38603914"
      },
      "execution_count": null,
      "outputs": [
        {
          "output_type": "stream",
          "name": "stdout",
          "text": [
            "lua de mel\n"
          ]
        }
      ]
    },
    {
      "cell_type": "code",
      "source": [],
      "metadata": {
        "id": "JPmScPGBAeOy"
      },
      "execution_count": null,
      "outputs": []
    }
  ]
}